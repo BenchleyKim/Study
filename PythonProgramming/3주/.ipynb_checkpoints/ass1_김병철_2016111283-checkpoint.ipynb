{
 "cells": [
  {
   "cell_type": "markdown",
   "metadata": {},
   "source": [
    "## 파이썬프로그래밍 - 과제 1\n",
    "\n",
    "#### 제출 일 : 2021. 03. 26 (금)\n",
    "\n",
    "#### 배점 : 전체 성적에서 5% \n",
    "\n",
    "#### 제출방법 :\n",
    "\n",
    "1. **jupyter notebook** 으로 제출해야 합니다. 이 주피터노트북에 이어서 과제를 진행하세요. 단, 제출하는 주피터노트북 파일명을 `ass1_이름_학번.ipynb` 으로 하세요 (예, \"ass1_성춘향_2018xxxxxx.ipynb\"). \n",
    "2. 제출물 상단에 이름, 학번을 다시 기재합니다.  \n",
    "3. 여러분이 제출한 노트북을 실행하면 제출한 그 상태에서 그대로 실행되어야 합니다. \n",
    "\n",
    "\n",
    "#### <span style='color:crimson'>이 과제는 혼자 하는 것입니다. 다른 사람의 것을 카피하면 점수 못 받습니다</span>  \n",
    "\n",
    "--------------------------\n",
    "\n",
    "### 과제 :\n",
    "\n",
    "교재 3장 연습문제들 중 3의 배수 문제들 (3, 6 . . . ,  30)\n",
    "\n"
   ]
  },
  {
   "cell_type": "markdown",
   "metadata": {},
   "source": [
    "##### 3.3"
   ]
  },
  {
   "cell_type": "code",
   "execution_count": 3,
   "metadata": {},
   "outputs": [
    {
     "name": "stdout",
     "output_type": "stream",
     "text": [
      "나이를 입력하시오 : 16\n",
      "키를 입력하시오(단위 cm) : 162\n",
      "입장할 수 없습니다.\n"
     ]
    }
   ],
   "source": [
    "# 위 문제에 대한 답 또는 코딩 :\n",
    "age = int(input(\"나이를 입력하시오 : \"))\n",
    "height = int(input(\"키를 입력하시오(단위 cm) : \"))\n",
    "if age >= 19 and height >= 150  :\n",
    "    print(\"입장할 수 있습니다.\")\n",
    "else : print(\"입장할 수 없습니다.\")"
   ]
  },
  {
   "cell_type": "markdown",
   "metadata": {},
   "source": [
    "##### 3.6"
   ]
  },
  {
   "cell_type": "code",
   "execution_count": 9,
   "metadata": {},
   "outputs": [
    {
     "name": "stdout",
     "output_type": "stream",
     "text": [
      "세 정수를 입력하시오.3 1 4\n",
      "1 3 4\n"
     ]
    }
   ],
   "source": [
    "a, b, c = map(int, input(\"세 정수를 입력하시오.\").split())\n",
    "if a > b :\n",
    "    if b > c :\n",
    "        print(c,b,a)\n",
    "    elif c > a : \n",
    "        print(b,a,c)\n",
    "    else :\n",
    "        print(b,c,a)\n",
    "else :\n",
    "    if a > c :\n",
    "        print(c,a,b)\n",
    "    elif c > b :\n",
    "        print(a,b,c)\n",
    "    else : \n",
    "        print(a,c,b)"
   ]
  },
  {
   "cell_type": "markdown",
   "metadata": {},
   "source": [
    "#### 3.9"
   ]
  },
  {
   "cell_type": "code",
   "execution_count": 12,
   "metadata": {
    "scrolled": true
   },
   "outputs": [
    {
     "name": "stdout",
     "output_type": "stream",
     "text": [
      "정수를 입력하시오. : 15\n",
      "15는(은) 2(으)로 나누어지지 않습니다. \n",
      "15는(은) 3(으)로 나누어집니다. \n",
      "15는(은) 2와(과) 3 모두로 나누어지지 않습니다. \n"
     ]
    }
   ],
   "source": [
    "n = int(input(\"정수를 입력하시오. : \"))\n",
    "if n % 2 == 0 :\n",
    "    print(\"%d는(은) 2(으)로 나누어집니다. \"%(n))\n",
    "else : print(\"%d는(은) 2(으)로 나누어지지 않습니다. \"%(n))\n",
    "if n % 3 == 0 :\n",
    "    print(\"%d는(은) 3(으)로 나누어집니다. \"%(n))\n",
    "else : print(\"%d는(은) 3(으)로 나누어지지 않습니다. \"%(n))\n",
    "if n % 2 == 0 and n%3 == 0 :\n",
    "    print(\"%d는(은) 2와(과) 3 모두로 나누어집니다. \"%(n))\n",
    "else : print(\"%d는(은) 2와(과) 3 모두로 나누어지지 않습니다. \"%(n))\n"
   ]
  },
  {
   "cell_type": "markdown",
   "metadata": {},
   "source": [
    "#### 3.12"
   ]
  },
  {
   "cell_type": "code",
   "execution_count": 17,
   "metadata": {
    "scrolled": true
   },
   "outputs": [
    {
     "name": "stdout",
     "output_type": "stream",
     "text": [
      "점의 좌표 x,y를 입력하시오. : 7 9\n",
      "원의 외부에 있음\n"
     ]
    }
   ],
   "source": [
    "x,y = map(int, input(\"점의 좌표 x,y를 입력하시오. : \").split())\n",
    "if (x**2 + y **2) <= 25 :\n",
    "    print(\"원의 내부에 있음\")\n",
    "else :\n",
    "    print(\"원의 외부에 있음\")"
   ]
  },
  {
   "cell_type": "markdown",
   "metadata": {},
   "source": [
    "#### 3.15"
   ]
  },
  {
   "cell_type": "code",
   "execution_count": 18,
   "metadata": {
    "scrolled": true
   },
   "outputs": [
    {
     "name": "stdout",
     "output_type": "stream",
     "text": [
      "2 * 1 = 2\n",
      "2 * 2 = 4\n",
      "2 * 3 = 6\n",
      "2 * 4 = 8\n",
      "2 * 5 = 10\n",
      "2 * 6 = 12\n",
      "2 * 7 = 14\n",
      "2 * 8 = 16\n",
      "2 * 9 = 18\n"
     ]
    }
   ],
   "source": [
    "for i in range(1,10) :\n",
    "    print(\"2 * %d = %d\" % (i, 2*i))"
   ]
  },
  {
   "cell_type": "markdown",
   "metadata": {},
   "source": [
    "#### 3.18"
   ]
  },
  {
   "cell_type": "code",
   "execution_count": null,
   "metadata": {},
   "outputs": [],
   "source": [
    "print(\"맛나 식당에 오신 것을 환영합니다. 메뉴는 다음과 같습니다. \")\n",
    "print(\"1) 햄버거 \")\n",
    "print(\"2) 치킨 \")\n",
    "print(\"3) 피자 \")\n",
    "menu = int(input(\"1에서 3까지의 메뉴를 선택하세요 : \"))\n",
    "while menu not in [1,2,3] :\n",
    "    menu = int(input(\"메뉴를 다시 입력하세요: \"))\n",
    "menu_list = {1 : \"햄버거\", 2: \"치킨\", 3: \"피자\"}\n",
    "print(menu_list[menu] + \"을 선택하였습니다.\")"
   ]
  },
  {
   "cell_type": "markdown",
   "metadata": {},
   "source": [
    "#### 3.21"
   ]
  },
  {
   "cell_type": "code",
   "execution_count": 33,
   "metadata": {},
   "outputs": [
    {
     "name": "stdout",
     "output_type": "stream",
     "text": [
      "숫자를 입력하세요 : 9\n",
      "9는 소수가 아닙니다.\n"
     ]
    }
   ],
   "source": [
    "n = int(input(\"숫자를 입력하세요 : \"))\n",
    "prime_check = [True] *(n+1)\n",
    "flag = True\n",
    "for i in range(2,int(n**(1/2))+1) :\n",
    "    if prime_check[i] :\n",
    "        for j in range(i+i, n+1, i) :\n",
    "            if j ==  n :\n",
    "                flag = False\n",
    "                break\n",
    "            prime_check[j] = False \n",
    "    if not flag :\n",
    "        print(\"%d는 소수가 아닙니다.\" % (n))\n",
    "        break\n",
    "if flag :\n",
    "    print(\"%d는 소수입니다.\" % (n))\n",
    "\n",
    "        \n",
    "    "
   ]
  },
  {
   "cell_type": "markdown",
   "metadata": {},
   "source": [
    "#### 3.24"
   ]
  },
  {
   "cell_type": "code",
   "execution_count": 38,
   "metadata": {},
   "outputs": [
    {
     "name": "stdout",
     "output_type": "stream",
     "text": [
      "1000\n",
      "1.6439345666815615\n"
     ]
    }
   ],
   "source": [
    "n = int(input())\n",
    "s = 0\n",
    "for i in range(1,n+1) :\n",
    "    s += (1/i)**2\n",
    "print(s)"
   ]
  },
  {
   "cell_type": "markdown",
   "metadata": {},
   "source": [
    "#### 3.27"
   ]
  },
  {
   "cell_type": "code",
   "execution_count": 42,
   "metadata": {},
   "outputs": [
    {
     "name": "stdout",
     "output_type": "stream",
     "text": [
      "세 자리의 암스트롱 수 : 153 370 371 407 "
     ]
    }
   ],
   "source": [
    "print(\"세 자리의 암스트롱 수 : \", end= '')\n",
    "for i in range(100,1000) :\n",
    "    d1 = i // 100\n",
    "    d2 = (i%100) // 10 \n",
    "    d3 = i%10\n",
    "    if (d1 ** 3 + d2 ** 3 + d3 ** 3 ) == i :\n",
    "        print(i,end=' ')"
   ]
  },
  {
   "cell_type": "markdown",
   "metadata": {},
   "source": [
    "#### 3.30"
   ]
  },
  {
   "cell_type": "code",
   "execution_count": 54,
   "metadata": {},
   "outputs": [
    {
     "name": "stdout",
     "output_type": "stream",
     "text": [
      "1)덧셈  2)뺄셈  3)곱셈  4)나눗셈\n",
      "어떤 연산을 원하는지 번호를 입력하세요 : 6\n",
      "잘못 입력하였습니다.\n"
     ]
    }
   ],
   "source": [
    "print(\"1)덧셈  2)뺄셈  3)곱셈  4)나눗셈\")\n",
    "cal_list = {1:\"+\", 2:\"-\", 3:'*',4:'/'}\n",
    "cal = int(input(\"어떤 연산을 원하는지 번호를 입력하세요 : \"))\n",
    "if cal not in cal_list.keys() :\n",
    "    print(\"잘못 입력하였습니다.\")\n",
    "else :\n",
    "    print(\"연산을 원하는 숫자 두개를 입력하세요\")\n",
    "    a = int(input())\n",
    "    b = int(input())\n",
    "    result = 2\n",
    "    if cal == 1 : \n",
    "        result = a + b\n",
    "    elif cal == 2 :\n",
    "        result = a - b\n",
    "    elif cal == 3:\n",
    "        result = a * b\n",
    "    elif cal == 4 :\n",
    "        result = float(a) / float(b)\n",
    "    print(\"%d %s %d = %.2f\" %(a,cal_list[cal], b, result))"
   ]
  }
 ],
 "metadata": {
  "kernelspec": {
   "display_name": "Python 3",
   "language": "python",
   "name": "python3"
  },
  "language_info": {
   "codemirror_mode": {
    "name": "ipython",
    "version": 3
   },
   "file_extension": ".py",
   "mimetype": "text/x-python",
   "name": "python",
   "nbconvert_exporter": "python",
   "pygments_lexer": "ipython3",
   "version": "3.8.5"
  }
 },
 "nbformat": 4,
 "nbformat_minor": 4
}
