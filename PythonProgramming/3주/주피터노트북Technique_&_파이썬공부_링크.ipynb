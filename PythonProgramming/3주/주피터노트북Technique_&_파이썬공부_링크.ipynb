{
 "cells": [
  {
   "cell_type": "markdown",
   "metadata": {},
   "source": [
    "<div style=\"text-align: right\"> - latest revision: 2021. 03. 11 </div>\n",
    "\n",
    "# [주피터 노트북](https://jupyter-notebook.readthedocs.io/en/stable/)과 파이썬 공부할 거리 \n",
    "\n",
    "## 여기서는 주피터 노트북 markdown cell의 다양한 사용법 예를 보기로 하죠.\n",
    "\n",
    "### 주피터 노트북은 Cell들로 되어 있습니다\n",
    "\n",
    "이 Cell을 `마크다운 쎌 (Markdown Cell)` 이라 합니다.  여기에 문서를 씁니다. ***글, 이미지,  비디오, 수학식, 표, url 링크***  등 온 갖 컨텐츠를 포함할 수 있습니다.   \n",
    "    \n",
    "아래는 웹에 있는 파이썬 이미지를 이 쎌로 가져와 포함시킨 것입니다.          \n",
    "<br>\n",
    "<br>\n",
    "![Image of Python](https://i.pinimg.com/originals/5b/21/b6/5b21b6337c8ab4b0ec408488bcd4354b.jpg)\n",
    "\n",
    "<br/>\n",
    "<br/>\n",
    "\n",
    "<div style=\"text-align: center\"> 작은 사이즈 center  </div>\n",
    "<p style=\"text-align: center\">\n",
    "  <img  width=\"600\" src=https://i.pinimg.com/originals/5b/21/b6/5b21b6337c8ab4b0ec408488bcd4354b.jpg  />\n",
    "</p>\n",
    "<br/> \n",
    "<br/>\n",
    "<div style=\"text-align: left\"> 작은 사이즈  </div>\n",
    "<img align=\"left\" width=\"400\"  src=https://i.pinimg.com/originals/5b/21/b6/5b21b6337c8ab4b0ec408488bcd4354b.jpg  >\n",
    "<br/> \n",
    "<br/>\n",
    "              \n",
    "------------------\n"
   ]
  },
  {
   "cell_type": "markdown",
   "metadata": {},
   "source": [
    "               \n",
    "아래는 수학식을 나타낸 것입니다 --  **Root Mean Squared Error** (RMSE) 는 MSE의 제곱근 (root-MSE).    \n",
    "수학식은 LaTex로 나타냅니다.\n",
    "\n",
    "$$ \\sqrt{\\frac 1n\\sum_{i=1}^n(y_i - \\hat{y}_i)^2} $$\n",
    "\n",
    "\n",
    "### [Markdown and Latex in Jupyter Notebook](https://towardsdatascience.com/write-markdown-latex-in-the-jupyter-notebook-10985edb91fd)\n",
    "\n",
    "In PyTorch we can easily define our own autograd operator by defining a\n",
    "subclass of ``torch.autograd.Function`` and implementing the ``forward``\n",
    "and ``backward`` functions. We can then use our new autograd operator by\n",
    "constructing an instance and calling it like a function, passing\n",
    "Tensors containing input data.\n",
    "\n",
    "In this example we define our model as $$y=a+b P_3(c+dx)$$ instead of\n",
    "$$y=a+bx+cx^2+dx^3$$ where $ P_3(x)=\\frac{1}{2}\\left(5x^3-3x\\right) $\n",
    "is the [Legendre polynomial](https://en.wikipedia.org/wiki/Legendre_polynomials) of degree three. We write our own custom autograd function for computing forward and backward of $ P_3 $, and use it to implement our model:\n",
    "\n",
    "\n",
    "--------------\n",
    "          \n",
    "[주피터 노트북](http://jupyter.org/) (jupyter notebook) 으로 개발하면 코드와 관련된 문서를 함께 저장할 수 있어, 코드를 개발할 때, 그리고 완성된 SW를 주고 받을 때 참 편리합니다.  \n",
    "<br>\n",
    "## 제목\n",
    " - ### 부제목\n",
    "  - #### 소제목\n",
    "<br>\n",
    "\n",
    "다음은 이전에 예측분석/머신러닝 수업에서 교육용으로 내가 작성한 파이썬 실습 내용을 GitHub에 올린 것 중 하나입니다.  \n",
    "[SVM 실습](https://github.com/hyunblee/ISLR-with-Python/blob/master/Ch9-Support%20Vector%20Machines/Ch9-Support_Vector_Machines.ipynb)  \n",
    "\n",
    "이처럼 GitHub에 주피턱 노트북을 올리면 GitHub가 자동적으로 보여줍니다.  "
   ]
  },
  {
   "cell_type": "markdown",
   "metadata": {},
   "source": [
    "-----------------\n",
    "\n",
    "다음과 같이 글자들의 색깔과 크기를 지정할 수도 있어요...\n",
    "\n",
    "# <span style='color:crimson'> 주피터 노트북</span>\n",
    "\n",
    "<span style='color:blue'> <font size=\"5\">Tensor Types used in TF/Keras : </font> </span>\n",
    "\n",
    "<span style='color:teal'> <font size=\"7\">Numpy ndarray shape는... : </font> </span>\n",
    "\n",
    "<span style='color:cyan'> **- A simple `torch_summary` function :**</span>"
   ]
  },
  {
   "cell_type": "markdown",
   "metadata": {},
   "source": [
    "----------------------\n",
    "\n",
    "<span style='color:darkviolet'><font size=5> 아름다운 데이터 시각화 예 </font></span>\n",
    "\n",
    "- ### [역사상 최고로 꼽히는 10가지 데이터 시각화의 예](https://www.tableau.com/ko-kr/learn/articles/best-beautiful-data-visualization-examples)\n",
    "  - [나폴레온 1812](https://upload.wikimedia.org/wikipedia/commons/2/29/Minard.png)\n",
    "  - [런던 콜레라 1854](https://upload.wikimedia.org/wikipedia/commons/thumb/2/27/Snow-cholera-map-1.jpg/1024px-Snow-cholera-map-1.jpg)\n",
    "- ### [Ten of the Best Data Visualizations Created In 2020](https://towardsdatascience.com/my-top-10-most-fascinating-data-visualizations-from-2020-22a91b23e981)  \n",
    "\n",
    "------------------------\n",
    "\n",
    "<br>\n",
    "\n",
    "<div class=\"alert alert-info\"><h4>Note</h4><p>``torch.Size`` is in fact a tuple, so it supports all tuple operations.</p></div>\n",
    "\n",
    "\n",
    "<div class=\"alert alert-info\">[Note]\n",
    "\n",
    "We are initializing the weights here with  [Xavier initialisation](http://proceedings.mlr.press/v9/glorot10a/glorot10a.pdf)\n",
    "   (by multiplying with 1/sqrt(n))</div>\n",
    "   "
   ]
  },
  {
   "cell_type": "markdown",
   "metadata": {},
   "source": [
    "### 웹페이지를 주피터노트북에서 직접 보이게 할 수 있습니다."
   ]
  },
  {
   "cell_type": "code",
   "execution_count": 4,
   "metadata": {},
   "outputs": [
    {
     "data": {
      "text/html": [
       "\n",
       "        <iframe\n",
       "            width=\"1000\"\n",
       "            height=\"700\"\n",
       "            src=\"https://matplotlib.org/\"\n",
       "            frameborder=\"0\"\n",
       "            allowfullscreen\n",
       "        ></iframe>\n",
       "        "
      ],
      "text/plain": [
       "<IPython.lib.display.IFrame at 0x1fbe9699fc8>"
      ]
     },
     "execution_count": 4,
     "metadata": {},
     "output_type": "execute_result"
    }
   ],
   "source": [
    "from IPython.display import IFrame\n",
    "IFrame(src=\"https://matplotlib.org/\", width=1000, height=700)"
   ]
  },
  {
   "cell_type": "markdown",
   "metadata": {},
   "source": [
    "### 다음은 비디오를 주피터노트북에 포함시키는 방법입니다.\n",
    "<br>\n",
    "기본적인 방법은 `IFrame`으로 가져와 포함시키는 것입니다. "
   ]
  },
  {
   "cell_type": "code",
   "execution_count": 5,
   "metadata": {},
   "outputs": [
    {
     "data": {
      "text/html": [
       "\n",
       "        <iframe\n",
       "            width=\"760\"\n",
       "            height=\"450\"\n",
       "            src=\"https://www.youtube.com/embed/GNlri16iMZc\"\n",
       "            frameborder=\"0\"\n",
       "            allowfullscreen\n",
       "        ></iframe>\n",
       "        "
      ],
      "text/plain": [
       "<IPython.lib.display.IFrame at 0x1fbe96a4548>"
      ]
     },
     "execution_count": 5,
     "metadata": {},
     "output_type": "execute_result"
    }
   ],
   "source": [
    "from IPython.display import IFrame   \n",
    "IFrame('https://www.youtube.com/embed/GNlri16iMZc', width=760, height=450) "
   ]
  },
  {
   "cell_type": "markdown",
   "metadata": {},
   "source": [
    "또 다른 방법입니다."
   ]
  },
  {
   "cell_type": "code",
   "execution_count": 3,
   "metadata": {},
   "outputs": [
    {
     "data": {
      "text/html": [
       "\n",
       "        <iframe\n",
       "            width=\"400\"\n",
       "            height=\"300\"\n",
       "            src=\"https://www.youtube.com/embed/https://www.youtube.com/watch?v=UO98lJQ3QGI&list=PL-osiE80TeTvipOqomVEeZ1HRrcEvtZB_&index=1\"\n",
       "            frameborder=\"0\"\n",
       "            allowfullscreen\n",
       "        ></iframe>\n",
       "        "
      ],
      "text/plain": [
       "<IPython.lib.display.YouTubeVideo at 0x1fbe9654ac8>"
      ]
     },
     "execution_count": 3,
     "metadata": {},
     "output_type": "execute_result"
    }
   ],
   "source": [
    "from IPython.display import YouTubeVideo\n",
    "YouTubeVideo('https://www.youtube.com/watch?v=UO98lJQ3QGI&list=PL-osiE80TeTvipOqomVEeZ1HRrcEvtZB_&index=1')"
   ]
  },
  {
   "cell_type": "markdown",
   "metadata": {},
   "source": [
    "### 주피터 노트북 자료 및 연습 :\n",
    "- https://jupyter-notebook.readthedocs.io/en/stable/ \n",
    "- [유투브 주피터 노트북 사용법 등...](https://www.youtube.com/results?search_query=%EC%A3%BC%ED%94%BC%ED%84%B0+%EB%85%B8%ED%8A%B8%EB%B6%81+%EC%82%AC%EC%9A%A9%EB%B2%95+)\n",
    "- [Jupyter Notebook Cheat Sheet](https://www.cheatography.com/weidadeyue/cheat-sheets/jupyter-notebook/)"
   ]
  },
  {
   "cell_type": "markdown",
   "metadata": {},
   "source": [
    "\n",
    "--------------------------------------------------\n",
    "\n",
    "# 파이썬 스터디 링크 :\n",
    "\n",
    "- [공식 파이썬 튜토리얼](https://docs.python.org/3/tutorial/) \n",
    "- [공식 파이썬 문서들의 시작점](https://www.python.org/doc/)\n",
    "- [Python builtin fuctions](https://docs.python.org/3/library/functions.html)\n",
    "- [Python 코스](https://www.python-course.eu/python3_course.php) : 참 여러 자료들이 있어요 \n",
    "- [Interactive하게 공부](https://runestone.academy/runestone/books/published/thinkcspy/index.html) : 간단한 문제도 있어요 \n",
    "- https://realpython.com/ \n",
    "- (https://www.w3schools.com/python/default.asp)\n",
    "- [Python for you and me](https://pymbook.readthedocs.io/en/latest/)\n",
    "- [Think Python 2e](https://greenteapress.com/wp/think-python-2e/)\n",
    "\n",
    "\n",
    "### 한글 \n",
    "- [파이썬 공식 한글 문서](https://docs.python.org/ko/3/)\n",
    "- [점프 투 파이썬](https://wikidocs.net/book/1)\n",
    "- [초보자를 위한 파이썬 300제](https://wikidocs.net/book/922)"
   ]
  },
  {
   "cell_type": "code",
   "execution_count": null,
   "metadata": {},
   "outputs": [],
   "source": []
  }
 ],
 "metadata": {
  "kernelspec": {
   "display_name": "Python 3",
   "language": "python",
   "name": "python3"
  },
  "language_info": {
   "codemirror_mode": {
    "name": "ipython",
    "version": 3
   },
   "file_extension": ".py",
   "mimetype": "text/x-python",
   "name": "python",
   "nbconvert_exporter": "python",
   "pygments_lexer": "ipython3",
   "version": "3.8.5"
  }
 },
 "nbformat": 4,
 "nbformat_minor": 1
}
