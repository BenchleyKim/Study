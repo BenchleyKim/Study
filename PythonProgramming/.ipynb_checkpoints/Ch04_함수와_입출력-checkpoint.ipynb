{
 "cells": [
  {
   "cell_type": "markdown",
   "metadata": {
    "colab_type": "text",
    "id": "view-in-github"
   },
   "source": [
    "<a href=\"https://colab.research.google.com/github/dongupak/Prime-Python/blob/master/jupyter-notebook/Ch04_%ED%95%A8%EC%88%98%EC%99%80_%EC%9E%85%EC%B6%9C%EB%A0%A5.ipynb\" target=\"_parent\"><img src=\"https://colab.research.google.com/assets/colab-badge.svg\" alt=\"Open In Colab\"/></a>"
   ]
  },
  {
   "cell_type": "markdown",
   "metadata": {},
   "source": [
    "### <span style='color:crimson'>[Note]- 객체의 가변성(Mutability)과 객체를 참조(Reference)함에 대해서 : </span>\n",
    "- [(참고1)](https://docs.python.org/ko/3/reference/datamodel.html),  [(참고2, 변수_reference_객체_mutablity 관계에 대해)](https://realpython.com/pointers-in-python/)\n",
    "- 파이썬의 모든 것은 객체(object)입니다.  \n",
    "- A Python variable is a symbolic name that is a reference or pointer to an object (파이썬 변수는 객체를 가르키는 이름이고요).\n",
    "\n",
    "객체 (Objects)는 파이썬이 데이터(data)를 추상화한 것(abstraction)입니다. 파이썬 프로그램의 모든 데이터는 객체나 객체 간의 관계로 표현됩니다.  \n",
    "모든 객체는 아이덴티티(identity), 형(type), 값(value)을 갖습니다. 객체의 아이덴티티(`id`) 는 한 번 만들어진 후에는 변경되지 않습니다. 메모리상에서의 객체의 주소로 생각해도 좋습니다.\n",
    "객체의 형(type)도 역시 변경되지 않습니다.  그러나, ***어떤 객체들의 값은 변경할 수 있습니다***. 값을 변경할 수 있는 객체들을 가변(mutable) 이라고 합니다. 일단 만들어진 후에 값을 변경할 수 없는 객체들을 불변(immutable) 이라고 합니다. \n",
    "객체의 가변성(mutability)은 그것의 형에 의해 결정됩니다; 예를 들어 숫자, 문자열, 튜플(tuple)은 불변이지만, 딕셔너리(dictionary) 와 리스트(list)는 가변(mutable)입니다.\n",
    "\n",
    "어떤 객체들은 다른 객체에 대한 참조(reference)를 포함하고 있습니다. 이런 것들을 컨테이너(container) 라고 부릅니다. 튜플, 리스트, 딕셔너리등이 컨테이너의 예입니다. 이 참조들은 컨테이너의 값의 일부입니다. 대부분은, 우리가 컨테이너의 값을 논할 때는, 들어있는 객체들의 아이덴티티 보다는 값을 따집니다. 하지만, 컨테이너의 가변성에 대해 논할 때는 직접 가진 객체들의 아이덴티티만을 따집니다. 그래서, (튜플 같은) 불변 컨테이너가 가변 객체로의 참조를 하고 있다면, 그 가변 객체가 변경되면 컨테이너의 값도 변경됩니다 "
   ]
  },
  {
   "cell_type": "code",
   "execution_count": 21,
   "metadata": {},
   "outputs": [
    {
     "name": "stdout",
     "output_type": "stream",
     "text": [
      "id of the variable 'str1' :  2944572773632    type :  <class 'str'>    value :  나는 string\n"
     ]
    },
    {
     "data": {
      "text/plain": [
       "'t'"
      ]
     },
     "execution_count": 21,
     "metadata": {},
     "output_type": "execute_result"
    }
   ],
   "source": [
    "str1 = \"나는 string\"\n",
    "print(\"id of the variable 'str1' : \", id(str1), \"   type : \", type(str1), \"   value : \", str1)\n",
    "str1[4]"
   ]
  },
  {
   "cell_type": "code",
   "execution_count": 15,
   "metadata": {},
   "outputs": [
    {
     "ename": "TypeError",
     "evalue": "'str' object does not support item assignment",
     "output_type": "error",
     "traceback": [
      "\u001b[1;31m---------------------------------------------------------------------------\u001b[0m",
      "\u001b[1;31mTypeError\u001b[0m                                 Traceback (most recent call last)",
      "\u001b[1;32m<ipython-input-15-b5c98c0e29f4>\u001b[0m in \u001b[0;36m<module>\u001b[1;34m\u001b[0m\n\u001b[1;32m----> 1\u001b[1;33m \u001b[0mstr1\u001b[0m\u001b[1;33m[\u001b[0m\u001b[1;36m4\u001b[0m\u001b[1;33m]\u001b[0m \u001b[1;33m=\u001b[0m \u001b[1;34m'kkk'\u001b[0m\u001b[1;33m\u001b[0m\u001b[1;33m\u001b[0m\u001b[0m\n\u001b[0m",
      "\u001b[1;31mTypeError\u001b[0m: 'str' object does not support item assignment"
     ]
    }
   ],
   "source": [
    "str1[4] = 'kkk'"
   ]
  },
  {
   "cell_type": "code",
   "execution_count": 16,
   "metadata": {},
   "outputs": [
    {
     "data": {
      "text/plain": [
       "['나', '는', ' ', 's', 't', 'r', 'i', 'n', 'g']"
      ]
     },
     "execution_count": 16,
     "metadata": {},
     "output_type": "execute_result"
    }
   ],
   "source": [
    "a_list = list(str1)\n",
    "a_list_2 = a_list\n",
    "a_list"
   ]
  },
  {
   "cell_type": "code",
   "execution_count": 17,
   "metadata": {},
   "outputs": [
    {
     "data": {
      "text/plain": [
       "(2944572768968, 2944572768968)"
      ]
     },
     "execution_count": 17,
     "metadata": {},
     "output_type": "execute_result"
    }
   ],
   "source": [
    "id(a_list), id(a_list_2)"
   ]
  },
  {
   "cell_type": "code",
   "execution_count": 18,
   "metadata": {},
   "outputs": [
    {
     "data": {
      "text/plain": [
       "['나', '는', ' ', 's', 'kkk', 'r', 'i', 'n', 'g']"
      ]
     },
     "execution_count": 18,
     "metadata": {},
     "output_type": "execute_result"
    }
   ],
   "source": [
    "a_list[4] = \"kkk\"\n",
    "a_list"
   ]
  },
  {
   "cell_type": "code",
   "execution_count": 19,
   "metadata": {},
   "outputs": [
    {
     "data": {
      "text/plain": [
       "(2944572768968, 2944572768968)"
      ]
     },
     "execution_count": 19,
     "metadata": {},
     "output_type": "execute_result"
    }
   ],
   "source": [
    "id(a_list), id(a_list_2)"
   ]
  },
  {
   "cell_type": "code",
   "execution_count": 20,
   "metadata": {},
   "outputs": [
    {
     "data": {
      "text/plain": [
       "['나', '는', ' ', 's', 'kkk', 'r', 'i', 'n', 'g']"
      ]
     },
     "execution_count": 20,
     "metadata": {},
     "output_type": "execute_result"
    }
   ],
   "source": [
    "a_list_2"
   ]
  },
  {
   "cell_type": "markdown",
   "metadata": {},
   "source": [
    "앞에서 숫자는 immutable이라고 했어요. 다음을 보면 숫자를 가르키는 변수에 새로운 값을 할당할 때 어떻게 그 operation이 되는 것인지 확실히 알 수 있어요.\n",
    "- 변수가 가르키는 값을 바꾼 것이 아니라, 새로운 값을 갖는 객체를 만들어 메모리에 넣고는, 기존의 변수명이 이 새로운 값을 가르키도록(refer)하도록 하는 것이에요."
   ]
  },
  {
   "cell_type": "code",
   "execution_count": 25,
   "metadata": {},
   "outputs": [
    {
     "name": "stdout",
     "output_type": "stream",
     "text": [
      "140715697940144 42\n",
      "140715697940176 43\n"
     ]
    }
   ],
   "source": [
    "age = 42\n",
    "print(id(age), age)\n",
    "\n",
    "age = 43\n",
    "print(id(age), age)    # age 의 id가 바뀌었어요...."
   ]
  },
  {
   "cell_type": "markdown",
   "metadata": {
    "colab_type": "text",
    "id": "77umBk0NzoNG"
   },
   "source": [
    "\n",
    "# *4장 함수와 입출력*\n",
    "---\n",
    "* 출판사 : 생능 출판사( http://www.booksr.co.kr/ )\n",
    "* 으뜸 파이썬 저자 : 박동규, 강영민 \n",
    "* 소스코드 저장소 : https://github.com/dongupak/Prime-Python\n",
    "* 저작권 : 본 주피터 노트북 코드는 자유롭게 배포가능하지만 위의 출판사, 저서, 저자표기와 함께 배포해 주십시오.\n",
    "--- "
   ]
  },
  {
   "cell_type": "markdown",
   "metadata": {
    "colab_type": "text",
    "id": "OlF_QOP_ATkF"
   },
   "source": [
    "# 코드 4-1 : 별표 출력을 위한 함수 정의와 호출\n",
    "\n",
    "## print_star_func.py"
   ]
  },
  {
   "cell_type": "code",
   "execution_count": null,
   "metadata": {
    "colab": {
     "base_uri": "https://localhost:8080/",
     "height": 35
    },
    "colab_type": "code",
    "id": "mOtlORYvATkI",
    "outputId": "247a9e06-1283-425a-aabb-aa450aadb1e2"
   },
   "outputs": [
    {
     "name": "stdout",
     "output_type": "stream",
     "text": [
      "************************\n"
     ]
    }
   ],
   "source": [
    "def print_star():  # 별표 출력을 위한 함수 정의    \n",
    "    print('************************')\n",
    "    \n",
    "print_star()       # 별표 출력을 위한 함수 호출"
   ]
  },
  {
   "cell_type": "markdown",
   "metadata": {
    "colab_type": "text",
    "id": "DsEf-2IiATkU"
   },
   "source": [
    "# 코드 4-2 : 별표 출력을 위한 함수 정의와 반복 호출\n",
    "## print_star_4.py"
   ]
  },
  {
   "cell_type": "code",
   "execution_count": null,
   "metadata": {
    "colab": {
     "base_uri": "https://localhost:8080/",
     "height": 89
    },
    "colab_type": "code",
    "id": "Az8_7YWuATkW",
    "outputId": "ed0fbec9-4d9a-4572-fa90-3fe5e335ad1e",
    "scrolled": true
   },
   "outputs": [
    {
     "name": "stdout",
     "output_type": "stream",
     "text": [
      "************************\n",
      "************************\n",
      "************************\n",
      "************************\n"
     ]
    }
   ],
   "source": [
    "def print_star():\n",
    "    print('************************')\n",
    "    \n",
    "print_star() # 별표 출력함수 호출 1\n",
    "print_star() # 별표 출력함수 호출 2\n",
    "print_star() # 별표 출력함수 호출 3\n",
    "print_star() # 별표 출력함수 호출 4"
   ]
  },
  {
   "cell_type": "markdown",
   "metadata": {
    "colab_type": "text",
    "id": "OciEaLPBATkd"
   },
   "source": [
    "# 코드 4-3 : 3줄 별표 출력을 위한 함수 정의와 호출 방법\n",
    "## print_star3.py"
   ]
  },
  {
   "cell_type": "code",
   "execution_count": null,
   "metadata": {
    "colab": {
     "base_uri": "https://localhost:8080/",
     "height": 179
    },
    "colab_type": "code",
    "id": "2QHxjJP9ATkf",
    "outputId": "6aa5e70f-dc16-46bc-d3af-16692f2c4e2a"
   },
   "outputs": [
    {
     "name": "stdout",
     "output_type": "stream",
     "text": [
      "************************\n",
      "************************\n",
      "************************\n",
      "************************\n",
      "************************\n",
      "************************\n",
      "************************\n",
      "************************\n",
      "************************\n"
     ]
    }
   ],
   "source": [
    "def print_star3():    \n",
    "    print('************************')    \n",
    "    print('************************')    \n",
    "    print('************************')\n",
    "    \n",
    "    \n",
    "print_star3()  # 3줄의 별표가 출력됨\n",
    "print_star3()  # 3줄의 별표가 출력됨\n",
    "print_star3()  # 3줄의 별표가 출력됨"
   ]
  },
  {
   "cell_type": "markdown",
   "metadata": {
    "colab_type": "text",
    "id": "4rqXrJH2ATkl"
   },
   "source": [
    "# 코드 4-4 : 별표 출력을 위한 함수 정의와 호출 방법의 수정\n",
    "## print_star_plus.py"
   ]
  },
  {
   "cell_type": "code",
   "execution_count": null,
   "metadata": {
    "colab": {
     "base_uri": "https://localhost:8080/",
     "height": 89
    },
    "colab_type": "code",
    "id": "ML0EmUPeATkn",
    "outputId": "5df4b108-ee79-4ad8-aaa5-201bc6bb49df",
    "scrolled": true
   },
   "outputs": [
    {
     "name": "stdout",
     "output_type": "stream",
     "text": [
      "************************\n",
      "++++++++++++++++++++++++\n",
      "************************\n",
      "++++++++++++++++++++++++\n"
     ]
    }
   ],
   "source": [
    "def print_star():  # 별표 기호를 한 줄 출력함\n",
    "    print('************************')\n",
    "\n",
    "def print_plus():  # 더하기 기호를 한 줄 출력함\n",
    "    print('++++++++++++++++++++++++')\n",
    "\n",
    "print_star()       # 별표 기호 출력\n",
    "print_plus()       # 더하기 기호 출력\n",
    "print_star()\n",
    "print_plus()       "
   ]
  },
  {
   "cell_type": "code",
   "execution_count": null,
   "metadata": {
    "colab": {
     "base_uri": "https://localhost:8080/",
     "height": 90
    },
    "colab_type": "code",
    "id": "jesFd5wv0fT3",
    "outputId": "0a826ab8-4483-4432-9e57-78abcadb1a11"
   },
   "outputs": [
    {
     "name": "stdout",
     "output_type": "stream",
     "text": [
      "************************\n",
      "************************\n",
      "************************\n",
      "************************\n"
     ]
    }
   ],
   "source": [
    "def print_star():    \n",
    "    print('************************')\n",
    "    \n",
    "print_star() # 별표 출력 1 \n",
    "print_star() # 별표 출력 2 \n",
    "print_star() # 별표 출력 3 \n",
    "print_star() # 별표 출력 4"
   ]
  },
  {
   "cell_type": "markdown",
   "metadata": {
    "colab_type": "text",
    "id": "ez6qv6q7ATku"
   },
   "source": [
    "# 코드 4-5 : 매개변수를 가진 별표 출력 함수와 인자를 이용한 호출\n",
    "## print_star_param.py"
   ]
  },
  {
   "cell_type": "code",
   "execution_count": null,
   "metadata": {
    "colab": {
     "base_uri": "https://localhost:8080/",
     "height": 90
    },
    "colab_type": "code",
    "id": "eafCrUXnATkv",
    "outputId": "816d05d2-ee9a-461d-d75f-75e604067fdf"
   },
   "outputs": [
    {
     "name": "stdout",
     "output_type": "stream",
     "text": [
      "************************\n",
      "************************\n",
      "************************\n",
      "************************\n"
     ]
    }
   ],
   "source": [
    "# 별표 출력을 매개변수 n번만큼 반복하는 프로그램\n",
    "def print_star(n):\n",
    "    for _ in range(n):        \n",
    "        print('************************')\n",
    "        \n",
    "print_star(4) # 별표 출력을 위해 4라는 인자값을 준다"
   ]
  },
  {
   "cell_type": "markdown",
   "metadata": {
    "colab_type": "text",
    "id": "iEy7O0a3ATk2"
   },
   "source": [
    "# Note : 루프변수 i 값 출력하기 - 다음 코드도 테스트해 보세요"
   ]
  },
  {
   "cell_type": "code",
   "execution_count": null,
   "metadata": {
    "colab": {
     "base_uri": "https://localhost:8080/",
     "height": 90
    },
    "colab_type": "code",
    "id": "I7jdEpc1ATk3",
    "outputId": "27963d97-ab97-42e4-fb0d-f40c4c28bfac"
   },
   "outputs": [
    {
     "name": "stdout",
     "output_type": "stream",
     "text": [
      "0 ************************\n",
      "1 ************************\n",
      "2 ************************\n",
      "3 ************************\n"
     ]
    }
   ],
   "source": [
    "# 별표 출력을 매개변수 n번만큼 반복하는 프로그램\n",
    "def print_star(n):\n",
    "    for i in range(n):        \n",
    "        print(i, '************************')\n",
    "        \n",
    "print_star(4) # 별표 출력을 위해 4라는 인자값을 준다"
   ]
  },
  {
   "cell_type": "markdown",
   "metadata": {
    "colab_type": "text",
    "id": "dxq9IZ21ATk-"
   },
   "source": [
    "# 코드 4-6 : 매개 변수를 사용하여 지정된 문자를 인자 값만큼 반복 출력하기\n",
    "## print_hello_n_times.py"
   ]
  },
  {
   "cell_type": "code",
   "execution_count": null,
   "metadata": {
    "colab": {
     "base_uri": "https://localhost:8080/",
     "height": 125
    },
    "colab_type": "code",
    "id": "o6k19wqbATk_",
    "outputId": "4c49a20b-3e6a-4c58-f14e-a83c79af80dd"
   },
   "outputs": [
    {
     "name": "stdout",
     "output_type": "stream",
     "text": [
      "Hello를 두 번 출력합니다.\n",
      "Hello Hello \n",
      "Hello를 세 번 출력합니다.\n",
      "Hello Hello Hello \n",
      "Hello를 네 번 출력합니다.\n",
      "Hello Hello Hello Hello \n"
     ]
    }
   ],
   "source": [
    "def print_hello(n):            # 매개변수를 이용한 반복 출력    \n",
    "    print('Hello ' * n)\n",
    "    \n",
    "print('Hello를 두 번 출력합니다.')\n",
    "print_hello(2)\n",
    "print('Hello를 세 번 출력합니다.')\n",
    "print_hello(3)\n",
    "print('Hello를 네 번 출력합니다.')\n",
    "print_hello(4)"
   ]
  },
  {
   "cell_type": "markdown",
   "metadata": {
    "colab_type": "text",
    "id": "MJb05HCfATlG"
   },
   "source": [
    "# 코드 4-7 : 매개변수를 사용한 인자값의 합계\n",
    "## sum_func.py"
   ]
  },
  {
   "cell_type": "code",
   "execution_count": null,
   "metadata": {
    "colab": {
     "base_uri": "https://localhost:8080/",
     "height": 53
    },
    "colab_type": "code",
    "id": "fUixjXRBATlI",
    "outputId": "72cebf76-c612-414e-9b4d-b601ab50ed4c"
   },
   "outputs": [
    {
     "name": "stdout",
     "output_type": "stream",
     "text": [
      "10 과 20 의 합은 30 입니다.\n",
      "100 과 200 의 합은 300 입니다.\n"
     ]
    }
   ],
   "source": [
    "def print_sum(a, b):              # 두 개의 매개변수를 가진 함수    \n",
    "    result = a + b\n",
    "    print(a, '과', b, '의 합은', result, '입니다.')\n",
    "    \n",
    "print_sum(10, 20)\n",
    "print_sum(100, 200)"
   ]
  },
  {
   "cell_type": "code",
   "execution_count": null,
   "metadata": {
    "colab": {
     "base_uri": "https://localhost:8080/",
     "height": 213
    },
    "colab_type": "code",
    "id": "AxeI3VfOATlO",
    "outputId": "967c12e7-1e39-4841-8355-7ea3647bbfcc"
   },
   "outputs": [
    {
     "ename": "TypeError",
     "evalue": "ignored",
     "output_type": "error",
     "traceback": [
      "\u001b[0;31m---------------------------------------------------------------------------\u001b[0m",
      "\u001b[0;31mTypeError\u001b[0m                                 Traceback (most recent call last)",
      "\u001b[0;32m<ipython-input-8-ec8bc3c39141>\u001b[0m in \u001b[0;36m<module>\u001b[0;34m()\u001b[0m\n\u001b[1;32m      3\u001b[0m     \u001b[0mprint\u001b[0m\u001b[0;34m(\u001b[0m\u001b[0ma\u001b[0m\u001b[0;34m,\u001b[0m \u001b[0;34m'과'\u001b[0m\u001b[0;34m,\u001b[0m \u001b[0mb\u001b[0m\u001b[0;34m,\u001b[0m \u001b[0;34m'의 합은'\u001b[0m\u001b[0;34m,\u001b[0m \u001b[0mresult\u001b[0m\u001b[0;34m,\u001b[0m \u001b[0;34m'입니다.'\u001b[0m\u001b[0;34m)\u001b[0m\u001b[0;34m\u001b[0m\u001b[0;34m\u001b[0m\u001b[0m\n\u001b[1;32m      4\u001b[0m \u001b[0;34m\u001b[0m\u001b[0m\n\u001b[0;32m----> 5\u001b[0;31m \u001b[0mprint_sum\u001b[0m\u001b[0;34m(\u001b[0m\u001b[0;36m10\u001b[0m\u001b[0;34m)\u001b[0m \u001b[0;31m# 에러\u001b[0m\u001b[0;34m\u001b[0m\u001b[0;34m\u001b[0m\u001b[0m\n\u001b[0m",
      "\u001b[0;31mTypeError\u001b[0m: print_sum() missing 1 required positional argument: 'b'"
     ]
    }
   ],
   "source": [
    "def print_sum(a, b):    \n",
    "    result = a + b\n",
    "    print(a, '과', b, '의 합은', result, '입니다.')\n",
    "    \n",
    "print_sum(10) # 에러"
   ]
  },
  {
   "cell_type": "markdown",
   "metadata": {
    "colab_type": "text",
    "id": "x_N8ptoqATmF"
   },
   "source": [
    "# 코드 4-8 : 2차 방정식의 근을 구하는 기능 \n",
    "## root_ex1.py"
   ]
  },
  {
   "cell_type": "code",
   "execution_count": null,
   "metadata": {
    "colab": {
     "base_uri": "https://localhost:8080/",
     "height": 35
    },
    "colab_type": "code",
    "id": "dXozK7oeATmI",
    "outputId": "dba52b95-3db9-44e9-f753-b85af1faaf1d"
   },
   "outputs": [
    {
     "name": "stdout",
     "output_type": "stream",
     "text": [
      "해는 2.0 또는 -4.0\n"
     ]
    }
   ],
   "source": [
    "a = 1\n",
    "b = 2\n",
    "c = -8\n",
    "\n",
    "# ( a * x^2 ) + ( b * x ) + c = 0\n",
    "r1 = (-b + (b ** 2 - 4 * a * c) ** 0.5) / (2 * a)\n",
    "r2 = (-b - (b ** 2 - 4 * a * c) ** 0.5) / (2 * a)\n",
    "\n",
    "print('해는', r1, '또는', r2)"
   ]
  },
  {
   "cell_type": "markdown",
   "metadata": {
    "colab_type": "text",
    "id": "qkCv8jwkATmP"
   },
   "source": [
    "# 코드 4-9 : 2차 방정식의 근을 구하는 기능의 반복 사용\n",
    "## root_ex2.py"
   ]
  },
  {
   "cell_type": "code",
   "execution_count": null,
   "metadata": {
    "colab": {
     "base_uri": "https://localhost:8080/",
     "height": 53
    },
    "colab_type": "code",
    "id": "6SB4HXcnATmR",
    "outputId": "c690014d-5e7f-4d69-b4af-b2c140474fe9"
   },
   "outputs": [
    {
     "name": "stdout",
     "output_type": "stream",
     "text": [
      "해는 2.0 또는 -4.0\n",
      "해는 4.0 또는 -1.0\n"
     ]
    }
   ],
   "source": [
    "a = 1\n",
    "b = 2\n",
    "c = -8\n",
    "\n",
    "#근의 공식으로 해를 한 번 더 구한다.(반복되는 코드)\n",
    "r1 = (-b + (b ** 2 - 4 * a * c) ** 0.5) / (2 * a)\n",
    "r2 = (-b - (b ** 2 - 4 * a * c) ** 0.5) / (2 * a)\n",
    "\n",
    "print('해는', r1, '또는', r2)\n",
    "a = 2\n",
    "b = -6\n",
    "c = -8\n",
    "#근의 공식으로 해를 한 번 더 구한다.(반복되는 코드)\n",
    "r1 = (-b + (b ** 2 - 4 * a * c) ** 0.5) / (2 * a)\n",
    "r2 = (-b - (b ** 2 - 4 * a * c) ** 0.5) / (2 * a)\n",
    "\n",
    "print('해는', r1, '또는', r2)"
   ]
  },
  {
   "cell_type": "markdown",
   "metadata": {
    "colab_type": "text",
    "id": "ZvXN9F5fATmW"
   },
   "source": [
    "# 코드 4-10 : 2차 방정식의 근을 구하는 기능을 함수로 만들기 \n",
    "## root_ex3.py"
   ]
  },
  {
   "cell_type": "code",
   "execution_count": null,
   "metadata": {
    "colab": {
     "base_uri": "https://localhost:8080/",
     "height": 53
    },
    "colab_type": "code",
    "id": "eMWoR5x2ATmY",
    "outputId": "162f9e67-a1de-4c94-d142-cc5424d8b211"
   },
   "outputs": [
    {
     "name": "stdout",
     "output_type": "stream",
     "text": [
      "해는 2.0 또는 -4.0\n",
      "해는 4.0 또는 -1.0\n"
     ]
    }
   ],
   "source": [
    "def print_root(a, b, c):    \n",
    "    r1 = (-b + (b ** 2 - 4 * a * c) ** 0.5) / (2 * a)    \n",
    "    r2 = (-b - (b ** 2 - 4 * a * c) ** 0.5) / (2 * a)    \n",
    "    print('해는', r1, '또는', r2)\n",
    "    \n",
    "# 계수값이 다른 2차 방정식의 해를 구함\n",
    "print_root(1, 2, -8)\n",
    "print_root(2, -6, -8)"
   ]
  },
  {
   "cell_type": "markdown",
   "metadata": {
    "colab_type": "text",
    "id": "m0ifIA6ZATmj"
   },
   "source": [
    "# 코드 4-11 : 두 인자의 합을 반환하는 get_sum() 함수와 return 문의 사용1\n",
    "## sum_with_return1.py"
   ]
  },
  {
   "cell_type": "code",
   "execution_count": null,
   "metadata": {
    "colab": {
     "base_uri": "https://localhost:8080/",
     "height": 53
    },
    "colab_type": "code",
    "id": "WQEl_TbJATml",
    "outputId": "adfa18e2-6a93-42a2-8823-9fe3efb8fe02"
   },
   "outputs": [
    {
     "name": "stdout",
     "output_type": "stream",
     "text": [
      "10과 20의 합 = 30\n",
      "100과 200의 합 = 300\n"
     ]
    }
   ],
   "source": [
    "def get_sum(a, b):       # 두 수의 합을 반환하는 함수\n",
    "    result = a + b    \n",
    "    return result        # return 문을 사용하여 result를 반환\n",
    "\n",
    "n1 = get_sum(10, 20)\n",
    "print('10과 20의 합 =', n1)\n",
    "\n",
    "n2 = get_sum(100, 200)\n",
    "print('100과 200의 합 =', n2)"
   ]
  },
  {
   "cell_type": "markdown",
   "metadata": {
    "colab_type": "text",
    "id": "HvVLkr7LATms"
   },
   "source": [
    "# 코드 4-12 : 두 인자의 합을 반환하는 get_sum() 함수와 return 문의 사용2\n",
    "## sum_with_return2.py"
   ]
  },
  {
   "cell_type": "code",
   "execution_count": null,
   "metadata": {
    "colab": {
     "base_uri": "https://localhost:8080/",
     "height": 35
    },
    "colab_type": "code",
    "id": "m8nS_Xn7ATmt",
    "outputId": "35087406-da28-4e20-c1a0-0d4d325d0ee0"
   },
   "outputs": [
    {
     "name": "stdout",
     "output_type": "stream",
     "text": [
      "두 수의 합 300\n"
     ]
    }
   ],
   "source": [
    "def get_sum(a, b):\n",
    "    return a + b\n",
    "\n",
    "result = get_sum(100, 200)\n",
    "print('두 수의 합', result)"
   ]
  },
  {
   "cell_type": "code",
   "execution_count": null,
   "metadata": {
    "colab": {
     "base_uri": "https://localhost:8080/",
     "height": 35
    },
    "colab_type": "code",
    "id": "oVjsrUy3ATmz",
    "outputId": "d950d14e-ad84-4467-fbf7-bec2bb0408aa",
    "scrolled": true
   },
   "outputs": [
    {
     "name": "stdout",
     "output_type": "stream",
     "text": [
      "두 수의 합 = 300\n"
     ]
    }
   ],
   "source": [
    "# 아래의 코드 수행 결과는 위와 동일합니다.\n",
    "def get_sum(a, b):    \n",
    "    return a + b    \n",
    "    \n",
    "print('두 수의 합 =', get_sum(100, 200))"
   ]
  },
  {
   "cell_type": "markdown",
   "metadata": {
    "colab_type": "text",
    "id": "ekv9beaSATni"
   },
   "source": [
    "# 코드 4-13 : 두 개의 값을 튜플로 반환하는 방법과 전달 받는 방법\n",
    "## root_func.py"
   ]
  },
  {
   "cell_type": "code",
   "execution_count": null,
   "metadata": {
    "colab": {
     "base_uri": "https://localhost:8080/",
     "height": 35
    },
    "colab_type": "code",
    "id": "C3_RgNUGATnj",
    "outputId": "acfe6b9c-8869-4eaf-d288-2a5c6b606d3b"
   },
   "outputs": [
    {
     "name": "stdout",
     "output_type": "stream",
     "text": [
      "해는 2.0 또는 -4.0\n"
     ]
    }
   ],
   "source": [
    "def get_root(a, b, c):    \n",
    "    r1 = (-b + (b ** 2 - 4 * a * c) ** 0.5) / (2 * a)    \n",
    "    r2 = (-b - (b ** 2 - 4 * a * c) ** 0.5) / (2 * a)    \n",
    "    return r1, r2\n",
    "\n",
    "# 함수 호출시 인자를 상수 값을 사용함\n",
    "# result1, result2를 이용해서 결과 값을 반환 받아온다\n",
    "result1, result2 = get_root(1, 2, -8)\n",
    "print('해는', result1, '또는', result2)"
   ]
  },
  {
   "cell_type": "markdown",
   "metadata": {
    "colab_type": "text",
    "id": "O_ZI9PsrATnv"
   },
   "source": [
    "# 코드 4-14 : 매개변수를 사용하지 않고 외부 변수를 사용하는 경우\n",
    "## sum_func_global1.py "
   ]
  },
  {
   "cell_type": "code",
   "execution_count": null,
   "metadata": {
    "colab": {
     "base_uri": "https://localhost:8080/",
     "height": 53
    },
    "colab_type": "code",
    "id": "eAr8tHGLATnw",
    "outputId": "c34ac8e5-ee29-4f1b-f4c6-eedc32071bd0"
   },
   "outputs": [
    {
     "name": "stdout",
     "output_type": "stream",
     "text": [
      "print_sum() 내부 : 10 과 20 의 합은 30 입니다.\n",
      "print_sum() 외부 : 10 과 20 의 합은 30 입니다.\n"
     ]
    }
   ],
   "source": [
    "def print_sum():\n",
    "    result = a + b\n",
    "    print('print_sum() 내부 :', a, '과', b, '의 합은', result, '입니다.')\n",
    "    \n",
    "a = 10\n",
    "b = 20\n",
    "print_sum()\n",
    "result = a + b\n",
    "print('print_sum() 외부 :', a, '과', b, '의 합은', result, '입니다.')"
   ]
  },
  {
   "cell_type": "markdown",
   "metadata": {
    "colab_type": "text",
    "id": "ugUotBeTATn1"
   },
   "source": [
    "# 코드 4-15 : 함수 외부에서 정의된 값을 함수 내부에서 변경하는 경우\n",
    "## sum_func_global2.py"
   ]
  },
  {
   "cell_type": "code",
   "execution_count": null,
   "metadata": {
    "colab": {
     "base_uri": "https://localhost:8080/",
     "height": 35
    },
    "colab_type": "code",
    "id": "YUQsv9B1ATn3",
    "outputId": "ca06bd4f-f009-46ba-b279-4231c36de931"
   },
   "outputs": [
    {
     "name": "stdout",
     "output_type": "stream",
     "text": [
      "print_sum() 내부 : 100 과 200 의 합은 300 입니다.\n"
     ]
    }
   ],
   "source": [
    "def print_sum():\n",
    "    a = 100\n",
    "    b = 200\n",
    "    result = a + b\n",
    "    print('print_sum() 내부 :', a, '과', b, '의 합은', result, '입니다.')\n",
    "    \n",
    "a = 10\n",
    "b = 20\n",
    "print_sum()"
   ]
  },
  {
   "cell_type": "markdown",
   "metadata": {
    "colab_type": "text",
    "id": "IVawMt99ATn9"
   },
   "source": [
    "# 코드 4-16 : 함수 내부에서 값을 변경하고, 그 값을 외부에서 확인하기\n",
    "## sum_func_global3.py "
   ]
  },
  {
   "cell_type": "code",
   "execution_count": null,
   "metadata": {
    "colab": {
     "base_uri": "https://localhost:8080/",
     "height": 53
    },
    "colab_type": "code",
    "id": "bfFLSIpmATn-",
    "outputId": "59811c38-b7d0-49df-fc41-07da6b7c555d"
   },
   "outputs": [
    {
     "name": "stdout",
     "output_type": "stream",
     "text": [
      "print_sum() 내부 : 100 과 200 의 합은 300 입니다.\n",
      "print_sum() 외부 : 10 과 20 의 합은 30 입니다.\n"
     ]
    }
   ],
   "source": [
    "def print_sum():\n",
    "    a = 100\n",
    "    b = 200\n",
    "    result = a + b\n",
    "    print('print_sum() 내부 :', a, '과', b, '의 합은', result, '입니다.')\n",
    "    \n",
    "a = 10\n",
    "b = 20\n",
    "print_sum()\n",
    "result = a + b\n",
    "print('print_sum() 외부 :', a, '과', b, '의 합은', result, '입니다.')"
   ]
  },
  {
   "cell_type": "markdown",
   "metadata": {
    "colab_type": "text",
    "id": "LgOXPR5fAToF"
   },
   "source": [
    "# 코드 4-17 : global 키워드를 사용한 전역변수의 참조 방법\n",
    "## sum_func_global4.py "
   ]
  },
  {
   "cell_type": "code",
   "execution_count": null,
   "metadata": {
    "colab": {
     "base_uri": "https://localhost:8080/",
     "height": 53
    },
    "colab_type": "code",
    "id": "vmVr03qMAToI",
    "outputId": "6ed22c85-f735-4380-903a-d2ad4d27c702"
   },
   "outputs": [
    {
     "name": "stdout",
     "output_type": "stream",
     "text": [
      "print_sum() 내부 : 100 과 200 의 합은 300 입니다.\n",
      "print_sum() 외부 : 100 과 200 의 합은 300 입니다.\n"
     ]
    }
   ],
   "source": [
    "def print_sum():\n",
    "    global a, b     # a, b는 함수외부에서 선언된 a, b를 사용한다.\n",
    "    a = 100\n",
    "    b = 200\n",
    "    result = a + b\n",
    "    print('print_sum() 내부 :', a, '과', b, '의 합은', result, '입니다.')\n",
    "    \n",
    "a = 10\n",
    "b = 20\n",
    "print_sum()\n",
    "result = a + b\n",
    "print('print_sum() 외부 :', a, '과', b, '의 합은', result, '입니다.')"
   ]
  },
  {
   "cell_type": "markdown",
   "metadata": {
    "colab_type": "text",
    "id": "Nqp7FaX1AToO"
   },
   "source": [
    "# 코드 4-18 : 인자를 빠뜨린 호출\n",
    "## print_star_param_error.py"
   ]
  },
  {
   "cell_type": "code",
   "execution_count": null,
   "metadata": {
    "colab": {
     "base_uri": "https://localhost:8080/",
     "height": 208
    },
    "colab_type": "code",
    "id": "oZaviZyVAToQ",
    "outputId": "f5a25b84-8c7a-4bba-8a14-1968dc159490"
   },
   "outputs": [
    {
     "ename": "TypeError",
     "evalue": "ignored",
     "output_type": "error",
     "traceback": [
      "\u001b[0;31m---------------------------------------------------------------------------\u001b[0m",
      "\u001b[0;31mTypeError\u001b[0m                                 Traceback (most recent call last)",
      "\u001b[0;32m<ipython-input-109-6d1876493ea4>\u001b[0m in \u001b[0;36m<module>\u001b[0;34m()\u001b[0m\n\u001b[1;32m      3\u001b[0m         \u001b[0mprint\u001b[0m\u001b[0;34m(\u001b[0m\u001b[0;34m'************************'\u001b[0m\u001b[0;34m)\u001b[0m\u001b[0;34m\u001b[0m\u001b[0;34m\u001b[0m\u001b[0m\n\u001b[1;32m      4\u001b[0m \u001b[0;34m\u001b[0m\u001b[0m\n\u001b[0;32m----> 5\u001b[0;31m \u001b[0mprint_star\u001b[0m\u001b[0;34m(\u001b[0m\u001b[0;34m)\u001b[0m \u001b[0;31m# 인자가 없으므로 에러 발생\u001b[0m\u001b[0;34m\u001b[0m\u001b[0;34m\u001b[0m\u001b[0m\n\u001b[0m",
      "\u001b[0;31mTypeError\u001b[0m: print_star() missing 1 required positional argument: 'n'"
     ]
    }
   ],
   "source": [
    "def print_star(n):      # 인자를 하나 필요로 함\n",
    "    for _ in range(n):\n",
    "        print('************************')\n",
    "        \n",
    "print_star() # 인자가 없으므로 에러 발생"
   ]
  },
  {
   "cell_type": "markdown",
   "metadata": {
    "colab_type": "text",
    "id": "Z3CBIHsrAToa"
   },
   "source": [
    "# 코드 4-19 : 디폴트 값을 가지는 print_star() 함수\n",
    "## print_default_param.py"
   ]
  },
  {
   "cell_type": "code",
   "execution_count": null,
   "metadata": {
    "colab": {
     "base_uri": "https://localhost:8080/",
     "height": 35
    },
    "colab_type": "code",
    "id": "kb4N3ZC0ATod",
    "outputId": "f2a577a0-6643-47cf-af5e-beb84479afaa"
   },
   "outputs": [
    {
     "name": "stdout",
     "output_type": "stream",
     "text": [
      "************************\n"
     ]
    }
   ],
   "source": [
    "def print_star(n = 1):  # 매개변수 n은 디폴트 값 1을 가짐\n",
    "    for _ in range(n):\n",
    "        print('************************')\n",
    "        \n",
    "print_star() # 인자가 없더라도 에러 없이 수행됨"
   ]
  },
  {
   "cell_type": "code",
   "execution_count": null,
   "metadata": {
    "colab": {
     "base_uri": "https://localhost:8080/",
     "height": 53
    },
    "colab_type": "code",
    "id": "5aTntNVWAToi",
    "outputId": "a54c121e-b05f-4d7d-99d7-620ca7667472"
   },
   "outputs": [
    {
     "name": "stdout",
     "output_type": "stream",
     "text": [
      "************************\n",
      "************************\n"
     ]
    }
   ],
   "source": [
    "def print_star(n = 1):  # 디폴트 매개변수로 1을 가짐\n",
    "    for _ in range(n):\n",
    "        print('************************')\n",
    "        \n",
    "print_star(2)  # 인자 값이 2이므로 디폴트 매개변수 n = 1은 수행되지 않음"
   ]
  },
  {
   "cell_type": "markdown",
   "metadata": {
    "colab_type": "text",
    "id": "e_EAeVMTATor"
   },
   "source": [
    "# 코드 4-20 : 디폴트 인자를 1개 사용한 div() 함수\n",
    "## default_param1.py"
   ]
  },
  {
   "cell_type": "code",
   "execution_count": null,
   "metadata": {
    "colab": {
     "base_uri": "https://localhost:8080/",
     "height": 53
    },
    "colab_type": "code",
    "id": "QJMz--JLATos",
    "outputId": "fd4e2534-d0bc-4f6a-f223-60d1f6e10051",
    "scrolled": true
   },
   "outputs": [
    {
     "name": "stdout",
     "output_type": "stream",
     "text": [
      "div(4) = 2.0\n",
      "div(6, 3) = 2.0\n"
     ]
    }
   ],
   "source": [
    "def div(a, b = 2):\n",
    "    return a / b\n",
    "\n",
    "print('div(4) =', div(4))\n",
    "print('div(6, 3) =', div(6, 3))"
   ]
  },
  {
   "cell_type": "code",
   "execution_count": null,
   "metadata": {
    "colab": {
     "base_uri": "https://localhost:8080/",
     "height": 136
    },
    "colab_type": "code",
    "id": "XX3PgnAdGxje",
    "outputId": "4d15fdd3-910c-485f-de06-6d8a14849e3a"
   },
   "outputs": [
    {
     "ename": "SyntaxError",
     "evalue": "ignored",
     "output_type": "error",
     "traceback": [
      "\u001b[0;36m  File \u001b[0;32m\"<ipython-input-113-48c2fea5df1e>\"\u001b[0;36m, line \u001b[0;32m1\u001b[0m\n\u001b[0;31m    def div(a = 2, b):\u001b[0m\n\u001b[0m           ^\u001b[0m\n\u001b[0;31mSyntaxError\u001b[0m\u001b[0;31m:\u001b[0m non-default argument follows default argument\n"
     ]
    }
   ],
   "source": [
    "def div(a = 2, b):\n",
    "    return a / b"
   ]
  },
  {
   "cell_type": "markdown",
   "metadata": {
    "colab_type": "text",
    "id": "XGu3iktcATox"
   },
   "source": [
    "# 코드 4-21 : 매개변수에 디폴트 값을 2개 사용한 div() 함수\n",
    "## default_param2.py"
   ]
  },
  {
   "cell_type": "code",
   "execution_count": null,
   "metadata": {
    "colab": {
     "base_uri": "https://localhost:8080/",
     "height": 71
    },
    "colab_type": "code",
    "id": "3WOKJdeoAToy",
    "outputId": "36f3f547-8d07-4339-fe39-d4414d97eff1"
   },
   "outputs": [
    {
     "name": "stdout",
     "output_type": "stream",
     "text": [
      "div() = 0.5\n",
      "div(4) = 2.0\n",
      "div(6, 3) = 2.0\n"
     ]
    }
   ],
   "source": [
    "def div(a = 1, b = 2):\n",
    "    return a / b\n",
    "\n",
    "print('div() =',div())\n",
    "print('div(4) =',div(4))\n",
    "print('div(6, 3) =',div(6, 3))"
   ]
  },
  {
   "cell_type": "markdown",
   "metadata": {
    "colab_type": "text",
    "id": "s9JeV3mkATo2"
   },
   "source": [
    "# 코드 4-22 : 2차 방정식의 근을 구하는 함수와 함수 호출문\n",
    "## root_func.py"
   ]
  },
  {
   "cell_type": "code",
   "execution_count": null,
   "metadata": {
    "colab": {
     "base_uri": "https://localhost:8080/",
     "height": 35
    },
    "colab_type": "code",
    "id": "4mXt9w_pATo3",
    "outputId": "5b93404f-8034-4b97-a6e3-fc75df692871"
   },
   "outputs": [
    {
     "name": "stdout",
     "output_type": "stream",
     "text": [
      "해는 2.0 또는 -4.0\n"
     ]
    }
   ],
   "source": [
    "def get_root(a, b, c):\n",
    "    r1 = (-b + (b ** 2 - 4 * a * c) ** 0.5) / (2 * a)\n",
    "    r2 = (-b - (b ** 2 - 4 * a * c) ** 0.5) / (2 * a)\n",
    "    return r1, r2\n",
    "\n",
    "# 함수 호출시 인자를 상수 값을 사용함.\n",
    "# result1, result2를 이용해서 결과 값을 반환 받아온다.\n",
    "result1, result2 = get_root(1, 2, -8)\n",
    "print('해는', result1, '또는', result2)"
   ]
  },
  {
   "cell_type": "code",
   "execution_count": null,
   "metadata": {
    "colab": {
     "base_uri": "https://localhost:8080/",
     "height": 35
    },
    "colab_type": "code",
    "id": "8zn9JnkeGCIX",
    "outputId": "0816f844-520f-45a4-c175-b8f90263b8ad"
   },
   "outputs": [
    {
     "name": "stdout",
     "output_type": "stream",
     "text": [
      "해는 -0.25 또는 0.5\n"
     ]
    }
   ],
   "source": [
    "result1, result2 = get_root(-8, 2, 1)\n",
    "print('해는', result1, '또는', result2)"
   ]
  },
  {
   "cell_type": "code",
   "execution_count": null,
   "metadata": {
    "colab": {
     "base_uri": "https://localhost:8080/",
     "height": 35
    },
    "colab_type": "code",
    "id": "qJF-qQuxATo-",
    "outputId": "d2ab735d-4f57-4bee-d295-3afacef0d8c1"
   },
   "outputs": [
    {
     "name": "stdout",
     "output_type": "stream",
     "text": [
      "해는 2.0 또는 -4.0\n"
     ]
    }
   ],
   "source": [
    "# 아래 세 코드 모두 a는 1, b는 2, c는 -8이라 결과는 동일함\n",
    "result1, result2 = get_root(a = 1, b = 2, c = -8)\n",
    "print('해는', result1, '또는', result2)"
   ]
  },
  {
   "cell_type": "code",
   "execution_count": null,
   "metadata": {
    "colab": {
     "base_uri": "https://localhost:8080/",
     "height": 35
    },
    "colab_type": "code",
    "id": "D8tAvNXEATpD",
    "outputId": "bce9e93e-c6a3-472d-dd5e-d1b87bd98994",
    "scrolled": true
   },
   "outputs": [
    {
     "name": "stdout",
     "output_type": "stream",
     "text": [
      "해는 2.0 또는 -4.0\n"
     ]
    }
   ],
   "source": [
    "result1, result2 = get_root(a = 1, c = -8, b = 2)\n",
    "print('해는', result1, '또는', result2)"
   ]
  },
  {
   "cell_type": "code",
   "execution_count": null,
   "metadata": {
    "colab": {
     "base_uri": "https://localhost:8080/",
     "height": 35
    },
    "colab_type": "code",
    "id": "B4gZUDhaATpI",
    "outputId": "4d7ac6f6-d688-49e3-ebc1-12f5b72813c4"
   },
   "outputs": [
    {
     "name": "stdout",
     "output_type": "stream",
     "text": [
      "해는 2.0 또는 -4.0\n"
     ]
    }
   ],
   "source": [
    "result1, result2 = get_root(c = -8, b = 2, a = 1)\n",
    "print('해는', result1, '또는', result2)"
   ]
  },
  {
   "cell_type": "code",
   "execution_count": null,
   "metadata": {
    "colab": {
     "base_uri": "https://localhost:8080/",
     "height": 136
    },
    "colab_type": "code",
    "id": "Fr0EV8X_ATpN",
    "outputId": "017ebf99-4491-46cb-a157-2494334f34fa",
    "scrolled": true
   },
   "outputs": [
    {
     "ename": "SyntaxError",
     "evalue": "ignored",
     "output_type": "error",
     "traceback": [
      "\u001b[0;36m  File \u001b[0;32m\"<ipython-input-12-10cbe8ea4613>\"\u001b[0;36m, line \u001b[0;32m1\u001b[0m\n\u001b[0;31m    result1, result2 = get_root(c = -8, b = 2, 1)\u001b[0m\n\u001b[0m                                              ^\u001b[0m\n\u001b[0;31mSyntaxError\u001b[0m\u001b[0;31m:\u001b[0m positional argument follows keyword argument\n"
     ]
    }
   ],
   "source": [
    "# 다음과 같이 할 경우 오류가 발생됨\n",
    "result1, result2 = get_root(c = -8, b = 2, 1)\n",
    "print('해는', result1, '또는', result2)"
   ]
  },
  {
   "cell_type": "code",
   "execution_count": null,
   "metadata": {
    "colab": {
     "base_uri": "https://localhost:8080/",
     "height": 136
    },
    "colab_type": "code",
    "id": "dJFjGBrNATpS",
    "outputId": "4a4413ef-efa6-4069-f246-63f8ad2ce6cb"
   },
   "outputs": [
    {
     "ename": "SyntaxError",
     "evalue": "ignored",
     "output_type": "error",
     "traceback": [
      "\u001b[0;36m  File \u001b[0;32m\"<ipython-input-36-aeba582238e5>\"\u001b[0;36m, line \u001b[0;32m1\u001b[0m\n\u001b[0;31m    result1, result2 = get_root(c = -8, 2, 1)\u001b[0m\n\u001b[0m                                       ^\u001b[0m\n\u001b[0;31mSyntaxError\u001b[0m\u001b[0;31m:\u001b[0m positional argument follows keyword argument\n"
     ]
    }
   ],
   "source": [
    "result1, result2 = get_root(c = -8, 2, 1)\n",
    "print('해는', result1, '또는', result2)"
   ]
  },
  {
   "cell_type": "code",
   "execution_count": null,
   "metadata": {
    "colab": {
     "base_uri": "https://localhost:8080/",
     "height": 35
    },
    "colab_type": "code",
    "id": "qBY-IxzOATpW",
    "outputId": "7ec6a4de-7e39-42d7-fb20-ff27e34eedb2"
   },
   "outputs": [
    {
     "name": "stdout",
     "output_type": "stream",
     "text": [
      "해는 2.0 또는 -4.0\n"
     ]
    }
   ],
   "source": [
    "result1, result2 = get_root(1, 2, c = -8)\n",
    "print('해는', result1, '또는', result2)"
   ]
  },
  {
   "cell_type": "code",
   "execution_count": null,
   "metadata": {
    "colab": {
     "base_uri": "https://localhost:8080/",
     "height": 190
    },
    "colab_type": "code",
    "id": "S18Y4j7YATpb",
    "outputId": "96a4031d-7936-4936-86c7-08c0af70ea23"
   },
   "outputs": [
    {
     "ename": "TypeError",
     "evalue": "ignored",
     "output_type": "error",
     "traceback": [
      "\u001b[0;31m---------------------------------------------------------------------------\u001b[0m",
      "\u001b[0;31mTypeError\u001b[0m                                 Traceback (most recent call last)",
      "\u001b[0;32m<ipython-input-37-04ab2a9ba25f>\u001b[0m in \u001b[0;36m<module>\u001b[0;34m()\u001b[0m\n\u001b[0;32m----> 1\u001b[0;31m \u001b[0mresult1\u001b[0m\u001b[0;34m,\u001b[0m \u001b[0mresult2\u001b[0m \u001b[0;34m=\u001b[0m \u001b[0mget_root\u001b[0m\u001b[0;34m(\u001b[0m\u001b[0;36m1\u001b[0m\u001b[0;34m,\u001b[0m \u001b[0;34m-\u001b[0m\u001b[0;36m8\u001b[0m\u001b[0;34m,\u001b[0m \u001b[0mb\u001b[0m \u001b[0;34m=\u001b[0m \u001b[0;36m2\u001b[0m\u001b[0;34m)\u001b[0m\u001b[0;34m\u001b[0m\u001b[0;34m\u001b[0m\u001b[0m\n\u001b[0m\u001b[1;32m      2\u001b[0m \u001b[0mprint\u001b[0m\u001b[0;34m(\u001b[0m\u001b[0;34m'해는'\u001b[0m\u001b[0;34m,\u001b[0m \u001b[0mresult1\u001b[0m\u001b[0;34m,\u001b[0m \u001b[0;34m'또는'\u001b[0m\u001b[0;34m,\u001b[0m \u001b[0mresult2\u001b[0m\u001b[0;34m)\u001b[0m\u001b[0;34m\u001b[0m\u001b[0;34m\u001b[0m\u001b[0m\n",
      "\u001b[0;31mTypeError\u001b[0m: get_root() got multiple values for argument 'b'"
     ]
    }
   ],
   "source": [
    "result1, result2 = get_root(1, -8, b = 2)\n",
    "print('해는', result1, '또는', result2)"
   ]
  },
  {
   "cell_type": "code",
   "execution_count": null,
   "metadata": {
    "colab": {
     "base_uri": "https://localhost:8080/",
     "height": 35
    },
    "colab_type": "code",
    "id": "DTsXj6vWq13x",
    "outputId": "ddf166ba-97e2-4335-f64c-9b5470c26e12"
   },
   "outputs": [
    {
     "name": "stdout",
     "output_type": "stream",
     "text": [
      "1 2 3\n"
     ]
    }
   ],
   "source": [
    "def func(a, b, c) :\n",
    "    print(a, b, c) \n",
    "\n",
    "func(1, 2, 3) "
   ]
  },
  {
   "cell_type": "code",
   "execution_count": null,
   "metadata": {
    "colab": {
     "base_uri": "https://localhost:8080/",
     "height": 35
    },
    "colab_type": "code",
    "id": "5XKER3X5q9RR",
    "outputId": "66942977-29c3-422e-99b6-abc7f0e0bbe3"
   },
   "outputs": [
    {
     "name": "stdout",
     "output_type": "stream",
     "text": [
      "1 3 2\n"
     ]
    }
   ],
   "source": [
    "func(1, c=2, b=3) "
   ]
  },
  {
   "cell_type": "code",
   "execution_count": null,
   "metadata": {
    "colab": {
     "base_uri": "https://localhost:8080/",
     "height": 136
    },
    "colab_type": "code",
    "id": "hLAk6bQMq_Xp",
    "outputId": "08b3be9d-d558-4405-908e-3fddd43fb8e1"
   },
   "outputs": [
    {
     "ename": "SyntaxError",
     "evalue": "ignored",
     "output_type": "error",
     "traceback": [
      "\u001b[0;36m  File \u001b[0;32m\"<ipython-input-16-db0609c7e738>\"\u001b[0;36m, line \u001b[0;32m1\u001b[0m\n\u001b[0;31m    func(1, b=2, 3)\u001b[0m\n\u001b[0m                ^\u001b[0m\n\u001b[0;31mSyntaxError\u001b[0m\u001b[0;31m:\u001b[0m positional argument follows keyword argument\n"
     ]
    }
   ],
   "source": [
    " # 키워드 인자 b 다음에 위치 인자 3을 두면 안됨\n",
    " # 에러 발생\n",
    " func(1, b=2, 3) "
   ]
  },
  {
   "cell_type": "markdown",
   "metadata": {
    "colab_type": "text",
    "id": "Csy5eGYb6mVu"
   },
   "source": [
    "## 코드 4-23 : 직사각형과 원의 면적을 구하는 함수의 구현\n",
    "### areas_of_shapes.py"
   ]
  },
  {
   "cell_type": "code",
   "execution_count": null,
   "metadata": {
    "colab": {
     "base_uri": "https://localhost:8080/",
     "height": 54
    },
    "colab_type": "code",
    "id": "oB0tFFJf6p02",
    "outputId": "24066c0c-3302-4556-f6ea-edb9292e8b38"
   },
   "outputs": [
    {
     "name": "stdout",
     "output_type": "stream",
     "text": [
      "rect area = 20\n",
      "circle area = 78.5\n"
     ]
    }
   ],
   "source": [
    "def func(shape, width=1, height=1, radius=1):\n",
    "    if shape == 0 : # shape 값이 0이면 사각형의 면적을 반환\n",
    "        return width * height\n",
    "    if shape == 1 : # shape 값이 1이면 원의 면적을 반환\n",
    "        return 3.14 * radius ** 2\n",
    "\n",
    "print(\"rect area =\", func(0, width=10, height=2))\n",
    "print(\"circle area =\", func(1, radius=5))"
   ]
  },
  {
   "cell_type": "markdown",
   "metadata": {
    "colab_type": "text",
    "id": "58nAxieO6ypr"
   },
   "source": [
    "### 주의!!!"
   ]
  },
  {
   "cell_type": "code",
   "execution_count": null,
   "metadata": {
    "colab": {
     "base_uri": "https://localhost:8080/",
     "height": 35
    },
    "colab_type": "code",
    "id": "QjGuuJpb600H",
    "outputId": "81537217-1b0e-4b45-8833-38b902e90367"
   },
   "outputs": [
    {
     "name": "stdout",
     "output_type": "stream",
     "text": [
      "rect area = 1\n"
     ]
    }
   ],
   "source": [
    "print(\"rect area =\", func(0, radius=5))"
   ]
  },
  {
   "cell_type": "markdown",
   "metadata": {
    "colab_type": "text",
    "id": "Y_1hwLvjATpg"
   },
   "source": [
    "# 코드 4-24 : 인자를 하나 가지는 함수\n",
    "## arg_greet1.py"
   ]
  },
  {
   "cell_type": "code",
   "execution_count": null,
   "metadata": {
    "colab": {
     "base_uri": "https://localhost:8080/",
     "height": 35
    },
    "colab_type": "code",
    "id": "UDBKdOGbATpg",
    "outputId": "1910294c-8219-4b94-aec8-86c0bd3f4a12"
   },
   "outputs": [
    {
     "name": "stdout",
     "output_type": "stream",
     "text": [
      "안녕하세요 홍길동 씨\n"
     ]
    }
   ],
   "source": [
    "def greet1(name):\n",
    "    print('안녕하세요', name, '씨')\n",
    "    \n",
    "greet1('홍길동')"
   ]
  },
  {
   "cell_type": "markdown",
   "metadata": {
    "colab_type": "text",
    "id": "-k1VPn3EATpo"
   },
   "source": [
    "# 코드 4-25 : 인자를 2개 가지는 함수\n",
    "## arg_greet2.py"
   ]
  },
  {
   "cell_type": "code",
   "execution_count": null,
   "metadata": {
    "colab": {
     "base_uri": "https://localhost:8080/",
     "height": 53
    },
    "colab_type": "code",
    "id": "gMTsRDU4ATpp",
    "outputId": "a4856fc6-9e6e-4b01-85e5-6a2687427a0c"
   },
   "outputs": [
    {
     "name": "stdout",
     "output_type": "stream",
     "text": [
      "안녕하세요 홍길동 씨\n",
      "안녕하세요 홍길순 씨\n"
     ]
    }
   ],
   "source": [
    "def greet2(name1, name2):\n",
    "    print('안녕하세요', name1, '씨')\n",
    "    print('안녕하세요', name2, '씨')\n",
    "    \n",
    "greet2('홍길동','홍길순')"
   ]
  },
  {
   "cell_type": "code",
   "execution_count": null,
   "metadata": {
    "colab": {
     "base_uri": "https://localhost:8080/",
     "height": 73
    },
    "colab_type": "code",
    "id": "-B4xcEnQAvlz",
    "outputId": "a0787438-4105-4975-f2ba-3263baa6823e"
   },
   "outputs": [
    {
     "name": "stdout",
     "output_type": "stream",
     "text": [
      "안녕하세요 홍길동 씨\n",
      "안녕하세요 홍길순 씨\n",
      "안녕하세요 박동규 씨\n"
     ]
    }
   ],
   "source": [
    "def greet3(name1, name2, name3):\n",
    "    print('안녕하세요', name1, '씨')\n",
    "    print('안녕하세요', name2, '씨')\n",
    "    print('안녕하세요', name3, '씨')\n",
    "    \n",
    "greet3('홍길동','홍길순','박동규')"
   ]
  },
  {
   "cell_type": "markdown",
   "metadata": {
    "colab_type": "text",
    "id": "66g6efj6ATpt"
   },
   "source": [
    "# 코드 4-26 : 가변 인자를 가지는 함수의 정의와 호출\n",
    "## arg_greet.py"
   ]
  },
  {
   "cell_type": "code",
   "execution_count": null,
   "metadata": {
    "colab": {
     "base_uri": "https://localhost:8080/",
     "height": 107
    },
    "colab_type": "code",
    "id": "VH87GgWoATpx",
    "outputId": "b35dc33e-f52e-4593-c209-9c73729174a5"
   },
   "outputs": [
    {
     "name": "stdout",
     "output_type": "stream",
     "text": [
      "안녕하세요 홍길동 씨\n",
      "안녕하세요 양만춘 씨\n",
      "안녕하세요 이순신 씨\n",
      "안녕하세요 James 씨\n",
      "안녕하세요 Thomas 씨\n"
     ]
    }
   ],
   "source": [
    "def greet(*names):\n",
    "   for name in names:\n",
    "       print('안녕하세요', name, '씨')\n",
    "   \n",
    "greet('홍길동', '양만춘', '이순신') # 인자가 3개\n",
    "greet('James', 'Thomas') # 인자가 2개"
   ]
  },
  {
   "cell_type": "markdown",
   "metadata": {
    "colab_type": "text",
    "id": "xh48i_E4ATp_"
   },
   "source": [
    "# 코드 4-27 : 가변 인자를 가지는 함수에서 len() 함수 활용\n",
    "## arg_foo.py"
   ]
  },
  {
   "cell_type": "code",
   "execution_count": null,
   "metadata": {
    "colab": {
     "base_uri": "https://localhost:8080/",
     "height": 53
    },
    "colab_type": "code",
    "id": "oVekmxOYATqA",
    "outputId": "99b4ee10-c13b-45fc-e65b-c89dfe0bceae"
   },
   "outputs": [
    {
     "name": "stdout",
     "output_type": "stream",
     "text": [
      "인자의 개수: 3\n",
      "인자들 : (10, 20, 30)\n"
     ]
    }
   ],
   "source": [
    "def foo(*args):\n",
    "    print('인자의 개수:', len(args))\n",
    "    print('인자들 :', args)\n",
    "    \n",
    "foo(10, 20, 30)"
   ]
  },
  {
   "cell_type": "markdown",
   "metadata": {
    "colab_type": "text",
    "id": "zBl9WBN6ATqD"
   },
   "source": [
    "# 코드 4-28 : 가변 인자를 가지는 함수를 이용한 합계 구하기\n",
    "## arg_sum_nums.py"
   ]
  },
  {
   "cell_type": "code",
   "execution_count": null,
   "metadata": {
    "colab": {
     "base_uri": "https://localhost:8080/",
     "height": 53
    },
    "colab_type": "code",
    "id": "mV5o013vATqE",
    "outputId": "57ee08c6-c7fc-4ff4-956f-a65213eb37e6"
   },
   "outputs": [
    {
     "name": "stdout",
     "output_type": "stream",
     "text": [
      "60\n",
      "150\n"
     ]
    }
   ],
   "source": [
    "def sum_nums(*numbers):\n",
    "    result = 0\n",
    "    for n in numbers:\n",
    "        result += n\n",
    "    return result\n",
    "\n",
    "print(sum_nums(10, 20, 30))          # 10, 20, 30 인자들의 합을 출력\n",
    "print(sum_nums(10, 20, 30, 40, 50))  # 10, 20, 30, 40, 50 인자들의 합을 출력"
   ]
  },
  {
   "cell_type": "code",
   "execution_count": null,
   "metadata": {
    "colab": {
     "base_uri": "https://localhost:8080/",
     "height": 53
    },
    "colab_type": "code",
    "id": "6jB8O6FmATqI",
    "outputId": "4dda9bea-ac01-40a6-f6a9-afcd05163061"
   },
   "outputs": [
    {
     "name": "stdout",
     "output_type": "stream",
     "text": [
      "3 개의 인자\n",
      "5 개의 인자\n"
     ]
    }
   ],
   "source": [
    "# 위의 코드를 살짝 변경하여 인자의 갯수를 출력해 볼 수 있다.\n",
    "def get_len(*numbers):\n",
    "    print('{} 개의 인자'.format(len(numbers)))\n",
    " \n",
    "get_len(10, 20, 30) # 인자들의 개수를 출력\n",
    "get_len(10, 20, 30, 40, 50)"
   ]
  },
  {
   "cell_type": "markdown",
   "metadata": {
    "colab_type": "text",
    "id": "m_NIRGiu2-pK"
   },
   "source": [
    "# 코드 4-29 : 재귀함수를 이용하여 정의한 팩토리얼\n",
    "## factorial_recursion.py"
   ]
  },
  {
   "cell_type": "code",
   "execution_count": null,
   "metadata": {
    "colab": {
     "base_uri": "https://localhost:8080/",
     "height": 35
    },
    "colab_type": "code",
    "id": "7LTfTq4N3DHr",
    "outputId": "0d681e2c-9445-443c-fce6-e68dda91495b"
   },
   "outputs": [
    {
     "name": "stdout",
     "output_type": "stream",
     "text": [
      "5! = 120\n"
     ]
    }
   ],
   "source": [
    "def factorial(n):    # n!의 재귀적 구현\n",
    "    if n <= 1 :      # 종료조건이 반드시 필요하다\n",
    "        return 1\n",
    "    else :\n",
    "        return n * factorial(n-1)     # n * (n-1)! 정의에 따른 구현\n",
    " \n",
    "n = 5\n",
    "print('{}! = {}'.format(n, factorial(n)))"
   ]
  },
  {
   "cell_type": "markdown",
   "metadata": {
    "colab_type": "text",
    "id": "EA8RFG4v3I8x"
   },
   "source": [
    "# 코드 4-30 : 재귀함수를 이용하여 정의한 피보나치 수열\n",
    "## fibonacci_recursion.py"
   ]
  },
  {
   "cell_type": "code",
   "execution_count": null,
   "metadata": {
    "colab": {
     "base_uri": "https://localhost:8080/",
     "height": 53
    },
    "colab_type": "code",
    "id": "3YNkYn2B26aL",
    "outputId": "3285abfe-ac64-4854-c929-05fb3bd11b19"
   },
   "outputs": [
    {
     "name": "stdout",
     "output_type": "stream",
     "text": [
      "몇 개의 피보나치수를 원하세요? 10\n",
      "Fibonacci 수열: 0 1 1 2 3 5 8 13 21 34 "
     ]
    }
   ],
   "source": [
    "def fibonacci(n):      # 피보나치 함수의 재귀적 구현\n",
    "   if n <= 1:          # 피보나치 함수의 종료조건\n",
    "       return n  \n",
    "   else:  \n",
    "       return(fibonacci(n-1) + fibonacci(n-2))   # F_n = F_(n-1) + F_(n-2)\n",
    "\n",
    "nterms = int(input(\"몇 개의 피보나치수를 원하세요? \"))  \n",
    "\n",
    "# 음수일 경우 피보나치 수를 구할 수 없음.\n",
    "if nterms <= 0:  \n",
    "   print(\"오류 : 양수를 입력하세요.\")  \n",
    "else:  \n",
    "   print(\"Fibonacci 수열: \", end = '')  \n",
    "   for i in range(nterms):  \n",
    "       print(fibonacci(i), end=' ') "
   ]
  },
  {
   "cell_type": "markdown",
   "metadata": {
    "colab_type": "text",
    "id": "23C99xUHATqR"
   },
   "source": [
    "# 코드 4-31 : input 입력함수를 사용한 name의 입력 방법\n",
    "## input_name1.py"
   ]
  },
  {
   "cell_type": "code",
   "execution_count": null,
   "metadata": {
    "colab": {
     "base_uri": "https://localhost:8080/",
     "height": 72
    },
    "colab_type": "code",
    "id": "zKVoBWV0ATqT",
    "outputId": "9491b68f-4a42-43ed-eeba-ae131ba2f6d8"
   },
   "outputs": [
    {
     "name": "stdout",
     "output_type": "stream",
     "text": [
      "Enter your name : \n",
      "Hong GilDong\n",
      "Hello Hong GilDong !\n"
     ]
    }
   ],
   "source": [
    "print('Enter your name : ')\n",
    "name = input()    # 사용자의 키보드 입력 값을 name이 참조함\n",
    "print('Hello', name, '!')"
   ]
  },
  {
   "cell_type": "markdown",
   "metadata": {
    "colab_type": "text",
    "id": "xWvQZRmWATqW"
   },
   "source": [
    "# 코드 4-32 : 문자열을 이용한 input 입력함수의 사용법\n",
    "## input_name2.py"
   ]
  },
  {
   "cell_type": "code",
   "execution_count": null,
   "metadata": {
    "colab": {
     "base_uri": "https://localhost:8080/",
     "height": 53
    },
    "colab_type": "code",
    "id": "gWykcs9xATqX",
    "outputId": "f7d1c524-57b3-4e06-df34-95b67ea0cd7f"
   },
   "outputs": [
    {
     "name": "stdout",
     "output_type": "stream",
     "text": [
      "Enter your name : Hong GilDong\n",
      "Hello Hong GilDong !\n"
     ]
    }
   ],
   "source": [
    "name = input('Enter your name : ')\n",
    "print('Hello', name, '!')"
   ]
  },
  {
   "cell_type": "code",
   "execution_count": null,
   "metadata": {
    "colab": {
     "base_uri": "https://localhost:8080/",
     "height": 55
    },
    "colab_type": "code",
    "id": "xaIoNobcG-Fm",
    "outputId": "8c6541af-a45d-4a3e-84df-8e89f79c3af7"
   },
   "outputs": [
    {
     "name": "stdout",
     "output_type": "stream",
     "text": [
      "Enter your name : 홍길동\n",
      "Hello 홍길동 !\n"
     ]
    }
   ],
   "source": [
    "name = input('Enter your name : ')\n",
    "print('Hello', name, '!')"
   ]
  },
  {
   "cell_type": "markdown",
   "metadata": {
    "colab_type": "text",
    "id": "XLiUccPfATqb"
   },
   "source": [
    "## 대화창 실습 : 정수형과 문자열형의 덧셈, 서로 다른 자료형의 덧셈"
   ]
  },
  {
   "cell_type": "code",
   "execution_count": null,
   "metadata": {
    "colab": {
     "base_uri": "https://localhost:8080/",
     "height": 35
    },
    "colab_type": "code",
    "id": "lW0P7HQ6ATqc",
    "outputId": "e6d6e606-aa66-4953-d3b5-dfcb7bbdd7e9"
   },
   "outputs": [
    {
     "data": {
      "text/plain": [
       "101"
      ]
     },
     "execution_count": 54,
     "metadata": {
      "tags": []
     },
     "output_type": "execute_result"
    }
   ],
   "source": [
    "100 + 1     # 정수의 덧셈"
   ]
  },
  {
   "cell_type": "code",
   "execution_count": null,
   "metadata": {
    "colab": {
     "base_uri": "https://localhost:8080/",
     "height": 35
    },
    "colab_type": "code",
    "id": "obNZ7hjqATqg",
    "outputId": "c7f190c6-b72d-4c97-b4c1-161550071083"
   },
   "outputs": [
    {
     "data": {
      "text/plain": [
       "'1001'"
      ]
     },
     "execution_count": 55,
     "metadata": {
      "tags": []
     },
     "output_type": "execute_result"
    }
   ],
   "source": [
    "'100' + '1' # 문자열의 덧셈"
   ]
  },
  {
   "cell_type": "code",
   "execution_count": null,
   "metadata": {
    "colab": {
     "base_uri": "https://localhost:8080/",
     "height": 172
    },
    "colab_type": "code",
    "id": "T8i_iG6QATqo",
    "outputId": "4d1bf730-aae5-4d16-e4ed-b393f5dd5b0b",
    "scrolled": true
   },
   "outputs": [
    {
     "ename": "TypeError",
     "evalue": "ignored",
     "output_type": "error",
     "traceback": [
      "\u001b[0;31m---------------------------------------------------------------------------\u001b[0m",
      "\u001b[0;31mTypeError\u001b[0m                                 Traceback (most recent call last)",
      "\u001b[0;32m<ipython-input-56-6319bb9dfb3c>\u001b[0m in \u001b[0;36m<module>\u001b[0;34m()\u001b[0m\n\u001b[0;32m----> 1\u001b[0;31m \u001b[0;34m'100'\u001b[0m \u001b[0;34m+\u001b[0m \u001b[0;36m1\u001b[0m   \u001b[0;31m# 문자열과 정수의 덧셈\u001b[0m\u001b[0;34m\u001b[0m\u001b[0;34m\u001b[0m\u001b[0m\n\u001b[0m",
      "\u001b[0;31mTypeError\u001b[0m: must be str, not int"
     ]
    }
   ],
   "source": [
    "'100' + 1   # 문자열과 정수의 덧셈"
   ]
  },
  {
   "cell_type": "markdown",
   "metadata": {
    "colab_type": "text",
    "id": "Qy52Jrc4ATqt"
   },
   "source": [
    "## 대화창 실습 : int 함수와 float 함수를 이용한 문자열의 변환"
   ]
  },
  {
   "cell_type": "code",
   "execution_count": null,
   "metadata": {
    "colab": {
     "base_uri": "https://localhost:8080/",
     "height": 35
    },
    "colab_type": "code",
    "id": "fT9esxRfATqu",
    "outputId": "8562d850-a900-40a0-8c23-dc3ee5f3c6ce"
   },
   "outputs": [
    {
     "data": {
      "text/plain": [
       "101"
      ]
     },
     "execution_count": 57,
     "metadata": {
      "tags": []
     },
     "output_type": "execute_result"
    }
   ],
   "source": [
    "int('100') + 1"
   ]
  },
  {
   "cell_type": "code",
   "execution_count": null,
   "metadata": {
    "colab": {
     "base_uri": "https://localhost:8080/",
     "height": 35
    },
    "colab_type": "code",
    "id": "L6wo_q58ATqy",
    "outputId": "236d0f1b-519e-435e-f4ab-4c8d7ae48adc",
    "scrolled": true
   },
   "outputs": [
    {
     "data": {
      "text/plain": [
       "101.0"
      ]
     },
     "execution_count": 58,
     "metadata": {
      "tags": []
     },
     "output_type": "execute_result"
    }
   ],
   "source": [
    "float('100') + 1"
   ]
  },
  {
   "cell_type": "code",
   "execution_count": null,
   "metadata": {
    "colab": {
     "base_uri": "https://localhost:8080/",
     "height": 35
    },
    "colab_type": "code",
    "id": "Ky5CdghtKJuz",
    "outputId": "b0a8ab3b-e3ff-4bfc-f89a-ff7cc066f7a0"
   },
   "outputs": [
    {
     "data": {
      "text/plain": [
       "'1001'"
      ]
     },
     "execution_count": 59,
     "metadata": {
      "tags": []
     },
     "output_type": "execute_result"
    }
   ],
   "source": [
    "'100' + str(1)"
   ]
  },
  {
   "cell_type": "markdown",
   "metadata": {
    "colab_type": "text",
    "id": "uBAooINVATq1"
   },
   "source": [
    "## 대화창 실습 : 대화형 모드를 통한 input()과 int() 함수"
   ]
  },
  {
   "cell_type": "code",
   "execution_count": null,
   "metadata": {
    "colab": {
     "base_uri": "https://localhost:8080/",
     "height": 35
    },
    "colab_type": "code",
    "id": "BwFL1LWYATq2",
    "outputId": "0caed137-201a-4f2e-82c7-56c63a90e19b"
   },
   "outputs": [
    {
     "name": "stdout",
     "output_type": "stream",
     "text": [
      "숫자를 입력하세요: 100\n"
     ]
    }
   ],
   "source": [
    "num1 = int(input(\"숫자를 입력하세요: \"))"
   ]
  },
  {
   "cell_type": "code",
   "execution_count": null,
   "metadata": {
    "colab": {
     "base_uri": "https://localhost:8080/",
     "height": 35
    },
    "colab_type": "code",
    "id": "WYsRhc94ATq5",
    "outputId": "85361117-9647-405c-951e-a79a095aac06"
   },
   "outputs": [
    {
     "name": "stdout",
     "output_type": "stream",
     "text": [
      "숫자를 입력하세요: 200\n"
     ]
    }
   ],
   "source": [
    "num2 = int(input(\"숫자를 입력하세요: \"))"
   ]
  },
  {
   "cell_type": "code",
   "execution_count": null,
   "metadata": {
    "colab": {
     "base_uri": "https://localhost:8080/",
     "height": 35
    },
    "colab_type": "code",
    "id": "xIrsRKXdATq8",
    "outputId": "5d4567ea-6b16-4731-ecd1-85d68e99f5e8"
   },
   "outputs": [
    {
     "name": "stdout",
     "output_type": "stream",
     "text": [
      "두 수의 합은 300 입니다.\n"
     ]
    }
   ],
   "source": [
    "num3 = num1 + num2\n",
    "print(\"두 수의 합은\", num3, \"입니다.\")"
   ]
  },
  {
   "cell_type": "markdown",
   "metadata": {
    "colab_type": "text",
    "id": "nN48WnXXATrC"
   },
   "source": [
    "## 대화창 실습 : input() 함수와 공백 구분자를 사용한 split() 메소드"
   ]
  },
  {
   "cell_type": "code",
   "execution_count": null,
   "metadata": {
    "colab": {
     "base_uri": "https://localhost:8080/",
     "height": 35
    },
    "colab_type": "code",
    "id": "ADiEzHTyATrD",
    "outputId": "e549c838-7e05-45e6-c8af-d3914fa777c8"
   },
   "outputs": [
    {
     "name": "stdout",
     "output_type": "stream",
     "text": [
      "문자열 2개를 입력하세요: Hello Python\n"
     ]
    }
   ],
   "source": [
    "s1, s2 = input('문자열 2개를 입력하세요: ').split()"
   ]
  },
  {
   "cell_type": "code",
   "execution_count": null,
   "metadata": {
    "colab": {
     "base_uri": "https://localhost:8080/",
     "height": 35
    },
    "colab_type": "code",
    "id": "9dvQt-FiATrG",
    "outputId": "49e2d27a-3791-4c63-9869-178e7beb1611"
   },
   "outputs": [
    {
     "data": {
      "text/plain": [
       "'Hello'"
      ]
     },
     "execution_count": 64,
     "metadata": {
      "tags": []
     },
     "output_type": "execute_result"
    }
   ],
   "source": [
    "s1"
   ]
  },
  {
   "cell_type": "code",
   "execution_count": null,
   "metadata": {
    "colab": {
     "base_uri": "https://localhost:8080/",
     "height": 35
    },
    "colab_type": "code",
    "id": "0cFyEMWxATrJ",
    "outputId": "3b082f17-a8b6-48db-c147-ab55177b7676"
   },
   "outputs": [
    {
     "data": {
      "text/plain": [
       "'Python'"
      ]
     },
     "execution_count": 65,
     "metadata": {
      "tags": []
     },
     "output_type": "execute_result"
    }
   ],
   "source": [
    "s2"
   ]
  },
  {
   "cell_type": "code",
   "execution_count": null,
   "metadata": {
    "colab": {
     "base_uri": "https://localhost:8080/",
     "height": 34
    },
    "colab_type": "code",
    "id": "QYI1cQg2JXi5",
    "outputId": "01f01504-e05a-40bd-ea3e-ae981dc66fde"
   },
   "outputs": [
    {
     "data": {
      "text/plain": [
       "['Hi', 'Changwon', 'National,University']"
      ]
     },
     "execution_count": 32,
     "metadata": {
      "tags": []
     },
     "output_type": "execute_result"
    }
   ],
   "source": [
    "'Hi|Changwon|National,University'.split('|')"
   ]
  },
  {
   "cell_type": "markdown",
   "metadata": {
    "colab_type": "text",
    "id": "9-_0Ku4_ATrM"
   },
   "source": [
    "## 대화창 실습 : 공백 구분자를 사용한 input() 함수 실습"
   ]
  },
  {
   "cell_type": "code",
   "execution_count": null,
   "metadata": {
    "colab": {
     "base_uri": "https://localhost:8080/",
     "height": 35
    },
    "colab_type": "code",
    "id": "zZbGd0uYATrM",
    "outputId": "e7365db5-726a-4886-b69c-a322efa0a8cf",
    "scrolled": true
   },
   "outputs": [
    {
     "name": "stdout",
     "output_type": "stream",
     "text": [
      "세 정수를 입력하세요: 100 200 300\n"
     ]
    }
   ],
   "source": [
    "num1, num2, num3 = input('세 정수를 입력하세요: ').split()"
   ]
  },
  {
   "cell_type": "code",
   "execution_count": null,
   "metadata": {
    "colab": {},
    "colab_type": "code",
    "id": "fK0GEowFATrP"
   },
   "outputs": [],
   "source": [
    "num1, num2, num3 = int(num1), int(num2), int(num3)"
   ]
  },
  {
   "cell_type": "code",
   "execution_count": null,
   "metadata": {
    "colab": {
     "base_uri": "https://localhost:8080/",
     "height": 35
    },
    "colab_type": "code",
    "id": "rLcBhpLjKr6d",
    "outputId": "c11ec6b6-bdf0-4880-886c-99371eb80a62"
   },
   "outputs": [
    {
     "data": {
      "text/plain": [
       "(100, 200, 300)"
      ]
     },
     "execution_count": 68,
     "metadata": {
      "tags": []
     },
     "output_type": "execute_result"
    }
   ],
   "source": [
    "num1, num2, num3   "
   ]
  },
  {
   "cell_type": "markdown",
   "metadata": {
    "colab_type": "text",
    "id": "vXnb4g1zATrU"
   },
   "source": [
    "## 대화창 실습 : 쉼표 구분자를 이용한 input() 함수 실습"
   ]
  },
  {
   "cell_type": "code",
   "execution_count": null,
   "metadata": {
    "colab": {
     "base_uri": "https://localhost:8080/",
     "height": 35
    },
    "colab_type": "code",
    "id": "qxFLL4xKATrV",
    "outputId": "84caaaca-3b0c-462a-d110-f00de97914ee"
   },
   "outputs": [
    {
     "name": "stdout",
     "output_type": "stream",
     "text": [
      "세 정수를 ,로 구분하여 입력하세요: 100,200,300\n"
     ]
    }
   ],
   "source": [
    "num1, num2, num3 = input('세 정수를 ,로 구분하여 입력하세요: ').split(',')"
   ]
  },
  {
   "cell_type": "code",
   "execution_count": null,
   "metadata": {
    "colab": {},
    "colab_type": "code",
    "id": "A7lqUICTATrY"
   },
   "outputs": [],
   "source": [
    "num1, num2, num3 = int(num1), int(num2), int(num3)"
   ]
  },
  {
   "cell_type": "code",
   "execution_count": null,
   "metadata": {
    "colab": {
     "base_uri": "https://localhost:8080/",
     "height": 35
    },
    "colab_type": "code",
    "id": "nClq66HgATrc",
    "outputId": "c8fe0ce3-d738-4102-ded1-7fa823445cd4"
   },
   "outputs": [
    {
     "data": {
      "text/plain": [
       "(100, 200, 300)"
      ]
     },
     "execution_count": 71,
     "metadata": {
      "tags": []
     },
     "output_type": "execute_result"
    }
   ],
   "source": [
    "num1, num2, num3"
   ]
  },
  {
   "cell_type": "markdown",
   "metadata": {
    "colab_type": "text",
    "id": "v2tImrZuATrj"
   },
   "source": [
    "## 대화창 실습 : 여러가지 문자열 메소드"
   ]
  },
  {
   "cell_type": "code",
   "execution_count": null,
   "metadata": {
    "colab": {
     "base_uri": "https://localhost:8080/",
     "height": 35
    },
    "colab_type": "code",
    "id": "dIhJNmtCATrk",
    "outputId": "bb69b9c0-7c68-415b-aa44-69c2e5d8d28f",
    "scrolled": true
   },
   "outputs": [
    {
     "data": {
      "text/plain": [
       "'HELLO'"
      ]
     },
     "execution_count": 72,
     "metadata": {
      "tags": []
     },
     "output_type": "execute_result"
    }
   ],
   "source": [
    "'hello'.upper()"
   ]
  },
  {
   "cell_type": "code",
   "execution_count": null,
   "metadata": {
    "colab": {
     "base_uri": "https://localhost:8080/",
     "height": 34
    },
    "colab_type": "code",
    "id": "pUV7o_l1ATrn",
    "outputId": "bf7599c3-8659-4e89-ab3b-76d596821799"
   },
   "outputs": [
    {
     "data": {
      "text/plain": [
       "'hello'"
      ]
     },
     "execution_count": 40,
     "metadata": {
      "tags": []
     },
     "output_type": "execute_result"
    }
   ],
   "source": [
    "'HELLO'.lower()"
   ]
  },
  {
   "cell_type": "code",
   "execution_count": null,
   "metadata": {
    "colab": {
     "base_uri": "https://localhost:8080/",
     "height": 35
    },
    "colab_type": "code",
    "id": "vXTEb7WwATrq",
    "outputId": "0240aa1d-3b72-48d1-efe5-e9bee7ff4cf8"
   },
   "outputs": [
    {
     "data": {
      "text/plain": [
       "['Guido', 'Van', 'Rossum']"
      ]
     },
     "execution_count": 73,
     "metadata": {
      "tags": []
     },
     "output_type": "execute_result"
    }
   ],
   "source": [
    "'Guido Van Rossum'.split()"
   ]
  },
  {
   "cell_type": "code",
   "execution_count": null,
   "metadata": {
    "colab": {
     "base_uri": "https://localhost:8080/",
     "height": 35
    },
    "colab_type": "code",
    "id": "UvFO4HH4ATrs",
    "outputId": "80ffee9e-5837-4e9a-8e9c-eea0c88e1cd4"
   },
   "outputs": [
    {
     "data": {
      "text/plain": [
       "['Apple', 'Banana', 'Orange']"
      ]
     },
     "execution_count": 74,
     "metadata": {
      "tags": []
     },
     "output_type": "execute_result"
    }
   ],
   "source": [
    "'Apple,Banana,Orange'.split(',')"
   ]
  },
  {
   "cell_type": "code",
   "execution_count": null,
   "metadata": {
    "colab": {
     "base_uri": "https://localhost:8080/",
     "height": 35
    },
    "colab_type": "code",
    "id": "JBO3p1o-ATrv",
    "outputId": "0f2cd679-3bb3-43d4-bacb-070f4664886a"
   },
   "outputs": [
    {
     "data": {
      "text/plain": [
       "['Apple', 'Banana', 'Orange', 'Kiwi']"
      ]
     },
     "execution_count": 75,
     "metadata": {
      "tags": []
     },
     "output_type": "execute_result"
    }
   ],
   "source": [
    "'Apple|Banana|Orange|Kiwi'.split('|')"
   ]
  },
  {
   "cell_type": "markdown",
   "metadata": {
    "colab_type": "text",
    "id": "0dSCRXC_ATr1"
   },
   "source": [
    "## 대화창 실습 : format() 메소드와 플레이스홀드"
   ]
  },
  {
   "cell_type": "code",
   "execution_count": null,
   "metadata": {
    "colab": {
     "base_uri": "https://localhost:8080/",
     "height": 35
    },
    "colab_type": "code",
    "id": "daB8Kn0uATr1",
    "outputId": "439fce68-8569-48dd-a605-5b0cc3e51b5c"
   },
   "outputs": [
    {
     "data": {
      "text/plain": [
       "'Hello Python!'"
      ]
     },
     "execution_count": 76,
     "metadata": {
      "tags": []
     },
     "output_type": "execute_result"
    }
   ],
   "source": [
    "'{} Python!'.format('Hello')"
   ]
  },
  {
   "cell_type": "code",
   "execution_count": null,
   "metadata": {
    "colab": {
     "base_uri": "https://localhost:8080/",
     "height": 35
    },
    "colab_type": "code",
    "id": "tFTHSmmfLUYi",
    "outputId": "6ebba7d3-eea6-46b2-eb97-f6351c7461c5"
   },
   "outputs": [
    {
     "data": {
      "text/plain": [
       "'Hi Python!'"
      ]
     },
     "execution_count": 77,
     "metadata": {
      "tags": []
     },
     "output_type": "execute_result"
    }
   ],
   "source": [
    "'{} Python!'.format('Hi')"
   ]
  },
  {
   "cell_type": "code",
   "execution_count": null,
   "metadata": {
    "colab": {
     "base_uri": "https://localhost:8080/",
     "height": 35
    },
    "colab_type": "code",
    "id": "7bNVancE_yOk",
    "outputId": "1df4a6b2-e8f5-4d3c-fc38-eda0319f96de"
   },
   "outputs": [
    {
     "data": {
      "text/plain": [
       "'Hello Python!'"
      ]
     },
     "execution_count": 78,
     "metadata": {
      "tags": []
     },
     "output_type": "execute_result"
    }
   ],
   "source": [
    "'{0} Python!'.format('Hello')"
   ]
  },
  {
   "cell_type": "markdown",
   "metadata": {
    "colab_type": "text",
    "id": "82VkNKnWATr5"
   },
   "source": [
    "## 대화창 실습 : format() 메소드와 플레이스홀드의 인덱스"
   ]
  },
  {
   "cell_type": "code",
   "execution_count": null,
   "metadata": {
    "colab": {
     "base_uri": "https://localhost:8080/",
     "height": 35
    },
    "colab_type": "code",
    "id": "gKrX3Vb0ATr6",
    "outputId": "ebe63329-322c-4c7a-b767-620ea0081973"
   },
   "outputs": [
    {
     "data": {
      "text/plain": [
       "'I like Python and Java'"
      ]
     },
     "execution_count": 79,
     "metadata": {
      "tags": []
     },
     "output_type": "execute_result"
    }
   ],
   "source": [
    "'I like {} and {}'.format('Python', 'Java')"
   ]
  },
  {
   "cell_type": "code",
   "execution_count": null,
   "metadata": {
    "colab": {
     "base_uri": "https://localhost:8080/",
     "height": 35
    },
    "colab_type": "code",
    "id": "wouGiRZfATr9",
    "outputId": "aaecc35d-0482-410b-a17d-e5b043cba42d"
   },
   "outputs": [
    {
     "data": {
      "text/plain": [
       "'I like Python and Java'"
      ]
     },
     "execution_count": 80,
     "metadata": {
      "tags": []
     },
     "output_type": "execute_result"
    }
   ],
   "source": [
    " 'I like {0} and {1}'.format('Python', 'Java')"
   ]
  },
  {
   "cell_type": "code",
   "execution_count": null,
   "metadata": {
    "colab": {
     "base_uri": "https://localhost:8080/",
     "height": 35
    },
    "colab_type": "code",
    "id": "VAFNG7zHATsB",
    "outputId": "b92b81c3-eafb-4b0b-d403-3cc3b072b379"
   },
   "outputs": [
    {
     "data": {
      "text/plain": [
       "'I like Java and Python'"
      ]
     },
     "execution_count": 81,
     "metadata": {
      "tags": []
     },
     "output_type": "execute_result"
    }
   ],
   "source": [
    "'I like {1} and {0}'.format('Python', 'Java')"
   ]
  },
  {
   "cell_type": "markdown",
   "metadata": {
    "colab_type": "text",
    "id": "xjgA_3KNm8Rj"
   },
   "source": [
    "## 대화창 실습 : format() 메소드와 플레이스홀드의 인덱스 사용법"
   ]
  },
  {
   "cell_type": "code",
   "execution_count": null,
   "metadata": {
    "colab": {
     "base_uri": "https://localhost:8080/",
     "height": 35
    },
    "colab_type": "code",
    "id": "MOQJk-9uATsF",
    "outputId": "bdb472f6-8920-4ab1-e417-7ca2ec05b2ae"
   },
   "outputs": [
    {
     "data": {
      "text/plain": [
       "'Hello, Hello, Hello! Python'"
      ]
     },
     "execution_count": 82,
     "metadata": {
      "tags": []
     },
     "output_type": "execute_result"
    }
   ],
   "source": [
    "'{0}, {0}, {0}! Python'.format('Hello')"
   ]
  },
  {
   "cell_type": "code",
   "execution_count": null,
   "metadata": {
    "colab": {
     "base_uri": "https://localhost:8080/",
     "height": 35
    },
    "colab_type": "code",
    "id": "Yvum-SU6ATsI",
    "outputId": "8243c7bb-3d41-46cd-e4c7-1dbee15d5739"
   },
   "outputs": [
    {
     "data": {
      "text/plain": [
       "'Hello, Hello, Hello! Python'"
      ]
     },
     "execution_count": 83,
     "metadata": {
      "tags": []
     },
     "output_type": "execute_result"
    }
   ],
   "source": [
    "'{0}, {0}, {0}! Python'.format('Hello', 'Hi')"
   ]
  },
  {
   "cell_type": "code",
   "execution_count": null,
   "metadata": {
    "colab": {
     "base_uri": "https://localhost:8080/",
     "height": 35
    },
    "colab_type": "code",
    "id": "bnMeKLexATsL",
    "outputId": "aad0095d-2d80-42c8-d7b4-4e61c54836c0",
    "scrolled": true
   },
   "outputs": [
    {
     "data": {
      "text/plain": [
       "'Hello Python, Hello Python, Hello Python!'"
      ]
     },
     "execution_count": 84,
     "metadata": {
      "tags": []
     },
     "output_type": "execute_result"
    }
   ],
   "source": [
    "'{0} {1}, {0} {1}, {0} {1}!'.format('Hello', 'Python')"
   ]
  },
  {
   "cell_type": "code",
   "execution_count": null,
   "metadata": {
    "colab": {
     "base_uri": "https://localhost:8080/",
     "height": 35
    },
    "colab_type": "code",
    "id": "jQjwvGUnATsO",
    "outputId": "5ac74238-95ae-47ec-a5d8-db8318f4fafd"
   },
   "outputs": [
    {
     "data": {
      "text/plain": [
       "'100 200, 100 200, 100 200!'"
      ]
     },
     "execution_count": 85,
     "metadata": {
      "tags": []
     },
     "output_type": "execute_result"
    }
   ],
   "source": [
    "'{0} {1}, {0} {1}, {0} {1}!'.format(100, 200)"
   ]
  },
  {
   "cell_type": "markdown",
   "metadata": {
    "colab_type": "text",
    "id": "ndLrLhZdATsS"
   },
   "source": [
    "## 대화창 실습 : 플레이스홀더 내의 객체 출력"
   ]
  },
  {
   "cell_type": "code",
   "execution_count": null,
   "metadata": {
    "colab": {
     "base_uri": "https://localhost:8080/",
     "height": 35
    },
    "colab_type": "code",
    "id": "Nn3p8lwLATsT",
    "outputId": "fe870df6-5e00-4c0a-d484-e13ac05a3b4d"
   },
   "outputs": [
    {
     "data": {
      "text/plain": [
       "'Hello World!'"
      ]
     },
     "execution_count": 86,
     "metadata": {
      "tags": []
     },
     "output_type": "execute_result"
    }
   ],
   "source": [
    "greet = 'Hello'\n",
    "'{} World!'.format(greet)"
   ]
  },
  {
   "cell_type": "markdown",
   "metadata": {
    "colab_type": "text",
    "id": "jWOCORjmATsW"
   },
   "source": [
    "# 코드 4-33 : 플레이스홀더와 format() 메소드의 사용\n",
    "## print_format1.py"
   ]
  },
  {
   "cell_type": "code",
   "execution_count": null,
   "metadata": {
    "colab": {
     "base_uri": "https://localhost:8080/",
     "height": 35
    },
    "colab_type": "code",
    "id": "vj7H6dbNATsW",
    "outputId": "e89e2f6c-5fd9-4b50-bc86-a9a2cf640241"
   },
   "outputs": [
    {
     "name": "stdout",
     "output_type": "stream",
     "text": [
      "My Name is Hong GilDong!\n"
     ]
    }
   ],
   "source": [
    "name = 'Hong GilDong'\n",
    "print('My Name is {}!'.format(name))"
   ]
  },
  {
   "cell_type": "markdown",
   "metadata": {
    "colab_type": "text",
    "id": "SX28l75EATsc"
   },
   "source": [
    "# 코드 4-34 : 플레이스홀더와 format() 메소드의 사용 \n",
    "## print_format2.py"
   ]
  },
  {
   "cell_type": "code",
   "execution_count": null,
   "metadata": {
    "colab": {
     "base_uri": "https://localhost:8080/",
     "height": 89
    },
    "colab_type": "code",
    "id": "H5ZuZ8w9ATsc",
    "outputId": "b4cf4b9a-251e-46fc-b2e9-a3c96ffa3d12"
   },
   "outputs": [
    {
     "name": "stdout",
     "output_type": "stream",
     "text": [
      "당신의 이름을 입력해주세요 : 김철수\n",
      "나이를 입력해주세요 : 21\n",
      "직업을 입력해주세요 : 학생\n",
      "당신의 이름은 김철수, 나이는 21살, 직업은 학생입니다.\n"
     ]
    }
   ],
   "source": [
    "name = input('당신의 이름을 입력해주세요 : ')\n",
    "age = input('나이를 입력해주세요 : ')\n",
    "job = input('직업을 입력해주세요 : ')\n",
    "            \n",
    "print('당신의 이름은 {}, 나이는 {}살, 직업은 {}입니다.'.format(name, age, job))"
   ]
  },
  {
   "cell_type": "markdown",
   "metadata": {
    "colab_type": "text",
    "id": "g656SvgyATt0"
   },
   "source": [
    "## 대화창 실습 : 정수 표현을 위한 기본 포매팅"
   ]
  },
  {
   "cell_type": "code",
   "execution_count": null,
   "metadata": {
    "colab": {
     "base_uri": "https://localhost:8080/",
     "height": 140
    },
    "colab_type": "code",
    "id": "SlJam7SaATt0",
    "outputId": "65d83dfa-5825-41d0-cc90-745242e3a586",
    "scrolled": true
   },
   "outputs": [
    {
     "name": "stdout",
     "output_type": "stream",
     "text": [
      "2 4 8\n",
      "4 16 64\n",
      "6 36 216\n",
      "8 64 512\n",
      "10 100 1000\n",
      "12 144 1728\n",
      "14 196 2744\n"
     ]
    }
   ],
   "source": [
    "for i in range(2, 15, 2):\n",
    "    print('{0} {1} {2}'.format(i, i*i, i*i*i))"
   ]
  },
  {
   "cell_type": "markdown",
   "metadata": {
    "colab_type": "text",
    "id": "8vvdBg5XATt5"
   },
   "source": [
    "## 대화창 실습 : 출력 간의 크기 지정을 통한 정수 포매팅"
   ]
  },
  {
   "cell_type": "code",
   "execution_count": null,
   "metadata": {
    "colab": {
     "base_uri": "https://localhost:8080/",
     "height": 140
    },
    "colab_type": "code",
    "id": "rip4eADfATt6",
    "outputId": "2a4e96d4-e8db-47e1-a82f-241eed0bf07a",
    "scrolled": true
   },
   "outputs": [
    {
     "name": "stdout",
     "output_type": "stream",
     "text": [
      "  2    4     8\n",
      "  4   16    64\n",
      "  6   36   216\n",
      "  8   64   512\n",
      " 10  100  1000\n",
      " 12  144  1728\n",
      " 14  196  2744\n"
     ]
    }
   ],
   "source": [
    "for i in range(2, 15, 2):\n",
    "    print('{0:3d} {1:4d} {2:5d}'.format(i, i*i, i*i*i))"
   ]
  },
  {
   "cell_type": "markdown",
   "metadata": {
    "colab_type": "text",
    "id": "GxSdTPKHATt9"
   },
   "source": [
    "## 대화창 실습 : 소수점 아래 자리수를 조절하는 실수 포매팅"
   ]
  },
  {
   "cell_type": "code",
   "execution_count": null,
   "metadata": {
    "colab": {
     "base_uri": "https://localhost:8080/",
     "height": 35
    },
    "colab_type": "code",
    "id": "dZa4_xB9ATt-",
    "outputId": "73b0d38d-6ac2-4c2c-f0fb-89b79a77c14e",
    "scrolled": true
   },
   "outputs": [
    {
     "name": "stdout",
     "output_type": "stream",
     "text": [
      "소수점 두 자리로 표현한 원주율 =       3.14\n"
     ]
    }
   ],
   "source": [
    "print('소수점 두 자리로 표현한 원주율 = {0:10.2f}'.format(3.1415926))"
   ]
  },
  {
   "cell_type": "code",
   "execution_count": null,
   "metadata": {
    "colab": {
     "base_uri": "https://localhost:8080/",
     "height": 35
    },
    "colab_type": "code",
    "id": "2PqrUTcAATuD",
    "outputId": "2c248a05-75b2-497c-e096-691f94359420",
    "scrolled": true
   },
   "outputs": [
    {
     "name": "stdout",
     "output_type": "stream",
     "text": [
      "소수점 세 자리로 표현한 원주율 =      3.142\n"
     ]
    }
   ],
   "source": [
    "print('소수점 세 자리로 표현한 원주율 = {0:10.3f}'.format(3.1415926))"
   ]
  },
  {
   "cell_type": "code",
   "execution_count": null,
   "metadata": {
    "colab": {
     "base_uri": "https://localhost:8080/",
     "height": 35
    },
    "colab_type": "code",
    "id": "0dtJNn-8ATuJ",
    "outputId": "c0ad5c71-65f0-45a1-c8b0-d935638c18a8"
   },
   "outputs": [
    {
     "name": "stdout",
     "output_type": "stream",
     "text": [
      "소수점 네 자리로 표현한 원주율 =     3.1416\n"
     ]
    }
   ],
   "source": [
    "print('소수점 네 자리로 표현한 원주율 = {0:10.4f}'.format(3.1415926))"
   ]
  },
  {
   "cell_type": "markdown",
   "metadata": {
    "colab_type": "text",
    "id": "aoYqulcFATuM"
   },
   "source": [
    "## 대화창 실습 : 실수 표현을 위한 포매팅에서 소수점 "
   ]
  },
  {
   "cell_type": "code",
   "execution_count": null,
   "metadata": {
    "colab": {
     "base_uri": "https://localhost:8080/",
     "height": 34
    },
    "colab_type": "code",
    "id": "M7pOy58RATuN",
    "outputId": "a2ae7710-2586-4e91-c28c-4bf0ddb700d0",
    "scrolled": true
   },
   "outputs": [
    {
     "name": "stdout",
     "output_type": "stream",
     "text": [
      "1/3은 0.333\n"
     ]
    }
   ],
   "source": [
    "print('1/3은 {:.3f}'.format(1/3))   # 소수점 아래 출력만 지정"
   ]
  },
  {
   "cell_type": "markdown",
   "metadata": {
    "colab_type": "text",
    "id": "yedUfEhbATuQ"
   },
   "source": [
    "## 대화창 실습 : 1000 단위 쉼표 출력방법"
   ]
  },
  {
   "cell_type": "code",
   "execution_count": null,
   "metadata": {
    "colab": {
     "base_uri": "https://localhost:8080/",
     "height": 34
    },
    "colab_type": "code",
    "id": "i4zXX4-qATuR",
    "outputId": "11119a80-cab7-4376-c6cb-e48dd44c5ab5"
   },
   "outputs": [
    {
     "name": "stdout",
     "output_type": "stream",
     "text": [
      "1,234,567,890\n"
     ]
    }
   ],
   "source": [
    "print('{:,}'.format(1234567890))     # 1000단위 쉼표 출력"
   ]
  },
  {
   "cell_type": "markdown",
   "metadata": {
    "colab_type": "text",
    "id": "9UoH20PeATuT"
   },
   "source": [
    "## 대화창 실습 : 플레이스홀더 내에 키-값 형식으로 인자를 전달하는 방법"
   ]
  },
  {
   "cell_type": "code",
   "execution_count": null,
   "metadata": {
    "colab": {
     "base_uri": "https://localhost:8080/",
     "height": 34
    },
    "colab_type": "code",
    "id": "dUb65sn7ATuU",
    "outputId": "7de92290-df28-422e-bdf3-ee373da05024",
    "scrolled": true
   },
   "outputs": [
    {
     "name": "stdout",
     "output_type": "stream",
     "text": [
      "부산의 위도 : 35.17N, 경도: 129.07E\n"
     ]
    }
   ],
   "source": [
    "print('부산의 위도 : {0}, 경도: {1}'.format('35.17N', '129.07E'))"
   ]
  },
  {
   "cell_type": "code",
   "execution_count": null,
   "metadata": {
    "colab": {
     "base_uri": "https://localhost:8080/",
     "height": 34
    },
    "colab_type": "code",
    "id": "5HXzGZT1ATuX",
    "outputId": "21fe5c4e-a0da-4e99-c806-e9af413254c4",
    "scrolled": true
   },
   "outputs": [
    {
     "name": "stdout",
     "output_type": "stream",
     "text": [
      "부산의 위도 : 35.17N, 경도: 129.07E\n"
     ]
    }
   ],
   "source": [
    "print('부산의 위도 : {lat}, 경도: {long}'.format(lat='35.17N', long='129.07E'))"
   ]
  },
  {
   "cell_type": "code",
   "execution_count": null,
   "metadata": {
    "colab": {
     "base_uri": "https://localhost:8080/",
     "height": 34
    },
    "colab_type": "code",
    "id": "zzAKI1VjATub",
    "outputId": "d7ec38c6-2240-4837-cb14-ac2dc73b7081",
    "scrolled": true
   },
   "outputs": [
    {
     "name": "stdout",
     "output_type": "stream",
     "text": [
      "부산의 위도 : 35.17N, 경도: 129.07E\n"
     ]
    }
   ],
   "source": [
    "print('부산의 위도 : {lat}, 경도: {long}'.format(long='129.07E', lat='35.17N'))"
   ]
  },
  {
   "cell_type": "markdown",
   "metadata": {
    "colab_type": "text",
    "id": "DROajqGcn_Ve"
   },
   "source": [
    "## 대화창 실습 : 문자열의 다양한 메소드"
   ]
  },
  {
   "cell_type": "code",
   "execution_count": null,
   "metadata": {
    "colab": {
     "base_uri": "https://localhost:8080/",
     "height": 34
    },
    "colab_type": "code",
    "id": "zdegYPJioCgV",
    "outputId": "5bf632c6-97fa-46b4-af0c-19898aef934a"
   },
   "outputs": [
    {
     "data": {
      "text/plain": [
       "'ABC'"
      ]
     },
     "execution_count": 68,
     "metadata": {
      "tags": []
     },
     "output_type": "execute_result"
    }
   ],
   "source": [
    "'abc'.upper()          # 대문자로 만든다."
   ]
  },
  {
   "cell_type": "code",
   "execution_count": null,
   "metadata": {
    "colab": {
     "base_uri": "https://localhost:8080/",
     "height": 34
    },
    "colab_type": "code",
    "id": "gbb-GcdQoEPq",
    "outputId": "22e5d783-9f45-4cfe-a874-45b9177048de"
   },
   "outputs": [
    {
     "data": {
      "text/plain": [
       "'abc'"
      ]
     },
     "execution_count": 69,
     "metadata": {
      "tags": []
     },
     "output_type": "execute_result"
    }
   ],
   "source": [
    "'ABC'.lower()          # 소문자로 만든다."
   ]
  },
  {
   "cell_type": "code",
   "execution_count": null,
   "metadata": {
    "colab": {
     "base_uri": "https://localhost:8080/",
     "height": 34
    },
    "colab_type": "code",
    "id": "AuIjco22oEZ1",
    "outputId": "754d45f2-057d-4d85-e0fb-037ad65953d0"
   },
   "outputs": [
    {
     "data": {
      "text/plain": [
       "1"
      ]
     },
     "execution_count": 70,
     "metadata": {
      "tags": []
     },
     "output_type": "execute_result"
    }
   ],
   "source": [
    "'hobby'.count('h')     # 'h' 문자가 나타나는 횟수를 구한다."
   ]
  },
  {
   "cell_type": "code",
   "execution_count": null,
   "metadata": {
    "colab": {
     "base_uri": "https://localhost:8080/",
     "height": 34
    },
    "colab_type": "code",
    "id": "bwX84iFroEkc",
    "outputId": "b93807ae-96eb-43a9-98a7-820c7b4aa89a"
   },
   "outputs": [
    {
     "data": {
      "text/plain": [
       "2"
      ]
     },
     "execution_count": 71,
     "metadata": {
      "tags": []
     },
     "output_type": "execute_result"
    }
   ],
   "source": [
    "'hobby'.count('b')     # 'b' 문자가 나타나는 횟수를 구한다."
   ]
  },
  {
   "cell_type": "code",
   "execution_count": null,
   "metadata": {
    "colab": {
     "base_uri": "https://localhost:8080/",
     "height": 34
    },
    "colab_type": "code",
    "id": "__ehOHBJoEt2",
    "outputId": "9763ad1a-69ca-4f67-a334-051542f90b3f"
   },
   "outputs": [
    {
     "data": {
      "text/plain": [
       "0"
      ]
     },
     "execution_count": 72,
     "metadata": {
      "tags": []
     },
     "output_type": "execute_result"
    }
   ],
   "source": [
    "'hobby'.find('h')     # 'h' 문자의 위치를 반환한다."
   ]
  },
  {
   "cell_type": "code",
   "execution_count": null,
   "metadata": {
    "colab": {
     "base_uri": "https://localhost:8080/",
     "height": 34
    },
    "colab_type": "code",
    "id": "SvgTTOYLoZ9c",
    "outputId": "9688f8f3-cd0d-42bc-8ba9-9aee763d6765"
   },
   "outputs": [
    {
     "data": {
      "text/plain": [
       "2"
      ]
     },
     "execution_count": 73,
     "metadata": {
      "tags": []
     },
     "output_type": "execute_result"
    }
   ],
   "source": [
    "'hobby'.find('b')     # 'b' 문자의 위치를 반환한다."
   ]
  },
  {
   "cell_type": "markdown",
   "metadata": {
    "colab_type": "text",
    "id": "D_HURL44odK_"
   },
   "source": [
    "## 대화창 실습 : 문자열의 메소드 실습"
   ]
  },
  {
   "cell_type": "code",
   "execution_count": null,
   "metadata": {
    "colab": {
     "base_uri": "https://localhost:8080/",
     "height": 34
    },
    "colab_type": "code",
    "id": "AVmsVcxOohMR",
    "outputId": "1c9d5106-76b0-4728-dc3d-a638b8e29314"
   },
   "outputs": [
    {
     "data": {
      "text/plain": [
       "'A,B,C,D'"
      ]
     },
     "execution_count": 74,
     "metadata": {
      "tags": []
     },
     "output_type": "execute_result"
    }
   ],
   "source": [
    "','.join('ABCD')"
   ]
  },
  {
   "cell_type": "code",
   "execution_count": null,
   "metadata": {
    "colab": {
     "base_uri": "https://localhost:8080/",
     "height": 34
    },
    "colab_type": "code",
    "id": "LPifFN6IohT7",
    "outputId": "9e14c761-c418-4bfe-c160-2a4a896d8c69"
   },
   "outputs": [
    {
     "data": {
      "text/plain": [
       "'   hello'"
      ]
     },
     "execution_count": 75,
     "metadata": {
      "tags": []
     },
     "output_type": "execute_result"
    }
   ],
   "source": [
    "'   hello   '.rstrip()       # 오른쪽 공백 지우기"
   ]
  },
  {
   "cell_type": "code",
   "execution_count": null,
   "metadata": {
    "colab": {
     "base_uri": "https://localhost:8080/",
     "height": 34
    },
    "colab_type": "code",
    "id": "VlCzWZ4Mohak",
    "outputId": "8f306574-a8ef-438a-d7ef-1a233e579894"
   },
   "outputs": [
    {
     "data": {
      "text/plain": [
       "'hello   '"
      ]
     },
     "execution_count": 76,
     "metadata": {
      "tags": []
     },
     "output_type": "execute_result"
    }
   ],
   "source": [
    "'   hello   '.lstrip()       # 왼쪽 공백 지우기"
   ]
  },
  {
   "cell_type": "code",
   "execution_count": null,
   "metadata": {
    "colab": {
     "base_uri": "https://localhost:8080/",
     "height": 34
    },
    "colab_type": "code",
    "id": "QOjjHH1uO5M3",
    "outputId": "feb25d31-dd6c-48fd-ff40-6f4bcac2dbdf"
   },
   "outputs": [
    {
     "data": {
      "text/plain": [
       "'hello'"
      ]
     },
     "execution_count": 77,
     "metadata": {
      "tags": []
     },
     "output_type": "execute_result"
    }
   ],
   "source": [
    "'   hello   '.strip()        # 공백 지우기"
   ]
  },
  {
   "cell_type": "code",
   "execution_count": null,
   "metadata": {
    "colab": {
     "base_uri": "https://localhost:8080/",
     "height": 34
    },
    "colab_type": "code",
    "id": "A9u8iGbFohgp",
    "outputId": "c518b8d4-3875-421d-8484-097dc12bea33"
   },
   "outputs": [
    {
     "data": {
      "text/plain": [
       "'Long live the Queen!'"
      ]
     },
     "execution_count": 78,
     "metadata": {
      "tags": []
     },
     "output_type": "execute_result"
    }
   ],
   "source": [
    "s1 = 'Long live the King!'\n",
    "s1.replace('King', 'Queen')  # 문자열 교환"
   ]
  },
  {
   "cell_type": "code",
   "execution_count": null,
   "metadata": {
    "colab": {
     "base_uri": "https://localhost:8080/",
     "height": 34
    },
    "colab_type": "code",
    "id": "KSlB7R3vPKbv",
    "outputId": "66ae9363-9c0d-4b5e-dac7-053582a0b2bf"
   },
   "outputs": [
    {
     "data": {
      "text/plain": [
       "'Long Live The King!'"
      ]
     },
     "execution_count": 79,
     "metadata": {
      "tags": []
     },
     "output_type": "execute_result"
    }
   ],
   "source": [
    "s1.title()                   # 타이틀 문자열로 변환"
   ]
  },
  {
   "cell_type": "code",
   "execution_count": null,
   "metadata": {
    "colab": {
     "base_uri": "https://localhost:8080/",
     "height": 34
    },
    "colab_type": "code",
    "id": "sHG46OKjPR1f",
    "outputId": "eda74ec1-2ea4-443e-a81c-e063aaacbaa6"
   },
   "outputs": [
    {
     "data": {
      "text/plain": [
       "'Long live the king!'"
      ]
     },
     "execution_count": 80,
     "metadata": {
      "tags": []
     },
     "output_type": "execute_result"
    }
   ],
   "source": [
    "s1.capitalize()              # 첫 문자만 대문자로 변환"
   ]
  },
  {
   "cell_type": "code",
   "execution_count": null,
   "metadata": {
    "colab": {
     "base_uri": "https://localhost:8080/",
     "height": 34
    },
    "colab_type": "code",
    "id": "UzHcOk71ohoa",
    "outputId": "3a80b695-f614-48e6-a20a-7dae0a041719"
   },
   "outputs": [
    {
     "data": {
      "text/plain": [
       "['X', 'Y', 'Z']"
      ]
     },
     "execution_count": 81,
     "metadata": {
      "tags": []
     },
     "output_type": "execute_result"
    }
   ],
   "source": [
    "s2 = \"X:Y:Z\"\n",
    "s2.split(':')                # :를 구분자로 하여 s2 문자를 리스트로 분리함"
   ]
  },
  {
   "cell_type": "code",
   "execution_count": null,
   "metadata": {
    "colab": {
     "base_uri": "https://localhost:8080/",
     "height": 34
    },
    "colab_type": "code",
    "id": "zq2Oo3C-ohvc",
    "outputId": "c7b4d50f-9681-4aa0-9b7e-85dffad8ff84"
   },
   "outputs": [
    {
     "data": {
      "text/plain": [
       "'Hello Python!'"
      ]
     },
     "execution_count": 82,
     "metadata": {
      "tags": []
     },
     "output_type": "execute_result"
    }
   ],
   "source": [
    "'Hello ' + 'Python!'         # + 연산자를 이용하여 문자를 연결함"
   ]
  },
  {
   "cell_type": "markdown",
   "metadata": {
    "colab_type": "text",
    "id": "Cn0wYo4ZATvb"
   },
   "source": [
    "## 대화창 실습 : 대화형 모드를 통한 여러 가지 내장함수 실습"
   ]
  },
  {
   "cell_type": "code",
   "execution_count": null,
   "metadata": {
    "colab": {
     "base_uri": "https://localhost:8080/",
     "height": 34
    },
    "colab_type": "code",
    "id": "KLbtuq_bATvb",
    "outputId": "415e96e3-4b9e-41b1-89df-9c7903521a7d"
   },
   "outputs": [
    {
     "data": {
      "text/plain": [
       "100"
      ]
     },
     "execution_count": 83,
     "metadata": {
      "tags": []
     },
     "output_type": "execute_result"
    }
   ],
   "source": [
    "abs(-100)                # 절대값을 반환하는 함수"
   ]
  },
  {
   "cell_type": "code",
   "execution_count": null,
   "metadata": {
    "colab": {
     "base_uri": "https://localhost:8080/",
     "height": 34
    },
    "colab_type": "code",
    "id": "C2pP2_pRATvd",
    "outputId": "92e2be3e-ab98-404c-f7c0-e4f6ff068da4"
   },
   "outputs": [
    {
     "data": {
      "text/plain": [
       "100"
      ]
     },
     "execution_count": 84,
     "metadata": {
      "tags": []
     },
     "output_type": "execute_result"
    }
   ],
   "source": [
    "min(200, 100, 300, 400)  # 여러 원소들 중 최솟값을 반환하는 함수"
   ]
  },
  {
   "cell_type": "code",
   "execution_count": null,
   "metadata": {
    "colab": {
     "base_uri": "https://localhost:8080/",
     "height": 34
    },
    "colab_type": "code",
    "id": "Iy9ehpM1ATvg",
    "outputId": "e96577c9-f38d-45a7-94ef-0607378f2bd8"
   },
   "outputs": [
    {
     "data": {
      "text/plain": [
       "400"
      ]
     },
     "execution_count": 85,
     "metadata": {
      "tags": []
     },
     "output_type": "execute_result"
    }
   ],
   "source": [
    "max(200, 100, 300, 400)  # 여러 원소들 중 최댓값을 반환하는 함수"
   ]
  },
  {
   "cell_type": "code",
   "execution_count": null,
   "metadata": {
    "colab": {
     "base_uri": "https://localhost:8080/",
     "height": 34
    },
    "colab_type": "code",
    "id": "M8Aunkh-ATvi",
    "outputId": "a97e1b7b-11ca-451d-e00c-bababd668860"
   },
   "outputs": [
    {
     "data": {
      "text/plain": [
       "3"
      ]
     },
     "execution_count": 87,
     "metadata": {
      "tags": []
     },
     "output_type": "execute_result"
    }
   ],
   "source": [
    "str1 = \"FOO\"             # \"Foo\" 혹은 'FOO' 형식으로 문자열 객체를 생성함\n",
    "len(str1)                # 문자열의 길이를 반환"
   ]
  },
  {
   "cell_type": "code",
   "execution_count": null,
   "metadata": {
    "colab": {
     "base_uri": "https://localhost:8080/",
     "height": 34
    },
    "colab_type": "code",
    "id": "Ef1LMSJcATvk",
    "outputId": "7aadc8ba-e37a-4df3-e853-7d0eef852d15"
   },
   "outputs": [
    {
     "data": {
      "text/plain": [
       "str"
      ]
     },
     "execution_count": 88,
     "metadata": {
      "tags": []
     },
     "output_type": "execute_result"
    }
   ],
   "source": [
    "type(str1)               # 객체의 타입(형)을 반환"
   ]
  },
  {
   "cell_type": "code",
   "execution_count": null,
   "metadata": {
    "colab": {
     "base_uri": "https://localhost:8080/",
     "height": 34
    },
    "colab_type": "code",
    "id": "hAuZ4Md7ATvm",
    "outputId": "af359abe-22fc-4a5d-895c-4f7e06788a4c"
   },
   "outputs": [
    {
     "data": {
      "text/plain": [
       "140168168956624"
      ]
     },
     "execution_count": 89,
     "metadata": {
      "tags": []
     },
     "output_type": "execute_result"
    }
   ],
   "source": [
    "id(str1)                 # 객체의 아이디 값을 반환"
   ]
  },
  {
   "cell_type": "code",
   "execution_count": null,
   "metadata": {
    "colab": {
     "base_uri": "https://localhost:8080/",
     "height": 34
    },
    "colab_type": "code",
    "id": "7o1_l3htATvo",
    "outputId": "507494bd-6ee3-44e6-a208-6aa22fd3bf4e"
   },
   "outputs": [
    {
     "data": {
      "text/plain": [
       "600"
      ]
     },
     "execution_count": 90,
     "metadata": {
      "tags": []
     },
     "output_type": "execute_result"
    }
   ],
   "source": [
    "eval(\"100+200+300\")      # 문자열을 수치값과 연산자로 변환하여 평가"
   ]
  },
  {
   "cell_type": "code",
   "execution_count": null,
   "metadata": {
    "colab": {
     "base_uri": "https://localhost:8080/",
     "height": 34
    },
    "colab_type": "code",
    "id": "f7q-dQJoATvq",
    "outputId": "34f5f564-5378-43e2-80c7-5f7c00a891fa"
   },
   "outputs": [
    {
     "data": {
      "text/plain": [
       "['A', 'B', 'D', 'E', 'F']"
      ]
     },
     "execution_count": 91,
     "metadata": {
      "tags": []
     },
     "output_type": "execute_result"
    }
   ],
   "source": [
    "sorted(\"EABFD\")          # 문자열을 정렬"
   ]
  },
  {
   "cell_type": "code",
   "execution_count": null,
   "metadata": {
    "colab": {
     "base_uri": "https://localhost:8080/",
     "height": 34
    },
    "colab_type": "code",
    "id": "XNT_llU-ATvs",
    "outputId": "7578e25e-6378-4e4b-d5ab-ec99dcaf4050"
   },
   "outputs": [
    {
     "data": {
      "text/plain": [
       "[100, 200, 300, 400]"
      ]
     },
     "execution_count": 92,
     "metadata": {
      "tags": []
     },
     "output_type": "execute_result"
    }
   ],
   "source": [
    "list = [200, 100, 300, 400]\n",
    "sorted(list)"
   ]
  },
  {
   "cell_type": "code",
   "execution_count": null,
   "metadata": {
    "colab": {
     "base_uri": "https://localhost:8080/",
     "height": 34
    },
    "colab_type": "code",
    "id": "VP2KRhjEATvv",
    "outputId": "fd8c3c55-c251-43fb-9161-212e937efa05"
   },
   "outputs": [
    {
     "data": {
      "text/plain": [
       "[400, 300, 200, 100]"
      ]
     },
     "execution_count": 93,
     "metadata": {
      "tags": []
     },
     "output_type": "execute_result"
    }
   ],
   "source": [
    "sorted(list, reverse = True)"
   ]
  },
  {
   "cell_type": "markdown",
   "metadata": {
    "colab_type": "text",
    "id": "zBkX8O1hATv0"
   },
   "source": [
    "## 대화창 실습 : 대화형 모드를 통한 id 함수 실습"
   ]
  },
  {
   "cell_type": "code",
   "execution_count": null,
   "metadata": {
    "colab": {
     "base_uri": "https://localhost:8080/",
     "height": 34
    },
    "colab_type": "code",
    "id": "661o1CjzATv1",
    "outputId": "cb93ccc5-2b5a-4b02-af1b-b191fb25b0b5"
   },
   "outputs": [
    {
     "data": {
      "text/plain": [
       "140168168655792"
      ]
     },
     "execution_count": 95,
     "metadata": {
      "tags": []
     },
     "output_type": "execute_result"
    }
   ],
   "source": [
    "a_str = \"Hello Python!\"\n",
    "id(a_str)"
   ]
  },
  {
   "cell_type": "code",
   "execution_count": null,
   "metadata": {
    "colab": {
     "base_uri": "https://localhost:8080/",
     "height": 34
    },
    "colab_type": "code",
    "id": "x0mXamY8ATv3",
    "outputId": "5966a50b-c99c-4067-ea9d-bdd5d03f6621"
   },
   "outputs": [
    {
     "data": {
      "text/plain": [
       "140168168674288"
      ]
     },
     "execution_count": 96,
     "metadata": {
      "tags": []
     },
     "output_type": "execute_result"
    }
   ],
   "source": [
    "n = 300\n",
    "id(n)"
   ]
  },
  {
   "cell_type": "code",
   "execution_count": null,
   "metadata": {
    "colab": {
     "base_uri": "https://localhost:8080/",
     "height": 34
    },
    "colab_type": "code",
    "id": "UzKXXuC3ATv6",
    "outputId": "93dac12b-456e-42e3-8ebc-dc8c2bd4e825"
   },
   "outputs": [
    {
     "data": {
      "text/plain": [
       "140168168653640"
      ]
     },
     "execution_count": 97,
     "metadata": {
      "tags": []
     },
     "output_type": "execute_result"
    }
   ],
   "source": [
    "a_list = [100, 200, 300]\n",
    "id(a_list)"
   ]
  },
  {
   "cell_type": "markdown",
   "metadata": {
    "colab_type": "text",
    "id": "YbgGyhRxATv8"
   },
   "source": [
    "## 대화창 실습 : 여러가지 자료형에 대한 type() 함수의 적용"
   ]
  },
  {
   "cell_type": "code",
   "execution_count": null,
   "metadata": {
    "colab": {
     "base_uri": "https://localhost:8080/",
     "height": 34
    },
    "colab_type": "code",
    "id": "g32hnMGwATv9",
    "outputId": "060bd2f4-fd49-4094-ae94-b7b27e914198"
   },
   "outputs": [
    {
     "data": {
      "text/plain": [
       "int"
      ]
     },
     "execution_count": 98,
     "metadata": {
      "tags": []
     },
     "output_type": "execute_result"
    }
   ],
   "source": [
    "type(123)"
   ]
  },
  {
   "cell_type": "code",
   "execution_count": null,
   "metadata": {
    "colab": {
     "base_uri": "https://localhost:8080/",
     "height": 34
    },
    "colab_type": "code",
    "id": "2svDtfJ-ATwC",
    "outputId": "c85d0f1a-6d1d-453d-8c4d-a8ff3a5b7bdf"
   },
   "outputs": [
    {
     "data": {
      "text/plain": [
       "str"
      ]
     },
     "execution_count": 99,
     "metadata": {
      "tags": []
     },
     "output_type": "execute_result"
    }
   ],
   "source": [
    "type('Hello String!')"
   ]
  },
  {
   "cell_type": "code",
   "execution_count": null,
   "metadata": {
    "colab": {
     "base_uri": "https://localhost:8080/",
     "height": 34
    },
    "colab_type": "code",
    "id": "bpMdNYVZATwE",
    "outputId": "564ed295-ac17-4d2d-cd14-d6bc7f8fbe58"
   },
   "outputs": [
    {
     "data": {
      "text/plain": [
       "float"
      ]
     },
     "execution_count": 100,
     "metadata": {
      "tags": []
     },
     "output_type": "execute_result"
    }
   ],
   "source": [
    "type(120.3)"
   ]
  },
  {
   "cell_type": "code",
   "execution_count": null,
   "metadata": {
    "colab": {
     "base_uri": "https://localhost:8080/",
     "height": 34
    },
    "colab_type": "code",
    "id": "nKb0b75qATwL",
    "outputId": "3e8f5843-9369-4c7c-9e05-be02b47be725"
   },
   "outputs": [
    {
     "data": {
      "text/plain": [
       "list"
      ]
     },
     "execution_count": 101,
     "metadata": {
      "tags": []
     },
     "output_type": "execute_result"
    }
   ],
   "source": [
    "type([100, 300, 600])"
   ]
  },
  {
   "cell_type": "markdown",
   "metadata": {
    "colab_type": "text",
    "id": "nLFdboXNATwN"
   },
   "source": [
    "## 대화창 실습 : 수식을 가진 문자열과 eval 함수"
   ]
  },
  {
   "cell_type": "code",
   "execution_count": null,
   "metadata": {
    "colab": {
     "base_uri": "https://localhost:8080/",
     "height": 34
    },
    "colab_type": "code",
    "id": "6lchbKR3ATwN",
    "outputId": "5539306b-1c7f-4cb4-f193-d1e7085681ab"
   },
   "outputs": [
    {
     "data": {
      "text/plain": [
       "30"
      ]
     },
     "execution_count": 102,
     "metadata": {
      "tags": []
     },
     "output_type": "execute_result"
    }
   ],
   "source": [
    "eval('10 + 20')       # 10 + 20 문장을 파이썬 번역기가 수행함"
   ]
  },
  {
   "cell_type": "code",
   "execution_count": null,
   "metadata": {
    "colab": {
     "base_uri": "https://localhost:8080/",
     "height": 34
    },
    "colab_type": "code",
    "id": "Vsc8BSzAATwP",
    "outputId": "4d66e211-8fb7-44ef-8439-22fe0d44332a"
   },
   "outputs": [
    {
     "data": {
      "text/plain": [
       "50.0"
      ]
     },
     "execution_count": 103,
     "metadata": {
      "tags": []
     },
     "output_type": "execute_result"
    }
   ],
   "source": [
    "eval('(5 * 20) / 2')  # (5 * 20) / 2 문장을 파이썬 번역기가 수행함"
   ]
  },
  {
   "cell_type": "code",
   "execution_count": null,
   "metadata": {
    "colab": {
     "base_uri": "https://localhost:8080/",
     "height": 34
    },
    "colab_type": "code",
    "id": "7S6Oy3xGQvbm",
    "outputId": "7150491a-aee5-47ab-8577-5e003c495393"
   },
   "outputs": [
    {
     "data": {
      "text/plain": [
       "'A'"
      ]
     },
     "execution_count": 104,
     "metadata": {
      "tags": []
     },
     "output_type": "execute_result"
    }
   ],
   "source": [
    "chr(65)               # 유니코드 값 65는 알파벳 'A'이며, chr() 함수는 이를 반환함"
   ]
  },
  {
   "cell_type": "code",
   "execution_count": null,
   "metadata": {
    "colab": {
     "base_uri": "https://localhost:8080/",
     "height": 34
    },
    "colab_type": "code",
    "id": "08NrhnFEQ4bp",
    "outputId": "36748c88-69aa-4810-8d79-52052b0087c1"
   },
   "outputs": [
    {
     "data": {
      "text/plain": [
       "65"
      ]
     },
     "execution_count": 105,
     "metadata": {
      "tags": []
     },
     "output_type": "execute_result"
    }
   ],
   "source": [
    "ord('A')              # 알파벳 'A'의 유니코드 값 65를 반환함"
   ]
  }
 ],
 "metadata": {
  "colab": {
   "collapsed_sections": [],
   "include_colab_link": true,
   "name": "Ch04-함수와 입출력.ipynb",
   "provenance": []
  },
  "kernelspec": {
   "display_name": "Python 3",
   "language": "python",
   "name": "python3"
  },
  "language_info": {
   "codemirror_mode": {
    "name": "ipython",
    "version": 3
   },
   "file_extension": ".py",
   "mimetype": "text/x-python",
   "name": "python",
   "nbconvert_exporter": "python",
   "pygments_lexer": "ipython3",
   "version": "3.7.9"
  }
 },
 "nbformat": 4,
 "nbformat_minor": 4
}
