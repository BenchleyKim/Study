{
 "cells": [
  {
   "cell_type": "markdown",
   "metadata": {},
   "source": [
    "\n",
    "## 파이썬프로그래밍 - 과제 2\n",
    "\n",
    "#### 제출 일 : 2021. 04. 16 (금)\n",
    "\n",
    "#### 배점 : 전체 성적에서 15% \n",
    "\n",
    "#### 제출방법 :\n",
    "\n",
    "1. **jupyter notebook** 으로 제출해야 합니다. 이 주피터노트북에 이어서 과제를 진행하세요. 단, 제출하는 주피터노트북 파일명을 `ass2_이름_학번.ipynb` 으로 하세요 (예, \"ass2_성춘향_2018xxxxxx.ipynb\"). \n",
    "2. 제출물 상단에 이름, 학번을 다시 기재합니다.  \n",
    "3. 여러분이 제출한 노트북을 실행하면 제출한 그 상태에서 그대로 실행되어야 합니다. \n",
    "\n",
    "\n",
    "#### <span style='color:crimson'>이 과제는 혼자 하는 것입니다. 다른 사람의 것을 카피하면 점수 못 받습니다</span>  \n",
    "\n",
    "--------------------------\n",
    "\n",
    "### 과제 :\n",
    "\n",
    "- 교재 5장 연습문제 중 7, 11, 13, 18 번 문제\n",
    "- 교재 6장 연습문제 중 3, 9, 11, 16, 22, 24 문제 \n"
   ]
  },
  {
   "cell_type": "markdown",
   "metadata": {},
   "source": [
    "##### 5.7"
   ]
  },
  {
   "cell_type": "code",
   "execution_count": 1,
   "metadata": {
    "scrolled": true
   },
   "outputs": [
    {
     "name": "stdout",
     "output_type": "stream",
     "text": [
      "170\n"
     ]
    }
   ],
   "source": [
    "# 위 문제에 대한 답 또는 코딩 :\n",
    "arr = [10,20,30,50,60]\n",
    "sm =  0 \n",
    "for i in range(len(arr)) :\n",
    "    sm += arr[i]\n",
    "print(sm)"
   ]
  },
  {
   "cell_type": "markdown",
   "metadata": {},
   "source": [
    "##### 5.11"
   ]
  },
  {
   "cell_type": "code",
   "execution_count": 2,
   "metadata": {},
   "outputs": [
    {
     "name": "stdout",
     "output_type": "stream",
     "text": [
      "5개의 수를 입력하세요 : 45 67 20 34 2\n",
      "합 : 168\n",
      "평균 : 33.6\n",
      "최댓값 : 67\n",
      "최솟값 : 2\n"
     ]
    }
   ],
   "source": [
    "arr = list(map(int, input(\"5개의 수를 입력하세요 : \").split()))\n",
    "print(\"합 :\", sum(arr))\n",
    "print(\"평균 :\", sum(arr)/len(arr))\n",
    "print(\"최댓값 :\", max(arr))\n",
    "print(\"최솟값 :\", min(arr))"
   ]
  },
  {
   "cell_type": "markdown",
   "metadata": {},
   "source": [
    "##### 5.13"
   ]
  },
  {
   "cell_type": "code",
   "execution_count": 1,
   "metadata": {},
   "outputs": [
    {
     "name": "stdout",
     "output_type": "stream",
     "text": [
      "임의의 개수만큼 정수를 입력하세요 : 2 4 6 8\n",
      "합 : 20\n",
      "평균 : 5.0\n",
      "표준편차 : 2.24\n"
     ]
    }
   ],
   "source": [
    "arr = list(map(int, input(\"임의의 개수만큼 정수를 입력하세요 : \").split()))\n",
    "# 45 67 20 34 2 100 23 45 67 89\n",
    "print(\"합 :\", sum(arr))\n",
    "print(\"평균 :\", sum(arr)/len(arr))\n",
    "avg = sum(arr)/len(arr)\n",
    "sm = 0 \n",
    "for i in range(len(arr)) :\n",
    "    sm += (arr[i] - avg)**2\n",
    "ans = (sm/len(arr))**(1/2)\n",
    "print(f\"표준편차 :{ans : .2f}\")\n"
   ]
  },
  {
   "cell_type": "markdown",
   "metadata": {},
   "source": [
    "##### 5.18"
   ]
  },
  {
   "cell_type": "code",
   "execution_count": 4,
   "metadata": {},
   "outputs": [
    {
     "name": "stdout",
     "output_type": "stream",
     "text": [
      "가장 길이가 짧은 문자열 : abc\n",
      "가장 길이가 긴 문자열 : bcdefg\n",
      "가장 길이가 짧은 문자열 : 'abc' 'bcd' 'opq' "
     ]
    }
   ],
   "source": [
    "s_list = ['abc','bcd','bcdefg','abba','cddc','opq']\n",
    "mn = len(s_list[0]) \n",
    "mnstring = s_list[0]\n",
    "mx = len(s_list[0]) \n",
    "mxstring = s_list[0]\n",
    "for i in range(1,len(s_list)):\n",
    "    if len(s_list[i]) < mn :\n",
    "        mn = len(s_list[i])\n",
    "        mnstring = s_list[i]\n",
    "    if len(s_list[i]) > mx :\n",
    "        mx = len(s_list[i])\n",
    "        mxstring = s_list[i]\n",
    "print(f\"가장 길이가 짧은 문자열 : {mnstring}\")\n",
    "print(f\"가장 길이가 긴 문자열 : {mxstring}\")\n",
    "s_list.sort(key=len)\n",
    "\n",
    "print(f\"가장 길이가 짧은 문자열 : \", end='')\n",
    "mn = len(s_list[0])\n",
    "for i in range(0,len(s_list)):\n",
    "    if len(s_list[i]) == mn :\n",
    "        print(f\"'{s_list[i]}'\", end=' ')\n",
    "    else :\n",
    "        break\n",
    "\n"
   ]
  },
  {
   "cell_type": "markdown",
   "metadata": {},
   "source": [
    "##### 6.3"
   ]
  },
  {
   "cell_type": "code",
   "execution_count": 5,
   "metadata": {},
   "outputs": [
    {
     "name": "stdout",
     "output_type": "stream",
     "text": [
      "Americano      가격 : 3,000원\n",
      "Ice Americano  가격 : 3,500원\n",
      "Cappuccino     가격 : 4,500원\n",
      "Caffe Latte    가격 : 4,000원\n",
      "Espresso       가격 : 3,600원\n"
     ]
    }
   ],
   "source": [
    "menu = { 'Americano' : 3000,\n",
    "       'Ice Americano' : 3500,\n",
    "        'Cappuccino' : 4500,\n",
    "       'Caffe Latte' :4000,\n",
    "       'Espresso' : 3600}\n",
    "for key, value in menu.items() :\n",
    "    print(\"{0:<15}\".format(key)+\"가격 : \"+\"{:,}\".format(value)+'원')"
   ]
  },
  {
   "cell_type": "code",
   "execution_count": 6,
   "metadata": {},
   "outputs": [
    {
     "name": "stdout",
     "output_type": "stream",
     "text": [
      "Americano      가격 : 3,000원\n",
      "Ice Americano  가격 : 3,500원\n",
      "Cappuccino     가격 : 4,500원\n",
      "Caffe Latte    가격 : 4,000원\n",
      "Espresso       가격 : 3,600원\n",
      "위의 메뉴 중 하나를 선택하세요 : Espresso\n",
      "Espresso는 3,600원입니다. 결제를 부탁합니다\n"
     ]
    }
   ],
   "source": [
    "menu = { 'Americano' : 3000,\n",
    "       'Ice Americano' : 3500,\n",
    "        'Cappuccino' : 4500,\n",
    "       'Caffe Latte' :4000,\n",
    "       'Espresso' : 3600}\n",
    "for key, value in menu.items() :\n",
    "    print(\"{0:<15}\".format(key)+\"가격 : \"+\"{:,}\".format(value)+'원')\n",
    "choice = input('위의 메뉴 중 하나를 선택하세요 : ')\n",
    "if choice in menu.keys():\n",
    "    print(\"{0}는 \".format(choice)+\"{:,}\".format(menu[choice])+ \"원입니다. 결제를 부탁합니다\")\n",
    "else :\n",
    "    print('미안합니다. {0}는 메뉴에 없습니다.'.format(choice))"
   ]
  },
  {
   "cell_type": "markdown",
   "metadata": {},
   "source": [
    "##### 6.9"
   ]
  },
  {
   "cell_type": "code",
   "execution_count": 7,
   "metadata": {},
   "outputs": [
    {
     "name": "stdout",
     "output_type": "stream",
     "text": [
      "주어진 튜플 : (1, 2, 5, 4, 3, 2, 1, 4, 7, 8, 9, 9, 3, 7, 3)\n",
      "중복 제거 튜플 : (1, 2, 3, 4, 5, 7, 8, 9)\n"
     ]
    }
   ],
   "source": [
    "주어진튜플 = (1,2,5,4,3,2,1,4,7,8,9,9,3,7,3)\n",
    "print(f\"주어진 튜플 : {주어진튜플}\")\n",
    "print(f\"중복 제거 튜플 : {tuple(set(주어진튜플))}\")\n"
   ]
  },
  {
   "cell_type": "markdown",
   "metadata": {},
   "source": [
    "##### 6.11"
   ]
  },
  {
   "cell_type": "code",
   "execution_count": 8,
   "metadata": {},
   "outputs": [
    {
     "name": "stdout",
     "output_type": "stream",
     "text": [
      "주어진 리스트 : [(), 1, (), (), (1,), ('a',), ('a', 'b'), ((),), ('a', 'b'), '']\n",
      "빈 튜플을 제거한 결과 : [1, (1,), ('a',), ('a', 'b'), ((),), ('a', 'b')]\n"
     ]
    }
   ],
   "source": [
    "arr = [(),1,(),(),(1,),('a',),('a','b'),((),),('a','b'),'']\n",
    "print(f\"주어진 리스트 : {arr}\")\n",
    "tmp = []\n",
    "for i in arr :\n",
    "    if type(i) is int :\n",
    "        tmp.append(i)\n",
    "    else :\n",
    "        if len(i) > 0 :\n",
    "            tmp.append(i)\n",
    "print(\"빈 튜플을 제거한 결과 :\", tmp)\n",
    "            "
   ]
  },
  {
   "cell_type": "markdown",
   "metadata": {},
   "source": [
    "##### 6.16"
   ]
  },
  {
   "cell_type": "code",
   "execution_count": 9,
   "metadata": {},
   "outputs": [
    {
     "name": "stdout",
     "output_type": "stream",
     "text": [
      "학생정보 : {'191101': '홍길동', '191102': '임꺽정', '191103': '장길산'}\n",
      "학번을 입력하세요 : 191102\n",
      "191102번 학생은 임꺽정입니다.\n",
      "학번을 입력하세요 : 191106\n",
      "해당 학번의 학생이 없습니다.\n",
      "학번을 입력하세요 : -1\n",
      "프로그램을 종료합니다\n"
     ]
    }
   ],
   "source": [
    "student_tuple = (('191101','홍길동','010-123-45xx'),('191102','임꺽정','010-223-45xx'),('191103','장길산','010-323-45xx'))\n",
    "student_info = dict()\n",
    "for element  in student_tuple :\n",
    "    number, name, phone = element\n",
    "    student_info[number] = name\n",
    "print(f'학생정보 : {student_info}')\n",
    "number = input(\"학번을 입력하세요 : \")\n",
    "while int(number) > 0 :\n",
    "    name = student_info.get(number)\n",
    "    if name is None :\n",
    "        print('해당 학번의 학생이 없습니다.')\n",
    "    else :\n",
    "        print(f'{number}번 학생은 {name}입니다.')\n",
    "    number = input(\"학번을 입력하세요 : \")    \n",
    "print(\"프로그램을 종료합니다\")"
   ]
  },
  {
   "cell_type": "markdown",
   "metadata": {},
   "source": [
    "##### 6.22"
   ]
  },
  {
   "cell_type": "code",
   "execution_count": 10,
   "metadata": {},
   "outputs": [
    {
     "name": "stdout",
     "output_type": "stream",
     "text": [
      "이름을 입력하세요 : Sinisa Mihajlovic\n",
      "안녕하세요? Sinisa Mihajlovic 님. 발칸 반도에서 오셨나요? \n"
     ]
    }
   ],
   "source": [
    "name = input(\"이름을 입력하세요 : \")\n",
    "print(f\"안녕하세요? {name} 님.\",end=' ')\n",
    "if name.endswith('vic') :\n",
    "    print(\"발칸 반도에서 오셨나요? \")"
   ]
  },
  {
   "cell_type": "markdown",
   "metadata": {},
   "source": [
    "##### 6.24"
   ]
  },
  {
   "cell_type": "code",
   "execution_count": 11,
   "metadata": {},
   "outputs": [
    {
     "name": "stdout",
     "output_type": "stream",
     "text": [
      "scr_str = ABCDEFGHIJKLMNOPQRSTUVWXYZ\n",
      "dst_str = DEFGHIJKLMNOPQRSTUVWXYZABC\n"
     ]
    }
   ],
   "source": [
    "import string\n",
    "# 1 \n",
    "scr_str = string.ascii_uppercase\n",
    "dst_str = scr_str[3:] + scr_str[:3]\n",
    "print(f\"scr_str = {scr_str}\")\n",
    "print(f\"dst_str = {dst_str}\")"
   ]
  },
  {
   "cell_type": "code",
   "execution_count": 12,
   "metadata": {},
   "outputs": [
    {
     "name": "stdout",
     "output_type": "stream",
     "text": [
      "scr_str의 A 인덱스 : 0\n",
      "dst_str의 0 번째 알파벳 : D\n",
      "scr_str의 B 인덱스 : 1\n",
      "dst_str의 0 번째 알파벳 : E\n"
     ]
    }
   ],
   "source": [
    "# 2\n",
    "def ciper(a) :\n",
    "    idx = scr_str.index(a)\n",
    "    return dst_str[idx]\n",
    "print(f\"scr_str의 A 인덱스 : {scr_str.index('A')}\")\n",
    "print(f\"dst_str의 {scr_str.index('A')} 번째 알파벳 : {ciper('A')}\")\n",
    "print(f\"scr_str의 B 인덱스 : {scr_str.index('B')}\")\n",
    "print(f\"dst_str의 {scr_str.index('A')} 번째 알파벳 : {ciper('B')}\")\n"
   ]
  },
  {
   "cell_type": "code",
   "execution_count": 13,
   "metadata": {},
   "outputs": [
    {
     "name": "stdout",
     "output_type": "stream",
     "text": [
      "문장을 입력하시오. : ATTACK TONIGHT!\n",
      "암호화된 문장 : DWWDFN WRQLJKW!"
     ]
    }
   ],
   "source": [
    "# 3 \n",
    "src = input(\"문장을 입력하시오. : \")\n",
    "print('암호화된 문장 : ',end='')\n",
    "for i in src :\n",
    "    if i.isalpha() :\n",
    "        print(ciper(i),end='')\n",
    "    else :\n",
    "        print(i,end='')"
   ]
  },
  {
   "cell_type": "code",
   "execution_count": 14,
   "metadata": {},
   "outputs": [
    {
     "name": "stdout",
     "output_type": "stream",
     "text": [
      "암호화된 문장을 입력하십시오. : DWWDFN WRQLJKW!\n",
      "복호화된 문장 : ATTACK TONIGHT!"
     ]
    }
   ],
   "source": [
    "# 4\n",
    "def ciper(a) :\n",
    "    idx = dst_str.index(a)\n",
    "    return scr_str[idx]\n",
    "src = input(\"암호화된 문장을 입력하십시오. : \")\n",
    "print('복호화된 문장 : ',end='')\n",
    "for i in src :\n",
    "    if i.isalpha() :\n",
    "        print(ciper(i),end='')\n",
    "    else :\n",
    "        print(i,end='')\n"
   ]
  },
  {
   "cell_type": "code",
   "execution_count": 15,
   "metadata": {},
   "outputs": [
    {
     "name": "stdout",
     "output_type": "stream",
     "text": [
      "ABCDEFGHIJKLMNOPQRSTUVWXYZabcdefghijklmnopqrstuvwxyz\n",
      "DEFGHIJKLMNOPQRSTUVWXYZABCdefghijklmnopqrstuvwxyzabc\n",
      "문장을 입력하시오. : Attack tonight!\n",
      "암호화된 문장 : Dwwdfn wrqljkw!암호화된 문장을 입력하십시오. : Veni, vidi, vici.\n",
      "복호화된 문장 : Yhql, ylgl, ylfl."
     ]
    }
   ],
   "source": [
    "# 5 \n",
    "src_str = string.ascii_uppercase + string.ascii_lowercase\n",
    "dst_str = string.ascii_uppercase[3:] + string.ascii_uppercase[:3] + string.ascii_lowercase[3:] + string.ascii_lowercase[:3]\n",
    "print(src_str)\n",
    "print(dst_str)\n",
    "def ciper(a) :\n",
    "    idx = src_str.index(a)\n",
    "    return dst_str[idx]\n",
    "src = input(\"문장을 입력하시오. : \")\n",
    "print('암호화된 문장 : ',end='')\n",
    "for i in src :\n",
    "    if i.isalpha() :\n",
    "        print(ciper(i),end='')\n",
    "    else :\n",
    "        print(i,end='')\n",
    "# def ciper(a) :\n",
    "#     idx = dst_str.index(a)\n",
    "#     return src_str[idx]\n",
    "src = input(\"암호화된 문장을 입력하십시오. : \")\n",
    "print('복호화된 문장 : ',end='')\n",
    "for i in src :\n",
    "    if i.isalpha() :\n",
    "        print(ciper(i),end='')\n",
    "    else :\n",
    "        print(i,end='')"
   ]
  }
 ],
 "metadata": {
  "kernelspec": {
   "display_name": "Python 3",
   "language": "python",
   "name": "python3"
  },
  "language_info": {
   "codemirror_mode": {
    "name": "ipython",
    "version": 3
   },
   "file_extension": ".py",
   "mimetype": "text/x-python",
   "name": "python",
   "nbconvert_exporter": "python",
   "pygments_lexer": "ipython3",
   "version": "3.8.5"
  }
 },
 "nbformat": 4,
 "nbformat_minor": 4
}
