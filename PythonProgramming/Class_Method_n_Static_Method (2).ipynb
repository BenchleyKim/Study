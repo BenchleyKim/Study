{
 "cells": [
  {
   "cell_type": "markdown",
   "metadata": {},
   "source": [
    "## Class Method, Static Method  \n",
    "\n",
    "#### 클래스 메소드와 static 메소드는 객체 인스턴스(클래스로부터 생성하는 인스턴스) 생성없이 사용할 수 있습니다.\n",
    "\n",
    "A class method receives the class as implicit first argument (보통, `cls` 로), just like an instance method receives the instance (보통, `self`로). To declare a class method, use this idiom:\n",
    "\n",
    "    class C:\n",
    "        @classmethod      # decorator를 사용해 클래스메소드를 정의 ...\n",
    "        def f(cls, arg1, arg2, ...): \n",
    "            ...\n",
    "        \n",
    "        @staticmethod\n",
    "        def f(arg1, arg2, ...)\n",
    "        \n",
    "\n",
    "The `@classmethod` form is a function [decorator](https://docs.python.org/3/glossary.html#term-decorator) – see [Function definitions](https://docs.python.org/3/reference/compound_stmts.html#function) for details.\n",
    "    \n",
    "- [Class : Python Documentation](https://docs.python.org/3/tutorial/classes.html)\n",
    "- Class 변수, 인스턴스 변수 : [python-course.eu의 간결하고 명료한 Class and Instance Attributes 등 소개](https://www.python-course.eu/python3_class_and_instance_attributes.php), [파이썬 자습서의 Class and Instance Variables](https://docs.python.org/3/tutorial/classes.html#class-and-instance-variables)\n",
    "\n"
   ]
  },
  {
   "cell_type": "markdown",
   "metadata": {},
   "source": [
    "### Class variables vs. Instance variables\n",
    "- https://medium.com/python-features/class-vs-instance-variables-8d452e9abcbd\n",
    "\n",
    "- **Class Variables** — Declared inside the class definition (but outside any of the instance methods). They are not tied to any particular object of the class, hence shared across all the objects of the class. Modifying a class variable affects all objects instance at the same time.\n",
    "<span style='color:crimson'> <font size=\"2\">클래스변수를 인스턴스나 클래스명을 통해 접근 가능을 기억</font> </span>\n",
    "- **Instance Variable** — Declared inside the constructor method of class (the __init__ method). They are tied to the particular object instance of the class, hence the contents of an instance variable are completely independent from one object instance to the other."
   ]
  },
  {
   "cell_type": "code",
   "execution_count": 18,
   "metadata": {},
   "outputs": [],
   "source": [
    "class Car:\n",
    "    wheels = 4    #  Class variable    \n",
    "    count = 0     \n",
    "    \n",
    "    def __init__(self, name):\n",
    "        self.name = name    # <- Instance variable\n",
    "        type(self).count += 1  # Car.count += 1. 객체인스턴스 생성 때 마다 count가 1 증가\n",
    "        \n",
    "    def __del__(self):\n",
    "        type(self).count -= 1\n",
    "    \n",
    "        \n",
    "jag = Car('jaguar')\n",
    "fer = Car('ferrari')\n",
    "tri = Car('tri')"
   ]
  },
  {
   "cell_type": "code",
   "execution_count": 19,
   "metadata": {},
   "outputs": [
    {
     "data": {
      "text/plain": [
       "['__class__',\n",
       " '__del__',\n",
       " '__delattr__',\n",
       " '__dict__',\n",
       " '__dir__',\n",
       " '__doc__',\n",
       " '__eq__',\n",
       " '__format__',\n",
       " '__ge__',\n",
       " '__getattribute__',\n",
       " '__gt__',\n",
       " '__hash__',\n",
       " '__init__',\n",
       " '__init_subclass__',\n",
       " '__le__',\n",
       " '__lt__',\n",
       " '__module__',\n",
       " '__ne__',\n",
       " '__new__',\n",
       " '__reduce__',\n",
       " '__reduce_ex__',\n",
       " '__repr__',\n",
       " '__setattr__',\n",
       " '__sizeof__',\n",
       " '__str__',\n",
       " '__subclasshook__',\n",
       " '__weakref__',\n",
       " 'count',\n",
       " 'name',\n",
       " 'wheels']"
      ]
     },
     "execution_count": 19,
     "metadata": {},
     "output_type": "execute_result"
    }
   ],
   "source": [
    "dir(jag)"
   ]
  },
  {
   "cell_type": "code",
   "execution_count": 20,
   "metadata": {
    "scrolled": true
   },
   "outputs": [
    {
     "data": {
      "text/plain": [
       "('jaguar', 'ferrari', 'tri')"
      ]
     },
     "execution_count": 20,
     "metadata": {},
     "output_type": "execute_result"
    }
   ],
   "source": [
    "jag.name, fer.name, tri.name   "
   ]
  },
  {
   "cell_type": "code",
   "execution_count": 21,
   "metadata": {},
   "outputs": [
    {
     "data": {
      "text/plain": [
       "(3, 3, 3, 3)"
      ]
     },
     "execution_count": 21,
     "metadata": {},
     "output_type": "execute_result"
    }
   ],
   "source": [
    "# count 는 클래스 속성 \n",
    "jag.count, fer.count, tri.count, Car.count    # Car 클래스의 모든 객체 인스터스들이 클래스 변수 공유"
   ]
  },
  {
   "cell_type": "code",
   "execution_count": 23,
   "metadata": {},
   "outputs": [
    {
     "data": {
      "text/plain": [
       "4"
      ]
     },
     "execution_count": 23,
     "metadata": {},
     "output_type": "execute_result"
    }
   ],
   "source": [
    "Car.wheels   # wheels 이 클래스 변수이기에 클래스명을 통해 접근 가능 "
   ]
  },
  {
   "cell_type": "code",
   "execution_count": 24,
   "metadata": {},
   "outputs": [
    {
     "data": {
      "text/plain": [
       "(4, 4, 4)"
      ]
     },
     "execution_count": 24,
     "metadata": {},
     "output_type": "execute_result"
    }
   ],
   "source": [
    "jag.wheels, fer.wheels, tri.wheels"
   ]
  },
  {
   "cell_type": "code",
   "execution_count": 25,
   "metadata": {},
   "outputs": [],
   "source": [
    "del jag, fer"
   ]
  },
  {
   "cell_type": "code",
   "execution_count": 26,
   "metadata": {},
   "outputs": [
    {
     "data": {
      "text/plain": [
       "1"
      ]
     },
     "execution_count": 26,
     "metadata": {},
     "output_type": "execute_result"
    }
   ],
   "source": [
    "Car.count"
   ]
  },
  {
   "cell_type": "markdown",
   "metadata": {},
   "source": [
    "`wheels` 와 `count` 는 Car 클래스의 클래스변수이기에 Car 클래스로부터 생성된 모든 객체 인스턴스들이 이 변수를 공유하지만, 다음과 같이 객체 인스턴스로 접근해 값을 바꾸면, 해당 객체인스턴스에 같은 이름의 별도 인스턴스 변수가 생기는 것이기에 (동일한) 이름의 클래스 변수가 가리워짐.  "
   ]
  },
  {
   "cell_type": "code",
   "execution_count": 28,
   "metadata": {},
   "outputs": [
    {
     "data": {
      "text/plain": [
       "(4, 4, 3, 4)"
      ]
     },
     "execution_count": 28,
     "metadata": {},
     "output_type": "execute_result"
    }
   ],
   "source": [
    "jag = Car('jaguar')\n",
    "fer = Car('ferrari')\n",
    "tri = Car('tri')\n",
    "\n",
    "tri.wheels = 3   # tri 에게 wheels 라는 인스턴스 변수가 생김.  \n",
    "jag.wheels, fer.wheels, tri.wheels, Car.wheels"
   ]
  },
  {
   "cell_type": "code",
   "execution_count": 29,
   "metadata": {},
   "outputs": [
    {
     "data": {
      "text/plain": [
       "(7, 7, 3, 7)"
      ]
     },
     "execution_count": 29,
     "metadata": {},
     "output_type": "execute_result"
    }
   ],
   "source": [
    "Car.wheels = 7   # 클래스 변수 값을 바꿈 \n",
    "jag.wheels, fer.wheels, tri.wheels, Car.wheels   # jag와 fer는 바뀐 클래스 변수 값을 따름 "
   ]
  },
  {
   "cell_type": "markdown",
   "metadata": {},
   "source": [
    "다음과 같이 객체인스턴스 변수 값을 동적으로 바꿀 수 있죠.\n",
    "- [setattr](https://docs.python.org/3/library/functions.html#setattr) : `setattr(object, name, value)`"
   ]
  },
  {
   "cell_type": "code",
   "execution_count": 31,
   "metadata": {
    "scrolled": true
   },
   "outputs": [
    {
     "data": {
      "text/plain": [
       "'nice car'"
      ]
     },
     "execution_count": 31,
     "metadata": {},
     "output_type": "execute_result"
    }
   ],
   "source": [
    "setattr(tri, 'desc', \"nice car\")   # tri 객체에 'desc' 속성을 추가하고 그 값을 \"nice car\" 으로 \n",
    "tri.desc"
   ]
  },
  {
   "cell_type": "code",
   "execution_count": 32,
   "metadata": {},
   "outputs": [
    {
     "data": {
      "text/plain": [
       "['__class__',\n",
       " '__del__',\n",
       " '__delattr__',\n",
       " '__dict__',\n",
       " '__dir__',\n",
       " '__doc__',\n",
       " '__eq__',\n",
       " '__format__',\n",
       " '__ge__',\n",
       " '__getattribute__',\n",
       " '__gt__',\n",
       " '__hash__',\n",
       " '__init__',\n",
       " '__init_subclass__',\n",
       " '__le__',\n",
       " '__lt__',\n",
       " '__module__',\n",
       " '__ne__',\n",
       " '__new__',\n",
       " '__reduce__',\n",
       " '__reduce_ex__',\n",
       " '__repr__',\n",
       " '__setattr__',\n",
       " '__sizeof__',\n",
       " '__str__',\n",
       " '__subclasshook__',\n",
       " '__weakref__',\n",
       " 'count',\n",
       " 'desc',\n",
       " 'name',\n",
       " 'wheels']"
      ]
     },
     "execution_count": 32,
     "metadata": {},
     "output_type": "execute_result"
    }
   ],
   "source": [
    "dir(tri)"
   ]
  },
  {
   "cell_type": "markdown",
   "metadata": {},
   "source": [
    "그러면, 'tri' 에게 클래스 변수와 같은 이름으로 `tri.wheels=3`를 하여 3으로 변경했어요.  그러면, 'Car' 의 다른 객체 인스턴스인 `jag` 와 `fer` 의 `wheels` 의 값도 역시 3으로 바뀌게 될까요?  `jag` 와 `fer` 의 입장에서 보면, 자기들과 다를 것 없는 'tri'가 자기 마음대로 자기들의 `wheels`를 바꾼 것 아닌가요?"
   ]
  },
  {
   "cell_type": "code",
   "execution_count": 33,
   "metadata": {},
   "outputs": [],
   "source": [
    "tri.wheels = 3    # override class variable with the instance variable 'wheels'"
   ]
  },
  {
   "cell_type": "code",
   "execution_count": 34,
   "metadata": {
    "scrolled": true
   },
   "outputs": [
    {
     "data": {
      "text/plain": [
       "(7, 7, 3)"
      ]
     },
     "execution_count": 34,
     "metadata": {},
     "output_type": "execute_result"
    }
   ],
   "source": [
    "fer.wheels, jag.wheels, tri.wheels   # fer.wheels, jag.wheels 의 값은 그대로 입니다. "
   ]
  },
  {
   "cell_type": "markdown",
   "metadata": {},
   "source": [
    "The Car's class variable `wheels` is changed to 5"
   ]
  },
  {
   "cell_type": "code",
   "execution_count": 35,
   "metadata": {},
   "outputs": [
    {
     "data": {
      "text/plain": [
       "(5, 5, 3)"
      ]
     },
     "execution_count": 35,
     "metadata": {},
     "output_type": "execute_result"
    }
   ],
   "source": [
    "Car.wheels = 5\n",
    "\n",
    "fer.wheels, jag.wheels, tri.wheels   # tri.wheels : 앞에서 만든 instance variable wheels가 나옴 "
   ]
  },
  {
   "cell_type": "markdown",
   "metadata": {},
   "source": [
    "Therefore modifying a class variable on the class namespace affects all the instances of the class (even for the instances created earlier, except those with the instance variables of the same name). Let’s roll back the change and modify the wheels variable using the jag object."
   ]
  },
  {
   "cell_type": "code",
   "execution_count": 36,
   "metadata": {},
   "outputs": [
    {
     "data": {
      "text/plain": [
       "(6, 4, 3, 4)"
      ]
     },
     "execution_count": 36,
     "metadata": {},
     "output_type": "execute_result"
    }
   ],
   "source": [
    "Car.wheels = 4\n",
    "jag.wheels = 6    # jag got a new instance variable `wheels` and it hides the class variable\n",
    "\n",
    "jag.wheels, fer.wheels, tri.wheels, Car.wheels"
   ]
  },
  {
   "cell_type": "markdown",
   "metadata": {},
   "source": [
    "jag 와 tri가 클래스 변수 wheels와 같은 이름의 인스턴스 변수 wheels 때문에 클래스 변수가 가렸지만, 아래와 같이 하면 가려진 클래스 변수에 접근할 수 있어요."
   ]
  },
  {
   "cell_type": "code",
   "execution_count": 37,
   "metadata": {
    "scrolled": true
   },
   "outputs": [
    {
     "data": {
      "text/plain": [
       "((6, 4), (3, 4))"
      ]
     },
     "execution_count": 37,
     "metadata": {},
     "output_type": "execute_result"
    }
   ],
   "source": [
    "(jag.wheels, jag.__class__.wheels) , (tri.wheels, tri.__class__.wheels),"
   ]
  },
  {
   "cell_type": "markdown",
   "metadata": {},
   "source": [
    "`tri.__class__.wheels` : tri's class variable `wheels`.  `tri` has its own instance varialbe `wheels` which is 3.  But it also has class variable `wheels`, and this is the way to access that.\n",
    "\n",
    "\n",
    "-    Class variables are shared across all objects while instance variables are for data unique to each instance.\n",
    "-   Instance variable overrides the Class variables having same name which can accidentally introduce bugs or surprising behaviour in our code."
   ]
  },
  {
   "cell_type": "raw",
   "metadata": {},
   "source": [
    "그러면, tri를 통해 클래스 변수에 접근해 그 값을 변경하면 어떻게 될까요?"
   ]
  },
  {
   "cell_type": "code",
   "execution_count": 39,
   "metadata": {},
   "outputs": [
    {
     "data": {
      "text/plain": [
       "(6, 7, 3, 7)"
      ]
     },
     "execution_count": 39,
     "metadata": {},
     "output_type": "execute_result"
    }
   ],
   "source": [
    "tri.__class__.wheels = 7\n",
    "\n",
    "jag.wheels, fer.wheels, tri.wheels, Car.wheels"
   ]
  },
  {
   "cell_type": "markdown",
   "metadata": {},
   "source": [
    "클래스 변수의 값이 바뀌어 졌네요.  jag.wheels, tri.wheels는 인스턴스 변수이니까 바뀌지 않고요.  \n",
    "- 위와 같은 조작이 가능하지만, 이렇게 하는 것은 좋은 것이 아닌 듯 싶어요."
   ]
  },
  {
   "cell_type": "markdown",
   "metadata": {},
   "source": [
    "## Instance method, Class methods, Static methods : \n",
    "\n",
    "위 3 메스드의 차이는 \"어떤 레벨의 attribute에 접근할 수 있나\"를 다루고 있어요.  어떤 attribute에 접근하려면, 해당 메소드의 namespace에 있어야 하지요 (attribute도 객체이니까요.  사실 파이썬의 모든 entity가 객체이잖아요.  클래스도 물론 객체고요. 객체는 id가 있고요).  즉, Instance method, Class methods, Static methods 들은 해당 메소드의 namespace와 관련되요.\n",
    "\n",
    "우리가 지금껏 보아 온 메소드는 `instance` 메소드 이었어요. 클래스로부터 생성된 객체 인스턴스에 대해 적용되는 함수이죠.  \n",
    "\n",
    "여기서 중요한 개념이 있는데, 메소드는 함수이기에 그 메소드내에서 정의된 변수의 namespace는 바로 그 메소드 내부이죠. 한편, 인스턴스 메소드는 첫번 째 인자로 `self`를 갖고 있죠.  무슨 말이가 하면, 바로 그 객체에 딸린  `self.xxx` 형태의 attribute(변수)들을 접근할 수 있는 것이에요.  클래스 메소드는 클래스 attribute/변수에 접근하려고 만든 것이고요.\n",
    "\n",
    "결국, 인스턴스 메소드, 클래스 메소드, static 메소드의 차이는 기본적으로 클래스의 어떤 레벨(속성)의 attribute들을 접근해 읽거나, 조작할 수 있는 가를 따지는 것입니다. 인스턴스 메소드는 인스턴스 변수를, 클래스 메소드는 클래스 변수를, static 메소드는 인스턴스변수나 클래스 변수에 접근하지 않고, 그냥 클래스의 namespace에 있기에 클래스에서 그냥 실행할 수 있는 함수이고요 (그러나, static 메소드를 클래스나 인스턴스에 대해 부를 수는 있어요)...\n",
    "\n",
    "- https://www.python-course.eu/python3_class_and_instance_attributes.php#Static-Methods\n",
    "\n",
    "- #### Real Python :\n",
    "    - [Python's Instance, Class, and Static Methods Demystified](https://realpython.com/instance-class-and-static-methods-demystified/)\n",
    "    - [OOP Method Types in Python: @classmethod vs @staticmethod vs Instance Methods](https://realpython.com/courses/python-method-types/)\n",
    "    - [OOP paths](https://realpython.com/learning-paths/object-oriented-programming-oop-python/)\n",
    "    - [Object-Oriented Programming (OOP) in Python 3](https://realpython.com/python3-object-oriented-programming/)\n",
    "\n",
    "    - https://medium.com/python-features/pythons-instance-class-and-static-methods-e9097f07829b\n",
    "\n",
    "**Class Methods** : 클래스의 모든 객체에 영향을 미치는 class attribute/변수에 접근할 수 있으며, 클래스 객체 (클래스도 객체이죠...)를 첫번째 인자 (보통 `cls`을 사용)로 전달 받음.\n",
    "   \n",
    "A class method accepts the class as an argument to it which by convention is called `cls`. It take the `cls` parameter, which points to the class the class method is defined within. It is declared with the `@classmethod` decorator. Class methods are bound to the class and not to the object of the class. They can alter the class state that would apply across all instances of class but not the object state.\n",
    "\n",
    "**Static Methods** : \n",
    "클래스나 객체 인스턴스 명으로 모두 접근가능한 메소드.    \n",
    "We want a method, which we can call via the class name or via the instance name without the necessity of passing a reference to an instance to it. The solution consists in static methods, which don't need a reference to an instance.   \n",
    "    \n",
    "It's easy to turn a method into a static method. All we have to do is to add a line with \"`@staticmethod`\" directly in front of the method header. It's the decorator syntax. \n",
    "A static method is marked with a `@staticmethod` decorator to flag it as static. It does not receive an implicit first argument (neither `self` nor `cls`. 즉, 메소드 signature에 `self`나 `cls`를 넣지 않음).\n",
    "It can also be put as a method that “does’t know its class”.\n",
    "***Hence a static method is merely attached for convenience to the class object. Hence static methods can neither modify the object state nor class state.*** They are primarily a way to namespace our methods.\n",
    "\n",
    "<span style='color:crimson'> **[Note] class 메소드와 static 메소드 모두 객체 인스턴스(클래스로 부터 instantiate된)나 클래스 인스턴스(클래스 자체)에 대해 부를 수 있어요**</span>\n",
    "\n",
    "### 초간단 정리:\n",
    "\n",
    "### <span style='color:teal'> class method, static method 임을 Decorator를 사용해 선언합니다</span>.\n",
    "\n",
    "`class SimpleClass:`\n",
    "\n",
    "    class_att = \"I am class variable string\"\n",
    "\n",
    "    # instance method:\n",
    "    def instance_method(self, args):    # access/modify instace attribute/state (self.xxx)\n",
    "        return \"instance is : \", self\n",
    "\n",
    "    # class method:  \n",
    "    @classmethod    # 데코레이터 \n",
    "    def cls_method(cls, args):  # access/modify class attribute/state (cls.class_att 식으로 접근)\n",
    "        return \"class object is :\", cls\n",
    "\n",
    "    # static method:\n",
    "    @staticmethod   # 데코레이터 \n",
    "    def static_method(arg)  # self나 cls 없음. instance attribute나 class attribute에 접근 못함.\n",
    "        return \"i am static.  cannot access instance nor class, damn\"\n",
    "       ....  "
   ]
  },
  {
   "cell_type": "markdown",
   "metadata": {},
   "source": [
    "실제 동작을 보죠..."
   ]
  },
  {
   "cell_type": "code",
   "execution_count": 64,
   "metadata": {},
   "outputs": [],
   "source": [
    "class SimpleClass:\n",
    "\n",
    "    class_att = \"I belong to a class called 'SimpleClass'\"\n",
    "    __count = 0\n",
    "    \n",
    "    def __init__(self, name:str=\"\"):\n",
    "        self.name = name   \n",
    "        type(self).__count += 1\n",
    "    \n",
    "    \"\"\" \n",
    "    보통의 instance method:  현 객체의 attribute와 메소드에 접근 가능 \n",
    "    그리고, 위에서 보았듯이 'self.__class__.attribute' 형태의 클래스 attribute에 접근할 수도 있지요.\n",
    "    그런데, 이런 technique은 주의해 사용해야 할 것입니다. \n",
    "    \"\"\"\n",
    "    def instance_method(self, args=None):     # access/modify instace attribute/state (self.xxx)\n",
    "        return \"instance is : \", self\n",
    "\n",
    "    # class method:  \n",
    "    @classmethod \n",
    "    def cls_method(cls, args=None):   # access/modify class attribute/state (cls.class_att 식으로 접근)\n",
    "        return \"class object is :\", cls\n",
    "\n",
    "    # static method:\n",
    "    @staticmethod\n",
    "    def static_method(arg1=None) :  # self나 cls 없음. instance attribute나 class attribute에 접근 못함.\n",
    "        return f\"i am static. Not meant to access instance nor class, damn. '{arg1}' was passed to me btw\"\n",
    "    \n",
    "    @staticmethod\n",
    "    def SimpleClass_count():\n",
    "        return SimpleClass.__count\n",
    "    \n",
    "    @classmethod \n",
    "    def SimpleClass_count_2(cls):   # 위의 \"SimpleClass_count\"와 같은 동작. \n",
    "        return cls.__count\n",
    "    \n",
    "    # 좀, 바람직하지 않은 테크닉 : 인스턴스 메소드에서도 클래스 객체를 접근할 수 있어요. \n",
    "    def cls_method_pseudo(self, args=None):   \n",
    "        return \"class object is :\", SimpleClass    # 직접 클래스 이름을 사용하면 되요...\n",
    "    \n",
    "    "
   ]
  },
  {
   "cell_type": "code",
   "execution_count": 65,
   "metadata": {},
   "outputs": [
    {
     "data": {
      "text/plain": [
       "'simple one'"
      ]
     },
     "execution_count": 65,
     "metadata": {},
     "output_type": "execute_result"
    }
   ],
   "source": [
    "simple_obj = SimpleClass(\"simple one\")\n",
    "\n",
    "simple_obj.name"
   ]
  },
  {
   "cell_type": "code",
   "execution_count": 66,
   "metadata": {},
   "outputs": [
    {
     "data": {
      "text/plain": [
       "('instance is : ', <__main__.SimpleClass at 0x20ffee8aac8>)"
      ]
     },
     "execution_count": 66,
     "metadata": {},
     "output_type": "execute_result"
    }
   ],
   "source": [
    "simple_obj.instance_method()"
   ]
  },
  {
   "cell_type": "code",
   "execution_count": 67,
   "metadata": {},
   "outputs": [
    {
     "data": {
      "text/plain": [
       "1"
      ]
     },
     "execution_count": 67,
     "metadata": {},
     "output_type": "execute_result"
    }
   ],
   "source": [
    "simple_obj.SimpleClass_count()  # SimpleClass_count 는 static method라 클래스나 객체로 다 불러요. "
   ]
  },
  {
   "cell_type": "code",
   "execution_count": 68,
   "metadata": {},
   "outputs": [
    {
     "data": {
      "text/plain": [
       "1"
      ]
     },
     "execution_count": 68,
     "metadata": {},
     "output_type": "execute_result"
    }
   ],
   "source": [
    "SimpleClass.SimpleClass_count()"
   ]
  },
  {
   "cell_type": "markdown",
   "metadata": {},
   "source": [
    "\n",
    "\n",
    "#### class 메소드를 객체 인스턴스에 대해 부를 수 있어요:"
   ]
  },
  {
   "cell_type": "code",
   "execution_count": 69,
   "metadata": {},
   "outputs": [
    {
     "data": {
      "text/plain": [
       "('class object is :', __main__.SimpleClass)"
      ]
     },
     "execution_count": 69,
     "metadata": {},
     "output_type": "execute_result"
    }
   ],
   "source": [
    "simple_obj.cls_method()"
   ]
  },
  {
   "cell_type": "markdown",
   "metadata": {},
   "source": [
    "위의 출력에서 `__main__.SimpleClass`은 클래스 그 자체를 나타내요.  클래스 역시 객체임을 다시 상기하세요.\n",
    "\n",
    "그러면, 클래스 메소드인 `cls_method` 가 반환하는 두 개의 객체 중 두번 째 것이 클래스 자체이니 아래와 같은 것이 어떻게 될까요?"
   ]
  },
  {
   "cell_type": "code",
   "execution_count": 70,
   "metadata": {},
   "outputs": [
    {
     "data": {
      "text/plain": [
       "True"
      ]
     },
     "execution_count": 70,
     "metadata": {},
     "output_type": "execute_result"
    }
   ],
   "source": [
    "_, class_id = simple_obj.cls_method()\n",
    "\n",
    "class_id is SimpleClass   # 두 객체가 같아야 하겠죠 "
   ]
  },
  {
   "cell_type": "markdown",
   "metadata": {},
   "source": [
    "#### static 메소드를 객체 인스턴스에 대해서도 부를 수 있어요:\n",
    "- static method를 선언된 함수에 대해서는 파이썬이 자동적으로 객체나 클래스를 패스하지 않아요.  첫 번째 인자로 `self`나 `cls`를 넣지 않아잖아요. 물론 `@staticmethod` 로 선언했었구요. \n",
    "- static method를 만드는 이유는, 클래스와 인스턴스의 state/상태 를 건들이지 않겠다는 의미이기도 해요."
   ]
  },
  {
   "cell_type": "code",
   "execution_count": 71,
   "metadata": {},
   "outputs": [
    {
     "data": {
      "text/plain": [
       "\"i am static. Not meant to access instance nor class, damn. 'shoot' was passed to me btw\""
      ]
     },
     "execution_count": 71,
     "metadata": {},
     "output_type": "execute_result"
    }
   ],
   "source": [
    "simple_obj.static_method(\"shoot\")"
   ]
  },
  {
   "cell_type": "markdown",
   "metadata": {},
   "source": [
    "#### 인스턴스 메소드에서 클래스에 접근할 수 있어요. "
   ]
  },
  {
   "cell_type": "code",
   "execution_count": 72,
   "metadata": {},
   "outputs": [
    {
     "data": {
      "text/plain": [
       "('class object is :', __main__.SimpleClass)"
      ]
     },
     "execution_count": 72,
     "metadata": {},
     "output_type": "execute_result"
    }
   ],
   "source": [
    "simple_obj.cls_method_pseudo()"
   ]
  },
  {
   "cell_type": "markdown",
   "metadata": {},
   "source": [
    "#### <span style='color:crimson'> 클래스 메소드나 static method의 진짜 유용한 점은 객체 인스턴스를 생성하지 않고서, 클래스 객체에 대해서 부를 수 있다는 것이에요.</span>.\n"
   ]
  },
  {
   "cell_type": "code",
   "execution_count": 73,
   "metadata": {},
   "outputs": [
    {
     "data": {
      "text/plain": [
       "('class object is :', __main__.SimpleClass)"
      ]
     },
     "execution_count": 73,
     "metadata": {},
     "output_type": "execute_result"
    }
   ],
   "source": [
    "SimpleClass.cls_method()"
   ]
  },
  {
   "cell_type": "code",
   "execution_count": 74,
   "metadata": {},
   "outputs": [
    {
     "data": {
      "text/plain": [
       "\"i am static. Not meant to access instance nor class, damn. 'None' was passed to me btw\""
      ]
     },
     "execution_count": 74,
     "metadata": {},
     "output_type": "execute_result"
    }
   ],
   "source": [
    "SimpleClass.static_method()"
   ]
  },
  {
   "cell_type": "code",
   "execution_count": 75,
   "metadata": {},
   "outputs": [
    {
     "data": {
      "text/plain": [
       "\"I belong to a class called 'SimpleClass'\""
      ]
     },
     "execution_count": 75,
     "metadata": {},
     "output_type": "execute_result"
    }
   ],
   "source": [
    "SimpleClass.class_att"
   ]
  },
  {
   "cell_type": "code",
   "execution_count": 76,
   "metadata": {},
   "outputs": [
    {
     "data": {
      "text/plain": [
       "\"I belong to a class called 'SimpleClass'\""
      ]
     },
     "execution_count": 76,
     "metadata": {},
     "output_type": "execute_result"
    }
   ],
   "source": [
    "simple_obj.class_att"
   ]
  },
  {
   "cell_type": "markdown",
   "metadata": {},
   "source": [
    "그런데, instance method도 `self.__class__` 로 패턴으로 클래스에 접근할 수 있어요.  "
   ]
  },
  {
   "cell_type": "code",
   "execution_count": 77,
   "metadata": {},
   "outputs": [
    {
     "data": {
      "text/plain": [
       "('class object is :', __main__.SimpleClass)"
      ]
     },
     "execution_count": 77,
     "metadata": {},
     "output_type": "execute_result"
    }
   ],
   "source": [
    "simple_obj.__class__.cls_method()"
   ]
  },
  {
   "cell_type": "markdown",
   "metadata": {},
   "source": [
    "#### <span style='color:crimson'>클래스에 대해 instance method 호출은 안되요:</span>."
   ]
  },
  {
   "cell_type": "code",
   "execution_count": 78,
   "metadata": {
    "scrolled": true
   },
   "outputs": [
    {
     "ename": "TypeError",
     "evalue": "instance_method() missing 1 required positional argument: 'self'",
     "output_type": "error",
     "traceback": [
      "\u001b[1;31m---------------------------------------------------------------------------\u001b[0m",
      "\u001b[1;31mTypeError\u001b[0m                                 Traceback (most recent call last)",
      "\u001b[1;32m<ipython-input-78-c01a2e61c1e6>\u001b[0m in \u001b[0;36m<module>\u001b[1;34m\u001b[0m\n\u001b[1;32m----> 1\u001b[1;33m \u001b[0mSimpleClass\u001b[0m\u001b[1;33m.\u001b[0m\u001b[0minstance_method\u001b[0m\u001b[1;33m(\u001b[0m\u001b[1;33m)\u001b[0m\u001b[1;33m\u001b[0m\u001b[1;33m\u001b[0m\u001b[0m\n\u001b[0m",
      "\u001b[1;31mTypeError\u001b[0m: instance_method() missing 1 required positional argument: 'self'"
     ]
    }
   ],
   "source": [
    "SimpleClass.instance_method()"
   ]
  },
  {
   "cell_type": "code",
   "execution_count": 79,
   "metadata": {},
   "outputs": [],
   "source": [
    "simple_obj2 = SimpleClass(\"anothersimple one\")"
   ]
  },
  {
   "cell_type": "code",
   "execution_count": 80,
   "metadata": {},
   "outputs": [
    {
     "data": {
      "text/plain": [
       "2"
      ]
     },
     "execution_count": 80,
     "metadata": {},
     "output_type": "execute_result"
    }
   ],
   "source": [
    "SimpleClass.SimpleClass_count()"
   ]
  },
  {
   "cell_type": "code",
   "execution_count": 82,
   "metadata": {},
   "outputs": [
    {
     "data": {
      "text/plain": [
       "2"
      ]
     },
     "execution_count": 82,
     "metadata": {},
     "output_type": "execute_result"
    }
   ],
   "source": [
    "SimpleClass.SimpleClass_count_2()"
   ]
  },
  {
   "cell_type": "markdown",
   "metadata": {},
   "source": [
    "#### Class methods, Static methods 의 또 다른 예:"
   ]
  },
  {
   "cell_type": "code",
   "execution_count": 84,
   "metadata": {},
   "outputs": [],
   "source": [
    "class ToyClass:\n",
    "    \n",
    "    __count = 0\n",
    "    \n",
    "    def __init__(self, name=\"\"):\n",
    "        type(self).__count += 1        # the same as ToyClass.__count += 1  \n",
    "        self.name = name\n",
    "        \n",
    "    @staticmethod\n",
    "    def count():      # no `cls` nor `self` \n",
    "        return ToyClass.__count   # static method에서 이렇게 직접 클래스명을 쓰면 클래스 접근. \n",
    "        \n",
    "    \n",
    "    @classmethod\n",
    "    def classmethod(cls):   # cls가 ToyClass를 가르킴 \n",
    "        print('class method called', \"& object count =\", cls.__count, \"  \", str(cls))  \n",
    "    \n",
    "    def instancemethod(self):\n",
    "        return ('instance method called & the name of the instance is = %s, %s' % (self.name, str(self)) )\n",
    "    \n",
    "    def __repr__(self):\n",
    "        return f\"ToyClass object instance with name={self.name}\"\n",
    "    "
   ]
  },
  {
   "cell_type": "markdown",
   "metadata": {},
   "source": [
    "### staticmethod 동작:"
   ]
  },
  {
   "cell_type": "code",
   "execution_count": 85,
   "metadata": {
    "scrolled": true
   },
   "outputs": [
    {
     "data": {
      "text/plain": [
       "0"
      ]
     },
     "execution_count": 85,
     "metadata": {},
     "output_type": "execute_result"
    }
   ],
   "source": [
    "ToyClass.count()         # static method called with the class name before any instantiation"
   ]
  },
  {
   "cell_type": "code",
   "execution_count": 86,
   "metadata": {
    "scrolled": true
   },
   "outputs": [
    {
     "data": {
      "text/plain": [
       "'instance method called & the name of the instance is = toy1, ToyClass object instance with name=toy1'"
      ]
     },
     "execution_count": 86,
     "metadata": {},
     "output_type": "execute_result"
    }
   ],
   "source": [
    "a_toy = ToyClass('toy1')\n",
    "a_toy.instancemethod()"
   ]
  },
  {
   "cell_type": "code",
   "execution_count": 87,
   "metadata": {},
   "outputs": [
    {
     "data": {
      "text/plain": [
       "'instance method called & the name of the instance is = toy1, ToyClass object instance with name=toy1'"
      ]
     },
     "execution_count": 87,
     "metadata": {},
     "output_type": "execute_result"
    }
   ],
   "source": [
    "ToyClass.instancemethod(a_toy)   # 이렇게 해 instance method를 부를 수 있지만, 장려되지 않죠."
   ]
  },
  {
   "cell_type": "code",
   "execution_count": 88,
   "metadata": {},
   "outputs": [
    {
     "data": {
      "text/plain": [
       "1"
      ]
     },
     "execution_count": 88,
     "metadata": {},
     "output_type": "execute_result"
    }
   ],
   "source": [
    "ToyClass.count()   "
   ]
  },
  {
   "cell_type": "code",
   "execution_count": 89,
   "metadata": {},
   "outputs": [
    {
     "data": {
      "text/plain": [
       "2"
      ]
     },
     "execution_count": 89,
     "metadata": {},
     "output_type": "execute_result"
    }
   ],
   "source": [
    "a_toy2 = ToyClass()\n",
    "a_toy2.count()       # static method called with the instance name "
   ]
  },
  {
   "cell_type": "markdown",
   "metadata": {},
   "source": [
    "### Class method:"
   ]
  },
  {
   "cell_type": "code",
   "execution_count": 90,
   "metadata": {
    "scrolled": true
   },
   "outputs": [
    {
     "name": "stdout",
     "output_type": "stream",
     "text": [
      "class method called & object count = 2    <class '__main__.ToyClass'>\n"
     ]
    }
   ],
   "source": [
    "a_toy.classmethod()    # class method can be called through the instance object "
   ]
  },
  {
   "cell_type": "code",
   "execution_count": 91,
   "metadata": {},
   "outputs": [
    {
     "data": {
      "text/plain": [
       "ToyClass object instance with name=toy3"
      ]
     },
     "execution_count": 91,
     "metadata": {},
     "output_type": "execute_result"
    }
   ],
   "source": [
    "ToyClass(\"toy3\")"
   ]
  },
  {
   "cell_type": "code",
   "execution_count": 92,
   "metadata": {
    "scrolled": true
   },
   "outputs": [
    {
     "name": "stdout",
     "output_type": "stream",
     "text": [
      "class method called & object count = 3    <class '__main__.ToyClass'>\n"
     ]
    }
   ],
   "source": [
    "ToyClass.classmethod()"
   ]
  },
  {
   "cell_type": "code",
   "execution_count": 93,
   "metadata": {},
   "outputs": [
    {
     "ename": "TypeError",
     "evalue": "instancemethod() missing 1 required positional argument: 'self'",
     "output_type": "error",
     "traceback": [
      "\u001b[1;31m---------------------------------------------------------------------------\u001b[0m",
      "\u001b[1;31mTypeError\u001b[0m                                 Traceback (most recent call last)",
      "\u001b[1;32m<ipython-input-93-e2f8f9e5956e>\u001b[0m in \u001b[0;36m<module>\u001b[1;34m\u001b[0m\n\u001b[1;32m----> 1\u001b[1;33m \u001b[0mToyClass\u001b[0m\u001b[1;33m.\u001b[0m\u001b[0minstancemethod\u001b[0m\u001b[1;33m(\u001b[0m\u001b[1;33m)\u001b[0m   \u001b[1;31m# instance method not accessible via class name\u001b[0m\u001b[1;33m\u001b[0m\u001b[1;33m\u001b[0m\u001b[0m\n\u001b[0m",
      "\u001b[1;31mTypeError\u001b[0m: instancemethod() missing 1 required positional argument: 'self'"
     ]
    }
   ],
   "source": [
    "ToyClass.instancemethod()   # instance method not accessible via class name "
   ]
  },
  {
   "cell_type": "markdown",
   "metadata": {},
   "source": [
    "### Summary\n",
    "- `instance object name`으로 : instancemethod, classmethod, staticmethod 부르는 것 OK\n",
    "- `class name`으로 : classmethod 와 staticmethod 부르는 것 OK, ***하지만 instancemethod 안됨***\n",
    "  - 이 때 classmethod는 클래스에 접근 가능하지만 (`cls`를 통해), 인스턴스에 대해서는 접근 가능하지 않죠.  `@classmethod`로 첫번 째 인자가 클래스를 가르키고 있다고 했거든요...\n",
    "  - staticmethod는 클래스나 인스턴스에 모두에 대해 접근 가능하지 않고요 (`cls, self` 다 없으니까요)\n",
    "   \n",
    "-------------------------------------------------------------------\n",
    "\n",
    "**인스턴스 메소드, 클래스 메소드, 스태틱 메소드 또 다른 예**"
   ]
  },
  {
   "cell_type": "code",
   "execution_count": 94,
   "metadata": {},
   "outputs": [],
   "source": [
    "from datetime import date\n",
    "\n",
    "class Person:\n",
    "    count = 0               # class attribute\n",
    "    persons_list = []       # class attribute\n",
    "    \n",
    "    def __init__(self, name, age):\n",
    "        self.name = name\n",
    "        self.age = age  \n",
    "        Person.count += 1   # also type(self).count += 1\n",
    "        Person.persons_list.append(name)\n",
    "        \n",
    "    @classmethod\n",
    "    def from_birth_year(cls, name, birth_year):    # used constructor \n",
    "        return cls(name, date.today().year - birth_year)    # cls points to Person\n",
    "    \n",
    "    @staticmethod\n",
    "    def is_adult(age):   # has no self nor cls.  cannot access object or class states.\n",
    "        return age > 18\n",
    "    \n",
    "    @classmethod\n",
    "    def who(cls):\n",
    "        return cls.persons_list, cls.count\n",
    "    \n",
    "person1 = Person('Sarah', 25)\n",
    "person2 = Person.from_birth_year('정은', 1984)"
   ]
  },
  {
   "cell_type": "code",
   "execution_count": 95,
   "metadata": {},
   "outputs": [
    {
     "data": {
      "text/plain": [
       "('Sarah', 25)"
      ]
     },
     "execution_count": 95,
     "metadata": {},
     "output_type": "execute_result"
    }
   ],
   "source": [
    "person1.name, person1.age"
   ]
  },
  {
   "cell_type": "code",
   "execution_count": 96,
   "metadata": {},
   "outputs": [
    {
     "data": {
      "text/plain": [
       "('정은', 37)"
      ]
     },
     "execution_count": 96,
     "metadata": {},
     "output_type": "execute_result"
    }
   ],
   "source": [
    "person2.name, person2.age"
   ]
  },
  {
   "cell_type": "code",
   "execution_count": 97,
   "metadata": {},
   "outputs": [
    {
     "data": {
      "text/plain": [
       "(2, 2)"
      ]
     },
     "execution_count": 97,
     "metadata": {},
     "output_type": "execute_result"
    }
   ],
   "source": [
    "person1.count, Person.count   # class variable can be accessed from object and class names"
   ]
  },
  {
   "cell_type": "code",
   "execution_count": 98,
   "metadata": {},
   "outputs": [
    {
     "data": {
      "text/plain": [
       "((['Sarah', '정은'], 2), (['Sarah', '정은'], 2))"
      ]
     },
     "execution_count": 98,
     "metadata": {},
     "output_type": "execute_result"
    }
   ],
   "source": [
    "Person.who(), person2.who()    # class method can be accessed from object "
   ]
  },
  {
   "cell_type": "code",
   "execution_count": 99,
   "metadata": {},
   "outputs": [
    {
     "data": {
      "text/plain": [
       "True"
      ]
     },
     "execution_count": 99,
     "metadata": {},
     "output_type": "execute_result"
    }
   ],
   "source": [
    "person2.is_adult(person2.age)       # is_adult 는 static   "
   ]
  },
  {
   "cell_type": "markdown",
   "metadata": {},
   "source": [
    "--------------------------------------------------------------------------"
   ]
  },
  {
   "cell_type": "code",
   "execution_count": 100,
   "metadata": {},
   "outputs": [
    {
     "name": "stdout",
     "output_type": "stream",
     "text": [
      "Middle 5 3\n",
      "Out 5 3\n",
      "args 2 3 , exp= 8\n"
     ]
    },
    {
     "data": {
      "text/plain": [
       "<__main__.Exp at 0x20ffeed3d88>"
      ]
     },
     "execution_count": 100,
     "metadata": {},
     "output_type": "execute_result"
    }
   ],
   "source": [
    "x = 5\n",
    "y = 3\n",
    "\n",
    "class Exp(object):\n",
    "    def __init__(self, x, y):\n",
    "        self.x = x\n",
    "        self.y = y\n",
    "\n",
    "        print(\"args\",x, y, \", exp=\", self.x**self.y)\n",
    "    print(\"Middle\",x,y)   # this statement does not belong to any methods.  So it gets executed.\n",
    "\n",
    "print(\"Out\",x,y)\n",
    "\n",
    "Exp(2, 3)"
   ]
  },
  {
   "cell_type": "markdown",
   "metadata": {},
   "source": [
    "### Class 변수, classmethod, staticmethod의 상속"
   ]
  },
  {
   "cell_type": "code",
   "execution_count": 101,
   "metadata": {},
   "outputs": [],
   "source": [
    "class Car():\n",
    "    \n",
    "    count = 0\n",
    "    info = '자동차'\n",
    "    \n",
    "    def __init__(self, weight):        \n",
    "        self.weight = weight     # Car 객체를 정의할 때 weight을 필요로 함 \n",
    "        type(self).count += 1 \n",
    "        \n",
    "    def exclaim(self):\n",
    "        print(f\"나는 {Car.info}입니다. {self.weight}kg 나가지만 잘 달려요\")\n",
    "    \n",
    "    def __str__(self):\n",
    "        return(\"I am a {Car.info}\")\n",
    "    \n",
    "\n",
    "class Avante(Car):\n",
    "        \n",
    "    count = 0\n",
    "    info = '아반테'\n",
    "    \n",
    "    # Avante는 __init__를 정의하고 있지 않기에 그냥 상속받은 Car의 __init__()이 동작해 instantiate  \n",
    "    \n",
    "    def exclaim(self, year):   # super 클래스의 exclaim() 을 override\n",
    "        print(f\"나는 {Avante.info}입니다. {year}연식이고 {self.weight}kg 나가고 잘 달려요\")\n",
    "    \n",
    "    def __str__(self):\n",
    "        return \"I am {Avante.info}\""
   ]
  },
  {
   "cell_type": "code",
   "execution_count": 102,
   "metadata": {},
   "outputs": [],
   "source": [
    "car_1 = Car(1500)\n",
    "car_2 = Car(2000)"
   ]
  },
  {
   "cell_type": "code",
   "execution_count": 104,
   "metadata": {},
   "outputs": [
    {
     "data": {
      "text/plain": [
       "(2, 2)"
      ]
     },
     "execution_count": 104,
     "metadata": {},
     "output_type": "execute_result"
    }
   ],
   "source": [
    "car_1.count, Car.count"
   ]
  },
  {
   "cell_type": "code",
   "execution_count": 105,
   "metadata": {},
   "outputs": [
    {
     "name": "stdout",
     "output_type": "stream",
     "text": [
      "나는 자동차입니다. 2000kg 나가지만 잘 달려요\n"
     ]
    }
   ],
   "source": [
    "car_2.exclaim()"
   ]
  },
  {
   "cell_type": "code",
   "execution_count": 106,
   "metadata": {},
   "outputs": [
    {
     "data": {
      "text/plain": [
       "0"
      ]
     },
     "execution_count": 106,
     "metadata": {},
     "output_type": "execute_result"
    }
   ],
   "source": [
    "Avante.count"
   ]
  },
  {
   "cell_type": "code",
   "execution_count": 107,
   "metadata": {},
   "outputs": [],
   "source": [
    "avante_1 = Avante(1200)"
   ]
  },
  {
   "cell_type": "code",
   "execution_count": 108,
   "metadata": {},
   "outputs": [
    {
     "data": {
      "text/plain": [
       "1"
      ]
     },
     "execution_count": 108,
     "metadata": {},
     "output_type": "execute_result"
    }
   ],
   "source": [
    "avante_1.count"
   ]
  },
  {
   "cell_type": "code",
   "execution_count": 109,
   "metadata": {},
   "outputs": [
    {
     "data": {
      "text/plain": [
       "1"
      ]
     },
     "execution_count": 109,
     "metadata": {},
     "output_type": "execute_result"
    }
   ],
   "source": [
    "Avante.count"
   ]
  },
  {
   "cell_type": "code",
   "execution_count": 110,
   "metadata": {},
   "outputs": [
    {
     "data": {
      "text/plain": [
       "2"
      ]
     },
     "execution_count": 110,
     "metadata": {},
     "output_type": "execute_result"
    }
   ],
   "source": [
    "avante_2 = Avante(1250)\n",
    "Avante.count"
   ]
  },
  {
   "cell_type": "code",
   "execution_count": 113,
   "metadata": {},
   "outputs": [
    {
     "name": "stdout",
     "output_type": "stream",
     "text": [
      "나는 아반테입니다. 2012연식이고 1250kg 나가고 잘 달려요\n"
     ]
    }
   ],
   "source": [
    "avante_2.exclaim(2012)"
   ]
  },
  {
   "cell_type": "markdown",
   "metadata": {},
   "source": [
    "위 Car와 Avante 클래스의 정의에서는 메소드에서 구체적으로 `Car.info`, `Avante.info` 를 사용해야 했다."
   ]
  },
  {
   "cell_type": "code",
   "execution_count": 130,
   "metadata": {},
   "outputs": [],
   "source": [
    "class Car():\n",
    "    \n",
    "    count = 0\n",
    "    info = '자동차'\n",
    "    \n",
    "    def __init__(self, weight):        \n",
    "        self.weight = weight     # Car 객체를 정의할 때 weight을 필요로 함 \n",
    "        type(self).count += 1 \n",
    "        \n",
    "    @classmethod\n",
    "    def exclaim(cls):\n",
    "        print(f\"나는 {cls.info}입니다\")\n",
    "    \n",
    "    @classmethod\n",
    "    def __str__(cls):\n",
    "        return(f\"I am a {cls.info}\")\n",
    "    \n",
    "\n",
    "class Avante(Car):\n",
    "        \n",
    "    count = 0\n",
    "    info = '아반테'\n",
    "    \n",
    "    # Avante는 __init__를 정의하고 있지 않기에 그냥 상속받은 Car의 __init__()이 동작해 instantiate  \n"
   ]
  },
  {
   "cell_type": "markdown",
   "metadata": {},
   "source": [
    "클래스들이 상속으로 묶여있고, 클래스명으로 접근해 클래스에 따라서 메소드를 실행시키려면 위와 같이 하면 됨. "
   ]
  },
  {
   "cell_type": "code",
   "execution_count": 131,
   "metadata": {},
   "outputs": [
    {
     "data": {
      "text/plain": [
       "(2, 2)"
      ]
     },
     "execution_count": 131,
     "metadata": {},
     "output_type": "execute_result"
    }
   ],
   "source": [
    "car_1 = Car(1500)\n",
    "car_2 = Car(2000)\n",
    "\n",
    "car_1.count, Car.count"
   ]
  },
  {
   "cell_type": "code",
   "execution_count": 132,
   "metadata": {},
   "outputs": [
    {
     "name": "stdout",
     "output_type": "stream",
     "text": [
      "나는 자동차입니다\n"
     ]
    }
   ],
   "source": [
    "car_2.exclaim()"
   ]
  },
  {
   "cell_type": "code",
   "execution_count": 133,
   "metadata": {},
   "outputs": [
    {
     "name": "stdout",
     "output_type": "stream",
     "text": [
      "I am a 자동차\n"
     ]
    }
   ],
   "source": [
    "print(car_2)"
   ]
  },
  {
   "cell_type": "code",
   "execution_count": 134,
   "metadata": {},
   "outputs": [
    {
     "data": {
      "text/plain": [
       "2"
      ]
     },
     "execution_count": 134,
     "metadata": {},
     "output_type": "execute_result"
    }
   ],
   "source": [
    "avante1 = Avante(1333)\n",
    "avante2 = Avante(1222)\n",
    "avante1.count"
   ]
  },
  {
   "cell_type": "code",
   "execution_count": 135,
   "metadata": {},
   "outputs": [
    {
     "name": "stdout",
     "output_type": "stream",
     "text": [
      "나는 아반테입니다\n"
     ]
    }
   ],
   "source": [
    "avante2.exclaim()"
   ]
  },
  {
   "cell_type": "code",
   "execution_count": 136,
   "metadata": {},
   "outputs": [
    {
     "data": {
      "text/plain": [
       "3"
      ]
     },
     "execution_count": 136,
     "metadata": {},
     "output_type": "execute_result"
    }
   ],
   "source": [
    "avante3 = Avante(1000)\n",
    "avante1.count"
   ]
  },
  {
   "cell_type": "code",
   "execution_count": 137,
   "metadata": {},
   "outputs": [
    {
     "data": {
      "text/plain": [
       "3"
      ]
     },
     "execution_count": 137,
     "metadata": {},
     "output_type": "execute_result"
    }
   ],
   "source": [
    "Avante.count"
   ]
  },
  {
   "cell_type": "code",
   "execution_count": 138,
   "metadata": {},
   "outputs": [
    {
     "data": {
      "text/plain": [
       "2"
      ]
     },
     "execution_count": 138,
     "metadata": {},
     "output_type": "execute_result"
    }
   ],
   "source": [
    "Car.count"
   ]
  },
  {
   "cell_type": "code",
   "execution_count": 139,
   "metadata": {},
   "outputs": [
    {
     "name": "stdout",
     "output_type": "stream",
     "text": [
      "I am a 아반테\n"
     ]
    }
   ],
   "source": [
    "print(avante1)"
   ]
  },
  {
   "cell_type": "code",
   "execution_count": 140,
   "metadata": {},
   "outputs": [
    {
     "name": "stdout",
     "output_type": "stream",
     "text": [
      "나는 아반테입니다\n"
     ]
    }
   ],
   "source": [
    "Avante.exclaim()"
   ]
  },
  {
   "cell_type": "code",
   "execution_count": 141,
   "metadata": {},
   "outputs": [
    {
     "name": "stdout",
     "output_type": "stream",
     "text": [
      "나는 자동차입니다\n"
     ]
    }
   ],
   "source": [
    "Car.exclaim()"
   ]
  },
  {
   "cell_type": "markdown",
   "metadata": {},
   "source": [
    "------------------------------------------\n",
    "\n",
    "#### 상속 연습:"
   ]
  },
  {
   "cell_type": "code",
   "execution_count": 168,
   "metadata": {},
   "outputs": [
    {
     "name": "stdout",
     "output_type": "stream",
     "text": [
      "\n",
      "---- person tests ----\n",
      "person:jack , 30\n",
      "jack\n",
      "30\n",
      "\n",
      "jill\n",
      "25\n",
      "\n",
      "hello\n",
      "5 year difference\n"
     ]
    }
   ],
   "source": [
    "#################################\n",
    "## Inheritance example\n",
    "#################################\n",
    "\n",
    "class Animal:\n",
    "    def __init__(self, age):\n",
    "        self.age = age\n",
    "        \n",
    "    def set_name(self, name):\n",
    "        self.name = name\n",
    "        \n",
    "    def get_name(self):\n",
    "        return self.name\n",
    "    \n",
    "    def get_age(self):\n",
    "        return self.age\n",
    "        \n",
    "        \n",
    "class Person(Animal):\n",
    "    def __init__(self, name, age):\n",
    "        # Animal.__init__(self, age)       # old style \n",
    "        super().__init__(age)\n",
    "        self.set_name(name)\n",
    "        self.friends = []\n",
    "    def get_friends(self):\n",
    "        return self.friends\n",
    "    def speak(self):\n",
    "        print(\"hello\")\n",
    "    def add_friend(self, fname):\n",
    "        if fname not in self.friends:\n",
    "            self.friends.append(fname)\n",
    "    def age_diff(self, other):\n",
    "        diff = self.age - other.age\n",
    "        print(abs(diff), \"year difference\")\n",
    "    def __str__(self):\n",
    "        return \"person:\"+str(self.name)+\" , \"+str(self.age)\n",
    "\n",
    "print(\"\\n---- person tests ----\")\n",
    "p1 = Person(\"jack\", 30)\n",
    "p2 = Person(\"jill\", 25)\n",
    "print(p1)\n",
    "\n",
    "print(p1.get_name())\n",
    "print(p1.get_age())\n",
    "print()\n",
    "print(p2.get_name())\n",
    "print(p2.get_age())\n",
    "print()\n",
    "p1.speak()\n",
    "p1.age_diff(p2)"
   ]
  },
  {
   "cell_type": "code",
   "execution_count": 178,
   "metadata": {},
   "outputs": [
    {
     "name": "stdout",
     "output_type": "stream",
     "text": [
      "\n",
      "---- student tests ----\n",
      "student:alice, 20,  major:CS\n",
      "student:beth, 18,  major:None\n",
      "alice says: i am watching tv\n",
      "beth says: i need sleep\n",
      "alice's friends :['kim', 'kathy']\n"
     ]
    }
   ],
   "source": [
    "#################################\n",
    "## Inheritance example\n",
    "#################################\n",
    "import random\n",
    "\n",
    "class Student(Person):\n",
    "    def __init__(self, name, age, major=None):\n",
    "        # Person.__init__(self, name, age)   # old style\n",
    "        super().__init__(name, age)\n",
    "        self.major = major\n",
    "    def __str__(self):\n",
    "        return \"student:\"+str(self.name)+\", \"+str(self.age)+\",  major:\"+str(self.major)\n",
    "    def change_major(self, major):\n",
    "        self.major = major\n",
    "    def speak(self):\n",
    "        r = random.random()\n",
    "        if r < 0.25:\n",
    "            print(\"i have homework\")\n",
    "        elif 0.25 <= r < 0.5:\n",
    "            print(\"i need sleep\")\n",
    "        elif 0.5 <= r < 0.75:\n",
    "            print(\"i should eat\")\n",
    "        else:\n",
    "            print(\"i am watching tv\")\n",
    "\n",
    "print(\"\\n---- student tests ----\")\n",
    "s1 = Student('alice', 20, \"CS\")\n",
    "s2 = Student('beth', 18)\n",
    "print(s1)\n",
    "print(s2)\n",
    "print(s1.get_name(),\"says:\", end=\" \")\n",
    "s1.speak()\n",
    "print(s2.get_name(),\"says:\", end=\" \")\n",
    "s2.speak()\n",
    "\n",
    "s1.add_friend('kim')\n",
    "s1.add_friend('kathy')\n",
    "print(\"%s's friends :%s\" % (s1.name, s1.get_friends()) )"
   ]
  },
  {
   "cell_type": "code",
   "execution_count": 180,
   "metadata": {},
   "outputs": [
    {
     "name": "stdout",
     "output_type": "stream",
     "text": [
      "alice's friends :['kim', 'kathy', 'jim']\n"
     ]
    }
   ],
   "source": [
    "s1.add_friend('jim')\n",
    "print(\"%s's friends :%s\" % (s1.name, s1.get_friends()) )"
   ]
  },
  {
   "cell_type": "code",
   "execution_count": 181,
   "metadata": {},
   "outputs": [
    {
     "name": "stdout",
     "output_type": "stream",
     "text": [
      "\n",
      "---- rabbit tests ----\n",
      "---- testing creating rabbits ----\n",
      "r1: rabbit:001\n",
      "r2: rabbit:002\n",
      "r3: rabbit:003\n",
      "r1 parent1: None\n",
      "r1 parent2: None\n",
      "---- testing rabbit addition ----\n",
      "r1: rabbit:001\n",
      "r2: rabbit:002\n",
      "r4: rabbit:004\n",
      "r4 parent1: rabbit:001\n",
      "r4 parent2: rabbit:002\n",
      "---- testing rabbit equality ----\n",
      "r3: rabbit:003\n",
      "r4: rabbit:004\n",
      "r5: rabbit:005\n",
      "r6: rabbit:006\n",
      "r5 parent1: rabbit:003\n",
      "r5 parent2: rabbit:004\n",
      "r6 parent1: rabbit:004\n",
      "r6 parent2: rabbit:003\n",
      "r5 and r6 have same parents? True\n",
      "r4 and r6 have same parents? False\n"
     ]
    }
   ],
   "source": [
    "#################################\n",
    "## Use of class variables  \n",
    "#################################\n",
    "class Rabbit(Animal):\n",
    "    \n",
    "    tag = 1  # a class variable, tag, shared across all instances\n",
    "    def __init__(self, age, parent1=None, parent2=None):\n",
    "        Animal.__init__(self, age)\n",
    "        self.parent1 = parent1\n",
    "        self.parent2 = parent2\n",
    "        self.rid = Rabbit.tag\n",
    "        Rabbit.tag += 1\n",
    "    def get_rid(self):\n",
    "        # zfill used to add leading zeroes 001 instead of 1\n",
    "        return str(self.rid).zfill(3)\n",
    "    def get_parent1(self):\n",
    "        return self.parent1\n",
    "    def get_parent2(self):\n",
    "        return self.parent2\n",
    "    def __add__(self, other):\n",
    "        # returning object of same type as this class\n",
    "        return Rabbit(0, self, other)\n",
    "    def __eq__(self, other):\n",
    "        # compare the ids of self and other's parents\n",
    "        # don't care about the order of the parents\n",
    "        # the backslash tells python I want to break up my line\n",
    "        parents_same = self.parent1.rid == other.parent1.rid \\\n",
    "                       and self.parent2.rid == other.parent2.rid\n",
    "        parents_opposite = self.parent2.rid == other.parent1.rid \\\n",
    "                           and self.parent1.rid == other.parent2.rid\n",
    "        return parents_same or parents_opposite\n",
    "    def __str__(self):\n",
    "        return \"rabbit:\"+ self.get_rid()\n",
    "\n",
    "print(\"\\n---- rabbit tests ----\")\n",
    "print(\"---- testing creating rabbits ----\")\n",
    "r1 = Rabbit(3)\n",
    "r2 = Rabbit(4)\n",
    "r3 = Rabbit(5)\n",
    "print(\"r1:\", r1)\n",
    "print(\"r2:\", r2)\n",
    "print(\"r3:\", r3)\n",
    "print(\"r1 parent1:\", r1.get_parent1())\n",
    "print(\"r1 parent2:\", r1.get_parent2())\n",
    "\n",
    "print(\"---- testing rabbit addition ----\")\n",
    "r4 = r1+r2   # r1.__add__(r2)\n",
    "print(\"r1:\", r1)\n",
    "print(\"r2:\", r2)\n",
    "print(\"r4:\", r4)\n",
    "print(\"r4 parent1:\", r4.get_parent1())\n",
    "print(\"r4 parent2:\", r4.get_parent2())\n",
    "\n",
    "print(\"---- testing rabbit equality ----\")\n",
    "r5 = r3+r4\n",
    "r6 = r4+r3\n",
    "print(\"r3:\", r3)\n",
    "print(\"r4:\", r4)\n",
    "print(\"r5:\", r5)\n",
    "print(\"r6:\", r6)\n",
    "print(\"r5 parent1:\", r5.get_parent1())\n",
    "print(\"r5 parent2:\", r5.get_parent2())\n",
    "print(\"r6 parent1:\", r6.get_parent1())\n",
    "print(\"r6 parent2:\", r6.get_parent2())\n",
    "print(\"r5 and r6 have same parents?\", r5 == r6)\n",
    "print(\"r4 and r6 have same parents?\", r4 == r6)"
   ]
  },
  {
   "cell_type": "code",
   "execution_count": 182,
   "metadata": {},
   "outputs": [
    {
     "data": {
      "text/plain": [
       "[__main__.Student, __main__.Person, __main__.Animal, object]"
      ]
     },
     "execution_count": 182,
     "metadata": {},
     "output_type": "execute_result"
    }
   ],
   "source": [
    "Student.mro()"
   ]
  },
  {
   "cell_type": "code",
   "execution_count": null,
   "metadata": {},
   "outputs": [],
   "source": []
  }
 ],
 "metadata": {
  "kernelspec": {
   "display_name": "Python 3",
   "language": "python",
   "name": "python3"
  },
  "language_info": {
   "codemirror_mode": {
    "name": "ipython",
    "version": 3
   },
   "file_extension": ".py",
   "mimetype": "text/x-python",
   "name": "python",
   "nbconvert_exporter": "python",
   "pygments_lexer": "ipython3",
   "version": "3.8.5"
  }
 },
 "nbformat": 4,
 "nbformat_minor": 4
}
