{
 "cells": [
  {
   "cell_type": "markdown",
   "metadata": {},
   "source": [
    "<h3><center>파이썬프로그래밍 중간고사</center></h3>\n",
    "<div style=\"text-align: right\"> 2021. 04. 22 </div>\n",
    "\n",
    "아래에 이름과 학번을 기입하세요:    \n",
    " - 이름 :  김병철\n",
    " - 학번 :  2016111283\n",
    " \n",
    "모두 10 문제가 있습니다. 다양하게 문제를 풀 수 있습니다. 따라서, 문제에서 특별히 \"어떻게 어떻게 (가령 리스트를 인자로 받는 함수로 구현...)\" 하라고 하지 않았으면 여러분이 자유롭게 코딩해 문제를 풀어도 됩니다. 문제에 따라 코딩 힌트를 제공한 것도 있습니다.    \n",
    "\n",
    "\n",
    "### 각 5점 "
   ]
  },
  {
   "cell_type": "markdown",
   "metadata": {},
   "source": [
    "#### 문제 1.\n",
    "\n",
    "사용자로부터 알파벳 소문자 하나를 입력받아서 a, e, i, o, u 중 하나일 경우 '모음입니다'를 출력하고, 그 이외의 문자일 경우 '자음입니다'를 출력하세요.\n",
    "\n",
    "실행 예)\n",
    "\n",
    "    알파벳 소문자 하나를 입력하시요 : u\n",
    "    u 는 모음입니다. "
   ]
  },
  {
   "cell_type": "code",
   "execution_count": 1,
   "metadata": {},
   "outputs": [
    {
     "name": "stdout",
     "output_type": "stream",
     "text": [
      "알파벳 소문자 하나를 입력하시요 : u\n",
      "u는 모음입니다.\n"
     ]
    }
   ],
   "source": [
    "m = ['a','e','i','o','u']\n",
    "k = input(\"알파벳 소문자 하나를 입력하시요 : \")\n",
    "if k in m :\n",
    "    print(k+\"는 모음입니다.\")\n",
    "else : \n",
    "    print(k+\"는 자음입니다.\")"
   ]
  },
  {
   "cell_type": "markdown",
   "metadata": {},
   "source": [
    "#### 문제 2.\n",
    "\n",
    "사용자로부터 소문자로 된 알파벳 **문자열**을 입력받아서 그 중에 모음 문자가 몇 개 있는 지를 출력하세요. 모음 문자가 없으면 0 으로 하세요.  \n",
    "\n",
    "실행 예:\n",
    "\n",
    "    알파벳 문자열을 입력하시요 : today is exam day\n",
    "    모음 6 개가 있습니다. "
   ]
  },
  {
   "cell_type": "code",
   "execution_count": 2,
   "metadata": {},
   "outputs": [
    {
     "name": "stdout",
     "output_type": "stream",
     "text": [
      "알파벳 문자열을 입력하시요 : today\n",
      "모음 2개가 있습니다.\n"
     ]
    }
   ],
   "source": [
    "S = input(\"알파벳 문자열을 입력하시요 : \")\n",
    "cnt = 0\n",
    "for s in S :\n",
    "    if s in m :\n",
    "        cnt += 1\n",
    "print(f\"모음 {cnt}개가 있습니다.\")"
   ]
  },
  {
   "cell_type": "markdown",
   "metadata": {},
   "source": [
    "#### 문제 3.   \n",
    "\n",
    "100과 200 사이의 (100과 200 포함) 정수 중 7의 배수이거나 또는 13 의 배수이지만 2의 배수가 아닌 수들이 몇 개인지 출력하는 프로그램을 만드세요."
   ]
  },
  {
   "cell_type": "code",
   "execution_count": 3,
   "metadata": {},
   "outputs": [
    {
     "name": "stdout",
     "output_type": "stream",
     "text": [
      "0\n"
     ]
    }
   ],
   "source": [
    "## 문제 정정전\n",
    "# cnt = 0\n",
    "# for i in range(100,201) :\n",
    "#     if (i % 7) == 0 or (i % 13) == 0 :\n",
    "#         if (i % 2) == 1 : \n",
    "#             cnt += 1\n",
    "# print(cnt)\n",
    "# ## 문제 정정 후\n",
    "# cnt = 0\n",
    "# for i in range(100,201) :\n",
    "#     if (i % 7) == 0 and (i % 13) == 0 :\n",
    "#         if (i % 2) == 1 : \n",
    "#             cnt += 1\n",
    "# print(cnt)\n",
    "# cnt = 0\n",
    "# for i in range(100,201) :\n",
    "#     if (i % 7) == 0 and (i % 13) == 0 :\n",
    "#         if (i % 2) == 1 : \n",
    "#             cnt += 1\n",
    "# print(cnt)"
   ]
  },
  {
   "cell_type": "markdown",
   "metadata": {},
   "source": [
    "#### 문제 4.   \n",
    "\n",
    "인자로 문자열이 주어질 때 첫 두 문자와 마지막 두 문자를 반환하는 **함수** `first_last_two` 를 만드세요. \n",
    "\n",
    "실행예) \n",
    "\n",
    "    first_last_two(\"Dongguk University\") 가 \"Doty\" 를 반환해야 합니다\n",
    "\n",
    "만약 문자열의 길이가 2 보다 작으면 빈 문자열 (empty string)을 반환해야 합니다. "
   ]
  },
  {
   "cell_type": "code",
   "execution_count": 4,
   "metadata": {
    "scrolled": true
   },
   "outputs": [
    {
     "name": "stdout",
     "output_type": "stream",
     "text": [
      "Doer\n",
      "\n"
     ]
    }
   ],
   "source": [
    "\n",
    "def first_last_two(s) :\n",
    "    if len(s) < 2 :\n",
    "        return \"\"\n",
    "    else :\n",
    "        return s[0]+s[1]+s[-2]+s[-1]\n",
    "\n",
    "# first_last_two 함수를 만든 후 다음 두 개를 실행하세요 \n",
    "print(first_last_two(\"Dongguk University is Super\"))\n",
    "print(first_last_two(\"D\"))"
   ]
  },
  {
   "cell_type": "markdown",
   "metadata": {},
   "source": [
    "#### 문제 5.   \n",
    "\n",
    "다음과 같은 리스트 `lst = [3,  5, {\"name\":\"Jane\", \"weight\":51, \"height\":163}, \"john is good\"]` 이 있습니다. `lst` 에서 셋째 아이템의 `weight` 값을 을 51 에서 49로 바꾸려 합니다.  즉, 바꾸고 난 후    \n",
    "`print(lst)` 하면,    \n",
    "출력이 `[3,  5, {\"name\":\"Jane\", \"weight\":51, \"height\":163}, \"john is good\"]` 처럼 나와야 합니다. \n",
    "\n",
    "어떻게 하면 되는지 아래의 셀에 코딩하세요."
   ]
  },
  {
   "cell_type": "code",
   "execution_count": 5,
   "metadata": {},
   "outputs": [
    {
     "name": "stdout",
     "output_type": "stream",
     "text": [
      "[3, 5, {'name': 'Jane', 'weight': 49, 'height': 163}, 'john is good']\n"
     ]
    }
   ],
   "source": [
    "lst = [3,  5, {\"name\":\"Jane\", \"weight\":51, \"height\":163}, \"john is good\"]\n",
    "lst[2][\"weight\"] = 49 \n",
    "print(lst)"
   ]
  },
  {
   "cell_type": "markdown",
   "metadata": {},
   "source": [
    "#### 문제 6.\n",
    "\n",
    "파일의 전체 path 가 주어질 때 파일에서 **확장자를 제외한** 파일명만 반환하는 함수 `get_file_name`을 만드세요.  \n",
    "\n",
    "실행 예)   \n",
    "`path = '/home/user/Downloads/Classes/Python 2021/Mid_term.ipynb'`  일 때,\n",
    "\n",
    "`res = get_file_name(path)` 하면 `res`에 \n",
    "'Mid_term' 문자열이 반환되어야 합니다. \n",
    "\n",
    "힌트 : 문자열에 대해 `split()` 사용법를 참고하세요."
   ]
  },
  {
   "cell_type": "code",
   "execution_count": 6,
   "metadata": {},
   "outputs": [
    {
     "data": {
      "text/plain": [
       "['', 'home', 'user', 'Downloads', 'Classes', 'Python 2021', 'Mid_term.ipynb']"
      ]
     },
     "execution_count": 6,
     "metadata": {},
     "output_type": "execute_result"
    }
   ],
   "source": [
    "# split() 함수 예:\n",
    "'/home/user/Downloads/Classes/Python 2021/Mid_term.ipynb'.split('/')"
   ]
  },
  {
   "cell_type": "code",
   "execution_count": 7,
   "metadata": {},
   "outputs": [
    {
     "name": "stdout",
     "output_type": "stream",
     "text": [
      "Mid_term\n"
     ]
    }
   ],
   "source": [
    "def get_file_name(path) :\n",
    "    directory_list = path.split('/')\n",
    "    file_name = directory_list[-1].split('.')\n",
    "    return file_name[0]\n",
    "\n",
    "path = '/home/user/Downloads/Classes/Python 2021/Mid_term.ipynb'\n",
    "print(get_file_name(path))\n",
    "    "
   ]
  },
  {
   "cell_type": "markdown",
   "metadata": {},
   "source": [
    "#### 문제 7.\n",
    "\n",
    "다음과 같이 같은 길이를 갖는 2개의 리스트가 있습니다.   \n",
    " \n",
    "lst_1 = ['kim', 'lee', 'park', 'choi', 'yun']   \n",
    "lst_2 = [55, 75, 53, 64, 99]   \n",
    "\n",
    "위 두 리스트를 사용해 lst_1 의 원소들을 key 로, lst_2 의 같은 인덱스의 원소들에 3을 더한 값을 value로 갖는 딕셔너리를 `for` 루프로 만드세요.   \n",
    "\n",
    "위 두 리스트를 갖고 실행한 예}  \n",
    "\n",
    "      {'kim': 58, 'lee': 78, 'park': 56, 'choi': 67, 'yun': 102}\n"
   ]
  },
  {
   "cell_type": "code",
   "execution_count": 8,
   "metadata": {},
   "outputs": [
    {
     "name": "stdout",
     "output_type": "stream",
     "text": [
      "{'kim': 58, 'lee': 78, 'park': 56, 'choi': 67, 'yun': 102}\n"
     ]
    }
   ],
   "source": [
    "lst_1 = ['kim', 'lee', 'park', 'choi', 'yun']\n",
    "lst_2 = [55, 75, 53, 64, 99]\n",
    "h = {}\n",
    "for i in range(len(lst_1)) :\n",
    "    h[lst_1[i]] = lst_2[i]+3\n",
    "print(h)"
   ]
  },
  {
   "cell_type": "markdown",
   "metadata": {},
   "source": [
    "#### 문제 8.\n",
    "\n",
    "`*args` 인자 활용을 묻는 문제입니다. `add_mul(op, *args)` 라는 함수를 만들어야 하는데 아래의 조건을 갖추어야 합니다.\n",
    "\n",
    "- 여러개의 숫자를 가변인자로 받는데, op 인자 값이 `+` 또는 `*` 인가에 따라 가변길이 인자에 있는 숫자들을 더하던가 또는 곱해 그 결과를 반환합니다. \n",
    "\n",
    "- 아울려 가변길이 인자들의 개수도 반환합니다. \n",
    "\n",
    "실행 예)\n",
    "\n",
    "    `add_mul('+', 1, 2, 3, 4, 5)` 을 실행하면 (15, 5)가 반환되고,   \n",
    "    `add_mul('*', 1, -2, 3, 4)` 을 실행하면 (-24, 4)이 반환됩니다."
   ]
  },
  {
   "cell_type": "code",
   "execution_count": 9,
   "metadata": {},
   "outputs": [
    {
     "name": "stdout",
     "output_type": "stream",
     "text": [
      "(15, 5)\n",
      "(-24, 4)\n"
     ]
    }
   ],
   "source": [
    "def add_mul(op, *args) :\n",
    "    if op == '+' :\n",
    "        return sum(list(args)), len(list(args))\n",
    "    elif op == '*' :\n",
    "        m = 1 \n",
    "        for a in list(args) :\n",
    "            m *= a  \n",
    "        return m, len(list(args))\n",
    "\n",
    "# add_mul 함수를 만든 후 다음 두 문장을 실행하세요 \n",
    "print(add_mul('+', 1, 2, 3, 4, 5))\n",
    "print(add_mul('*', 1, -2, 3, 4))  "
   ]
  },
  {
   "cell_type": "markdown",
   "metadata": {},
   "source": [
    "#### 문제 9\n",
    "\n",
    "표준 라이브러리에 있는 `sorted` 함수는 숫자와 문자열이 섞여있는 list에 대해서는 아래에서 보듯이 에러를 발생합니다. "
   ]
  },
  {
   "cell_type": "code",
   "execution_count": 10,
   "metadata": {},
   "outputs": [
    {
     "ename": "TypeError",
     "evalue": "'<' not supported between instances of 'str' and 'float'",
     "output_type": "error",
     "traceback": [
      "\u001b[1;31m---------------------------------------------------------------------------\u001b[0m",
      "\u001b[1;31mTypeError\u001b[0m                                 Traceback (most recent call last)",
      "\u001b[1;32m<ipython-input-10-7c3af01e3b9f>\u001b[0m in \u001b[0;36m<module>\u001b[1;34m\u001b[0m\n\u001b[1;32m----> 1\u001b[1;33m \u001b[0msorted\u001b[0m\u001b[1;33m(\u001b[0m\u001b[1;33m(\u001b[0m\u001b[1;36m23\u001b[0m\u001b[1;33m,\u001b[0m \u001b[1;36m41.78\u001b[0m\u001b[1;33m,\u001b[0m \u001b[1;34m\"aa\"\u001b[0m\u001b[1;33m,\u001b[0m \u001b[1;36m88\u001b[0m\u001b[1;33m,\u001b[0m \u001b[1;36m0\u001b[0m\u001b[1;33m,\u001b[0m \u001b[1;34m'How'\u001b[0m\u001b[1;33m,\u001b[0m \u001b[1;34m\"I am OK\"\u001b[0m\u001b[1;33m,\u001b[0m \u001b[1;36m990\u001b[0m\u001b[1;33m,\u001b[0m\u001b[1;36m2\u001b[0m\u001b[1;33m,\u001b[0m \u001b[1;33m-\u001b[0m\u001b[1;36m22\u001b[0m\u001b[1;33m,\u001b[0m \u001b[1;33m-\u001b[0m\u001b[1;36m3.22\u001b[0m\u001b[1;33m)\u001b[0m\u001b[1;33m)\u001b[0m\u001b[1;33m\u001b[0m\u001b[1;33m\u001b[0m\u001b[0m\n\u001b[0m",
      "\u001b[1;31mTypeError\u001b[0m: '<' not supported between instances of 'str' and 'float'"
     ]
    }
   ],
   "source": [
    "sorted((23, 41.78, \"aa\", 88, 0, 'How', \"I am OK\", 990,2, -22, -3.22))"
   ]
  },
  {
   "cell_type": "markdown",
   "metadata": {},
   "source": [
    "그래서, 이제 list에 숫자(복소수는 제외), 문자열 및 다른 자료형이 섞여있어도 동작하는 `sorted_ext` 함수를 여러분이 만드는데, 다음과 같이 동작해야 합니다:\n",
    "\n",
    "- 숫자는 문자열에 비해 순서가 앞섭니다.\n",
    "- 숫자와, 문자열들 내에서의 순서는 표준라이브러리의 `sorted` 에서와 같습니다.\n",
    "- 숫자와 문자열외의 다른 자료형들은 결과에서 제외시킵니다. \n",
    "- 힌트 :\n",
    "  - `isinstance(\"abc\", str)`   :   \"abc\"가 string(문자열)인가를 test. 이 경우는 `True` 이죠. \n",
    "  - `isinstance(x, (int, float)) and not isinstance(x, bool)`  : 변수 `x`가 숫자이면 `True`, 아니면 `False`  \n",
    "  \n",
    "실행 예)\n",
    "\n",
    "    a_lst = [ 1, -3.21, 'i am OK', \"너 뭐하니?\", 58, (\"she\", 32.22, \"fine\"), -12+2j, \n",
    "             {'kim':32, 'lee':21}, 1, 4, 'what', 55, 'aaa', 3.323288e-2 ]  일 때 \n",
    "\n",
    "    sorted_ext(a_lst) 결과가 \n",
    "    [-3.21, 0.03323288, 1, 1, 4, 55, 58, 'aaa', 'i am OK', 'what', '너 뭐하니?']\n"
   ]
  },
  {
   "cell_type": "code",
   "execution_count": null,
   "metadata": {},
   "outputs": [],
   "source": [
    "a_lst = [ 1, -3.21, 'i am OK', \"너 뭐하니?\", 58, (\"she\", 32.22, \"fine\"), -12+2j, \n",
    "         {'kim':32, 'lee':21}, 1, 4, 'what', 55, 'aaa', 3.323288e-2 ]\n",
    "def sorted_ext(arr) :\n",
    "    num_list = []\n",
    "    str_list = []\n",
    "    for a in arr :\n",
    "        if isinstance(a, (int, float)) :\n",
    "            num_list.append(a)\n",
    "        elif isinstance(a,str) :\n",
    "            str_list.append(a)\n",
    "    return sorted(num_list) + sorted(str_list)\n",
    "print(sorted_ext(a_lst))\n",
    "        "
   ]
  },
  {
   "cell_type": "markdown",
   "metadata": {},
   "source": [
    "#### 문제 10.   \n",
    "\n",
    "두개의 딕셔너리 dic_1, dic_2 가 있습니다. 이 두 개의 딕셔너리들의 키는 'kim', 'lee'와 같은 문자열로 된 이름이고, 값들은 숫자입니다.   \n",
    "\n",
    "예)    \n",
    "dic_1 = {'kim': 55, 'lee': 75, 'park': 53, 'choi': 64, 'yun': 99}  \n",
    "dic_2 = {'hwang': 71, 'chung': 68, 'park': 63, 'choi': 64, 'yun': 47, 'kim': 58,} \n",
    "\n",
    "우리는 이 두 딕셔너리들을 통합하고 싶습니다.  그러다 보면 같은 키를 갖는 item 들이 있을 것인데 이 item들은 통합된 딕셔너리에 한 개만 있어야 하고 해당 값은 원래의 **두 딕셔너리에 있던 값 중 큰 값을 갖아야 합니다.**  통합된 딕셔너리가 dic_1 이 되도록 하세요.  함수로 만들지 않아도 됩니다.     \n",
    "\n",
    "통합 후 dic_1 이 다음과 같아야 합니다 :   \n",
    "{'kim': 58, 'lee': 75, 'park': 63, 'choi': 64, 'yun': 99, 'hwang': 71, 'chung': 68}"
   ]
  },
  {
   "cell_type": "code",
   "execution_count": null,
   "metadata": {},
   "outputs": [],
   "source": [
    "dic_1 = {'kim': 55, 'lee': 75, 'park': 53, 'choi': 64, 'yun': 99}\n",
    "dic_2 = {'hwang': 71, 'chung': 68, 'park': 63, 'choi': 64, 'yun': 47, 'kim': 58,}\n",
    "for key in dic_2.keys() :\n",
    "    if dic_1.get(key) :\n",
    "        dic_1[key] = max(dic_1[key], dic_2[key])\n",
    "    else :\n",
    "        dic_1[key] = dic_2[key]\n",
    "print(dic_1)"
   ]
  }
 ],
 "metadata": {
  "kernelspec": {
   "display_name": "Python 3",
   "language": "python",
   "name": "python3"
  },
  "language_info": {
   "codemirror_mode": {
    "name": "ipython",
    "version": 3
   },
   "file_extension": ".py",
   "mimetype": "text/x-python",
   "name": "python",
   "nbconvert_exporter": "python",
   "pygments_lexer": "ipython3",
   "version": "3.8.5"
  }
 },
 "nbformat": 4,
 "nbformat_minor": 2
}
