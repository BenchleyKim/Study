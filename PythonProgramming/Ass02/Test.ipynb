{
 "cells": [
  {
   "cell_type": "code",
   "execution_count": null,
   "metadata": {},
   "outputs": [],
   "source": [
    "import Car \n",
    "\n",
    "print(\"Use Case 1 \")\n",
    "sonata = Car.Sonata(\"new\")\n",
    "sonata.move(50)\n",
    "sonata.show_dash()\n",
    "sonata.ride(2)\n",
    "sonata.move(450)\n",
    "sonata.show_dash()\n",
    "sonata.fill(35)\n",
    "sonata.move(140)\n",
    "sonata.ride(-1)\n",
    "sonata.move(100)\n",
    "sonata.show_dash()\n",
    "print(\"\\n\\n\")\n",
    "print(\"Use Case 2 \")\n",
    "\n",
    "bongo = Car.Bongo(\"old\")\n",
    "bongo.fill(20)\n",
    "bongo.load(600)\n",
    "bongo.move(120)\n",
    "bongo.show_dash()\n",
    "bongo.fill(30)\n",
    "bongo.move(240)\n",
    "bongo.show_dash()\n",
    "bongo.load(-200)\n",
    "bongo.move(30)\n",
    "bongo.show_dash()"
   ]
  }
 ],
 "metadata": {
  "kernelspec": {
   "display_name": "Python 3",
   "language": "python",
   "name": "python3"
  },
  "language_info": {
   "codemirror_mode": {
    "name": "ipython",
    "version": 3
   },
   "file_extension": ".py",
   "mimetype": "text/x-python",
   "name": "python",
   "nbconvert_exporter": "python",
   "pygments_lexer": "ipython3",
   "version": "3.8.5"
  }
 },
 "nbformat": 4,
 "nbformat_minor": 4
}
