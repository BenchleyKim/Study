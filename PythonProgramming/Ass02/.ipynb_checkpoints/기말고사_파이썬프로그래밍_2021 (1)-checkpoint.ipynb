{
 "cells": [
  {
   "cell_type": "markdown",
   "metadata": {},
   "source": [
    "<h3><center>파이썬프로그래밍 기말고사</center></h3>\n",
    "<div style=\"text-align: right\"> 2021. 06. 10 </div>\n",
    "\n",
    "아래에 이름과 학번을 기입하세요:    \n",
    " - 이름 :    \n",
    " - 학번 :     \n",
    " \n",
    "---------------------------------------------------------------------\n",
    "\n",
    "쇼핑 경험을 생각해 봅시다.  쇼핑을 하는 사람(shopper)는 시장 이곳 저곳을 보며 장바구니(shopping_bag)에 상품(product)들을 담죠. 여러분은 이 시험에서 이런 쇼핑 경험을 `Shopper, Product` 클래스 2 개를 중심으로 구현해야 합니다.  \n",
    "\n",
    "이 2개의 클래스 성격은 개략적으로 다음과 같습니다:\n",
    "- `Shopper`는 쇼핑하는 사람입니다\n",
    "  - 이름(name), 주소(address), 잔고(balance), 그리고 장바구니(shopping_bag)를 고유 속성으로 지니고 있어요. \n",
    "  - shopper(쇼핑객)이 상품(product)들을 장바구니(shopping_bag)에 담을 때, 그 때마다 이미 장바구니에 있는 상품들과 새롭게 담으려는 상품을 포함한 상품들의 총액이 새롭게 계산됩니다.  그리고, 만약 이 상품 총액이 쇼핑객의 잔고(balance)를 초과하면 경고를 주고 그 상품을 장바구니에 담지 않습니다. 상품 총액이 balance보다 작으면 상품을 shopping_bag에 담고요 (즉, shopping_bag에 있는 상품들의 총액이 balance보다 작아야 합니다) \n",
    "\n",
    "- `Product`는 상품을 나타내는 Base 클래스입니다.   \n",
    "   - sku(상품분류기호)와 price(가격) 을 고유 속성으로 갖고 있습니다.  \n"
   ]
  },
  {
   "cell_type": "markdown",
   "metadata": {},
   "source": [
    "***배점 : 다섯 문제가 있는데 1, 2, 3, 4번 문제들을 합하여 전체의 50%, 5번 문제가 50% 입니다***\n",
    "\n",
    "\n",
    "#### 문제 1.\n",
    "\n",
    "다음 특성을 지니는 `Shopper` 클래스를 만드세요 : \n",
    "\n",
    "- 이 클래스는 고유 속성으로 `name, address, balance, shopping_bag`를 지닙니다.  이 클래스는 `name, address, balance` 를 인자로 받아 객체 인스턴스를 생성합니다.  `name, address`는 string 이고, `balance`는 숫자입니다. 인스턴스 생성 시에 `shopping_bag`는 빈 리스트입니다.\n",
    "\n",
    "- 이 클래스의 인스턴스를 실행하면, 인스턴스의 `name, address, balance`를 출력하도록 하세요.  \n",
    "\n",
    "실행 예:\n",
    "    \n",
    "    # 인자 순서 :  name, address, balance \n",
    "    shopper_lee = Shopper(\"Lee Ji In\", \"Jang Choong Dong 32, Seoul\", 250000)   # shopper_lee 생성\n",
    "    shopper_lee\n",
    "    \n",
    "    [출력]: The shopper 'Lee Ji In' lives at 'Jang Choong Dong 32, Seoul', and has balance 250000\n",
    "    \n",
    "- 위의 `실행 예` 대로 `shopper_lee` 인스턴스 객체를 생성하고 실행하세요. (`실행 예` 같이 출력이 나와야 합니다)"
   ]
  },
  {
   "cell_type": "code",
   "execution_count": null,
   "metadata": {
    "scrolled": true
   },
   "outputs": [],
   "source": [
    "# pass를 지우고, Shopper 클래스를 코딩하세요 : \n",
    "class Shopper :\n",
    "    pass\n",
    "    "
   ]
  },
  {
   "cell_type": "markdown",
   "metadata": {},
   "source": [
    "#### 문제 2.\n",
    "\n",
    "다음 특성을 지니는 `Product` 클래스를 만드세요 : \n",
    "\n",
    "- 이 클래스는 고유 속성으로 `sku`(상품분류기호)와 `price`(가격) 을 갖고 있습니다.  `sku`는 string이고 `price`는 숫자입니다.\n",
    "\n",
    "- 이 클래스로 직접 인스턴스를 생성하지는 않습니다. (이 클래스의 서브클래스를 이용해 개별 상품 인스턴스들이 생성됩니다)\n"
   ]
  },
  {
   "cell_type": "code",
   "execution_count": 2,
   "metadata": {},
   "outputs": [],
   "source": [
    "# pass를 지우고, Product 클래스를 코딩하세요 : \n",
    "class Product:\n",
    "    pass\n",
    "            "
   ]
  },
  {
   "cell_type": "markdown",
   "metadata": {},
   "source": [
    "#### 문제 3.\n",
    "\n",
    "다음 특성을 지니는 `Book` 클래스를 만드세요 : \n",
    "\n",
    "- 이 클래스는 `Product` 클래스의 **서브클래스입니다**.  \n",
    "\n",
    "- `Product` 클래스의 속성에 추가하여, `Book` 클래스는 `title`(책이름), `author`(저자), `publisher`(출판사)를 속성으로 갖습니다.\n",
    "- 또한, `desc` 를 속성으로 갖는데, 그 책에 대한 전반적 소개를 담습니다.  `desc` 는 값을 가질 수도 있고 또는 공란(빈 스트링)일 수도 있습니다. \n",
    "- `title`, `publisher`, `author`, `desc` 는 모두 string 입니다. \n",
    "- Book 인스턴스를 실행하면 `title, author, price` 가 반환되어야 합니다.  \n",
    "- `getDescription` 인스턴스 메소드를 갖습니다.  이 메소드는 그 책의 `sku`를 제외한 모든 속성들 (`title`, `publisher`, `author`, `price`, `desc`) 들을 적당히 출력합니다. \n",
    "\n",
    "실행 예:\n",
    "\n",
    "    book_desc = \"Frank Herbert’s classic masterpiece—a triumph of the imagination and one of the bestselling \\\n",
    "    science fiction novels of all time.\"\n",
    "    \n",
    "    # Book 생성자의 인자 순서: sku, price, title, author, publisher, desc\n",
    "    dune = Book(\"sf1963\", 9500, \"dune\", \"Frank Herbert\", \"Ace Pub.\", book_desc)\n",
    "\n",
    "    dune\n",
    "    [출력]: book title: 'dune', author: 'Frank Herbert', and price: 9500\n",
    "\n",
    "    dune.getDescription()\n",
    "    [출력]: book title: 'dune', author: 'Frank Herbert', and price: 9500 by the publisher `Ace Pub`\n",
    "\n",
    "     Frank Herbert’s classic masterpiece—a triumph of the imagination and one of the bestselling  science fiction novels of all time.\n",
    "\n",
    "- `실행 예`와 같이 인스턴스 객체를 만들고 실행하세요 "
   ]
  },
  {
   "cell_type": "code",
   "execution_count": 3,
   "metadata": {},
   "outputs": [],
   "source": [
    "# pass를 지우고, Book 클래스를 코딩하세요 :\n",
    "class Book(Product):\n",
    "    pass "
   ]
  },
  {
   "cell_type": "markdown",
   "metadata": {},
   "source": [
    "아래 몇 개 셀들은 여러분의 이해를 돕기위해, `Book` 클래스가 구현되었을 때의 실행 예입니다:"
   ]
  },
  {
   "cell_type": "code",
   "execution_count": 4,
   "metadata": {},
   "outputs": [],
   "source": [
    "book_desc = \"Frank Herbert’s classic masterpiece—a triumph of the imagination and one of the bestselling \\\n",
    "science fiction novels of all time.\"\n",
    "\n",
    "dune = Book(\"sf1963\", 9500, \"dune\", \"Frank Herbert\", \"Ace Pub\", book_desc)"
   ]
  },
  {
   "cell_type": "code",
   "execution_count": 5,
   "metadata": {},
   "outputs": [
    {
     "data": {
      "text/plain": [
       "book title: 'dune', author: 'Frank Herbert', and price: 9500"
      ]
     },
     "execution_count": 5,
     "metadata": {},
     "output_type": "execute_result"
    }
   ],
   "source": [
    "dune"
   ]
  },
  {
   "cell_type": "code",
   "execution_count": 6,
   "metadata": {
    "scrolled": true
   },
   "outputs": [
    {
     "name": "stdout",
     "output_type": "stream",
     "text": [
      "book title: 'dune', author: 'Frank Herbert', and price: 9500 by the publisher `Ace Pub`\n",
      "\n",
      "Frank Herbert’s classic masterpiece—a triumph of the imagination and one of the bestselling science fiction novels of all time.\n"
     ]
    }
   ],
   "source": [
    "dune.getDescription()"
   ]
  },
  {
   "cell_type": "markdown",
   "metadata": {},
   "source": [
    "#### 문제 4.\n",
    "\n",
    "다음 특성을 지니는 `Trousers`(바지) 클래스를 만드세요 : \n",
    "\n",
    "- 이 클래스는 `Product` 클래스의 서브클래스입니다.  \n",
    "\n",
    "- `Product` 클래스의 속성에 추가하여, `Trousers` 클래스는 `gender`(성별), `maker`(생산자), `size`(길이)를 속성으로 갖습니다.\n",
    "- 또한, `desc` 를 속성으로 갖는데, 그 바지에 대한 전반적 소개를 담습니다.  `desc` 는 값을 가질 수도 있고 또는 공란(빈 스트링)일 수도 있습니다. \n",
    "- `gender`, `maker, desc` 는 string 이고, `size`는 숫자입니다.  \n",
    "- `getDescription` 메소드를 갖습니다.  이 메소드는 그 바지의 특성을 적절히 출력합니다 (이 출력 형태는 여러분이 좋은 대로 하세요)  \n",
    "\n",
    "실행 예:\n",
    "\n",
    "    desc = \"편안한 실루엣과 멋진 스타일로 시원하게 여름을 \\\n",
    "    날 수 있는 아주 괜찮은 팬츠입니다\"\n",
    "    \n",
    "    # Trousers 생성자의 인자 순서: sku, price, gender, maker, size, desc\n",
    "    린넨밴딩팬츠 = Trousers(\"tr_linen_342w\", 45000, \"여성\", \"지고다노아\", 30, desc )\n",
    "\n",
    "    린넨밴딩팬츠.getDescription()\n",
    "\n",
    "    [출력]: 이 바지는 여성용으로 길이는 30, 가격은 45000 입니다\n",
    "\n",
    "    편안한 실루엣과 멋진 스타일로 시원하게 여름을 날 수 있는 아주 괜찮은 팬츠입니다\n",
    "\n",
    "- `실행 예`와 같이 인스턴스 객체를 만들고 `getDescription()` 메소드를 실행하세요 "
   ]
  },
  {
   "cell_type": "code",
   "execution_count": 7,
   "metadata": {},
   "outputs": [],
   "source": [
    "# pass를 지우고, Trousers 클래스를 코딩하세요 :\n",
    "class Trousers(Product):\n",
    "    pass"
   ]
  },
  {
   "cell_type": "markdown",
   "metadata": {},
   "source": [
    "아래 셀은 여러분의 이해를 돕기위해, `Trousers` 클래스가 구현되었을 때의 실행 예입니다:"
   ]
  },
  {
   "cell_type": "code",
   "execution_count": 8,
   "metadata": {},
   "outputs": [
    {
     "name": "stdout",
     "output_type": "stream",
     "text": [
      "이 바지는 여성용으로 길이는 30, 가격은 45000 입니다\n",
      "\n",
      "편안한 실루엣과 멋진 스타일로 시원하게 여름을 날 수 있는 아주 괜찮은 팬츠입니다\n"
     ]
    }
   ],
   "source": [
    "desc = \"편안한 실루엣과 멋진 스타일로 시원하게 여름을 \\\n",
    "날 수 있는 아주 괜찮은 팬츠입니다\"\n",
    "\n",
    "린넨밴딩팬츠 = Trousers(\"tr_linen_342w\", 45000, \"여성\", \"지고다노아\", 30, desc )\n",
    "\n",
    "린넨밴딩팬츠.getDescription()"
   ]
  },
  {
   "cell_type": "markdown",
   "metadata": {},
   "source": [
    "-----------------------------------------------\n",
    "\n",
    "여기까지 그리 어려움 없이 할 수 있었을 것입니다.\n",
    "\n",
    "현재, `Shopper, Book, Trousers` 들의 인스턴스가 각각 1개씩 생성되어 있을 것입니다.  \n",
    "\n",
    "이제 다시 `Shopper` 클래스로 돌아가, 그가 상품을 사는 행위를 구현해 봅니다.\n",
    "\n",
    "#### 문제 5.\n",
    "\n",
    "이 문제에서는 `Shopper` 의 인스턴스가 지닌 `shopping_bag` 인스턴스 변수를 중심으로 코딩이 전개됩니다. 쇼핑객이 자신이 고른 상품을 `shopping_bag`에 넣는 행위가 이루어지죠.  `shopping_bag` 인스턴스 변수는 `Shopper` 의 인스턴스가 생성될 때 '빈 리스트'로 시작함을 상기하세요. \n",
    "\n",
    "**앞의 `Shopper` 클래스에 추가로 구현할 메소드** (그냥 앞의 Shopper 클래스를 카피해서 다시 정의하는 것이 편할거예요):\n",
    "\n",
    "- `total_bag(self)` : 현재 shopping_bag에 들어 있는 상품들의 **총액**을 계산해 return 합니다. \n",
    "\n",
    "- `put_bag(self, product, number)` : \n",
    "  - product을 number개 만큼 shopping_bag에 넣으려는 행위입니다. 넣으려고 할 때마다 shopping_bag 에 있게되는 상품들의 총액을 계산해서 그 액수가 balance보다 작을 때 product을 shopping_bag 에 넣습니다. \n",
    "  - balance를 초과하면 경고를 주고, 해당 상품을 쇼핑백에 넣지 않습니다. - \n",
    "  단일 상품을 여러개 shopping_bag에 넣을 때는 갯수만큼 product를 넣으세요.  \n",
    "  - (다음은 구현하지 않아도 됩니다: `예상 ballance(잔고)` 리턴.  예상 잔고는 현재 shopping_bag에 넣어져 있는 상품들을 구매했을 경우의 balance)  \n",
    "         \n",
    "- `purchase(self)` : 현재 shopping_bag에 있는 상품들을 구매하는 것으로, **출력**이 있습니다. 출력으로 **누가 어떤 상품들을 구매하였는 지 보여주고, 현재 남은 balance**도 보여줍니다.  현재 남은 balance는 원래 있던 balance에서 shopping_bag에 있는 상품들의 총액을 뺀 값입니다.  출력 형태는 아래의 출력을 참고하되, 여러분이 적당히 보기 좋게 바꾸어도 됩니다.  \n",
    "\n",
    "<span style='color:crimson'> **[필수]**</span> : `Shopper` 클래스를 재 정의 하였기에, 위에서 생성한 `Shopper`의 인스턴스를 다시 만들어주어야 합니다. "
   ]
  },
  {
   "cell_type": "code",
   "execution_count": 9,
   "metadata": {},
   "outputs": [],
   "source": [
    "# pass를 지우고, Shopper 클래스를 다시 코딩하세요 :\n",
    "class Shopper :\n",
    "    pass"
   ]
  },
  {
   "cell_type": "markdown",
   "metadata": {},
   "source": [
    "#### 다음 셀들은 `Shopper` 클래스가 다시 잘 정의되었을 시의 실행 예입니다."
   ]
  },
  {
   "cell_type": "code",
   "execution_count": 10,
   "metadata": {},
   "outputs": [
    {
     "data": {
      "text/plain": [
       "The shopper 'Lee Ji In' lives at 'Jang Choong Dong 32, Seoul', and has balance 250000"
      ]
     },
     "execution_count": 10,
     "metadata": {},
     "output_type": "execute_result"
    }
   ],
   "source": [
    "shopper_lee = Shopper(\"Lee Ji In\", \"Jang Choong Dong 32, Seoul\", 250000)\n",
    "shopper_lee"
   ]
  },
  {
   "cell_type": "code",
   "execution_count": 11,
   "metadata": {},
   "outputs": [
    {
     "data": {
      "text/plain": [
       "([], 250000)"
      ]
     },
     "execution_count": 11,
     "metadata": {},
     "output_type": "execute_result"
    }
   ],
   "source": [
    "shopper_lee.shopping_bag, shopper_lee.balance  # 초기에 "
   ]
  },
  {
   "cell_type": "code",
   "execution_count": 12,
   "metadata": {},
   "outputs": [
    {
     "data": {
      "text/plain": [
       "(45000, 9500)"
      ]
     },
     "execution_count": 12,
     "metadata": {},
     "output_type": "execute_result"
    }
   ],
   "source": [
    "린넨밴딩팬츠.price, dune.price"
   ]
  },
  {
   "cell_type": "markdown",
   "metadata": {},
   "source": [
    "다음은 `put_bag` 메소드를 실행한 예입니다.  이 메소드는 `예상 ballance(잔고)` 를 반환합니다. "
   ]
  },
  {
   "cell_type": "code",
   "execution_count": 13,
   "metadata": {},
   "outputs": [
    {
     "data": {
      "text/plain": [
       "115000"
      ]
     },
     "execution_count": 13,
     "metadata": {},
     "output_type": "execute_result"
    }
   ],
   "source": [
    "estimated_balance = shopper_lee.put_bag(린넨밴딩팬츠, 3)\n",
    "estimated_balance\n"
   ]
  },
  {
   "cell_type": "code",
   "execution_count": 14,
   "metadata": {},
   "outputs": [
    {
     "data": {
      "text/plain": [
       "115000"
      ]
     },
     "execution_count": 14,
     "metadata": {},
     "output_type": "execute_result"
    }
   ],
   "source": [
    "# 확인 \n",
    "shopper_lee.balance - 린넨밴딩팬츠.price * 3"
   ]
  },
  {
   "cell_type": "code",
   "execution_count": 15,
   "metadata": {},
   "outputs": [
    {
     "data": {
      "text/plain": [
       "([<__main__.Trousers at 0x1f3441b8c88>,\n",
       "  <__main__.Trousers at 0x1f3441b8c88>,\n",
       "  <__main__.Trousers at 0x1f3441b8c88>],\n",
       " 250000)"
      ]
     },
     "execution_count": 15,
     "metadata": {},
     "output_type": "execute_result"
    }
   ],
   "source": [
    "shopper_lee.shopping_bag, shopper_lee.balance   # 구매가 발생하지 않았기에 실제 balance에는 반영되지 않음. "
   ]
  },
  {
   "cell_type": "code",
   "execution_count": 16,
   "metadata": {},
   "outputs": [
    {
     "data": {
      "text/plain": [
       "105500"
      ]
     },
     "execution_count": 16,
     "metadata": {},
     "output_type": "execute_result"
    }
   ],
   "source": [
    "estimated_balance = shopper_lee.put_bag(dune, 1)\n",
    "estimated_balance"
   ]
  },
  {
   "cell_type": "code",
   "execution_count": 17,
   "metadata": {},
   "outputs": [
    {
     "data": {
      "text/plain": [
       "105500"
      ]
     },
     "execution_count": 17,
     "metadata": {},
     "output_type": "execute_result"
    }
   ],
   "source": [
    "# 체크 :\n",
    "shopper_lee.balance - 린넨밴딩팬츠.price * 3 - dune.price * 1"
   ]
  },
  {
   "cell_type": "code",
   "execution_count": 18,
   "metadata": {},
   "outputs": [
    {
     "data": {
      "text/plain": [
       "([<__main__.Trousers at 0x1f3441b8c88>,\n",
       "  <__main__.Trousers at 0x1f3441b8c88>,\n",
       "  <__main__.Trousers at 0x1f3441b8c88>,\n",
       "  book title: 'dune', author: 'Frank Herbert', and price: 9500],\n",
       " 250000)"
      ]
     },
     "execution_count": 18,
     "metadata": {},
     "output_type": "execute_result"
    }
   ],
   "source": [
    "shopper_lee.shopping_bag, shopper_lee.balance"
   ]
  },
  {
   "cell_type": "markdown",
   "metadata": {},
   "source": [
    "추가로 dune 10권 쇼핑백에 담음"
   ]
  },
  {
   "cell_type": "code",
   "execution_count": 19,
   "metadata": {},
   "outputs": [
    {
     "data": {
      "text/plain": [
       "10500"
      ]
     },
     "execution_count": 19,
     "metadata": {},
     "output_type": "execute_result"
    }
   ],
   "source": [
    "estimated_balance = shopper_lee.put_bag(dune, 10)\n",
    "estimated_balance"
   ]
  },
  {
   "cell_type": "code",
   "execution_count": 20,
   "metadata": {},
   "outputs": [
    {
     "data": {
      "text/plain": [
       "10500"
      ]
     },
     "execution_count": 20,
     "metadata": {},
     "output_type": "execute_result"
    }
   ],
   "source": [
    "shopper_lee.balance - 린넨밴딩팬츠.price * 3 - dune.price * 1 - dune.price * 10  # 확인 "
   ]
  },
  {
   "cell_type": "markdown",
   "metadata": {},
   "source": [
    "추가로 린넨밴딩팬츠 5벌 쇼핑백에 넣음.  잔고가 부족해야 함 "
   ]
  },
  {
   "cell_type": "code",
   "execution_count": 21,
   "metadata": {},
   "outputs": [
    {
     "name": "stdout",
     "output_type": "stream",
     "text": [
      "이 상품을 구매하면 잔고가 부족합니다. 이 상품을 shopping bag에 넣지 않겠습니다\n"
     ]
    },
    {
     "data": {
      "text/plain": [
       "10500"
      ]
     },
     "execution_count": 21,
     "metadata": {},
     "output_type": "execute_result"
    }
   ],
   "source": [
    "estimated_balance = shopper_lee.put_bag(린넨밴딩팬츠, 5)\n",
    "estimated_balance"
   ]
  },
  {
   "cell_type": "code",
   "execution_count": 22,
   "metadata": {},
   "outputs": [
    {
     "name": "stdout",
     "output_type": "stream",
     "text": [
      "Lee Ji In has 14 items with the total 239500 in the shopping bag. They are:\n",
      "\n",
      "이 바지는 여성용으로 길이는 30, 가격은 45000 입니다\n",
      "\n",
      "편안한 실루엣과 멋진 스타일로 시원하게 여름을 날 수 있는 아주 괜찮은 팬츠입니다\n",
      "-------------\n",
      "이 바지는 여성용으로 길이는 30, 가격은 45000 입니다\n",
      "\n",
      "편안한 실루엣과 멋진 스타일로 시원하게 여름을 날 수 있는 아주 괜찮은 팬츠입니다\n",
      "-------------\n",
      "이 바지는 여성용으로 길이는 30, 가격은 45000 입니다\n",
      "\n",
      "편안한 실루엣과 멋진 스타일로 시원하게 여름을 날 수 있는 아주 괜찮은 팬츠입니다\n",
      "-------------\n",
      "book title: 'dune', author: 'Frank Herbert', and price: 9500 by the publisher `Ace Pub`\n",
      "\n",
      "Frank Herbert’s classic masterpiece—a triumph of the imagination and one of the bestselling science fiction novels of all time.\n",
      "-------------\n",
      "book title: 'dune', author: 'Frank Herbert', and price: 9500 by the publisher `Ace Pub`\n",
      "\n",
      "Frank Herbert’s classic masterpiece—a triumph of the imagination and one of the bestselling science fiction novels of all time.\n",
      "-------------\n",
      "book title: 'dune', author: 'Frank Herbert', and price: 9500 by the publisher `Ace Pub`\n",
      "\n",
      "Frank Herbert’s classic masterpiece—a triumph of the imagination and one of the bestselling science fiction novels of all time.\n",
      "-------------\n",
      "book title: 'dune', author: 'Frank Herbert', and price: 9500 by the publisher `Ace Pub`\n",
      "\n",
      "Frank Herbert’s classic masterpiece—a triumph of the imagination and one of the bestselling science fiction novels of all time.\n",
      "-------------\n",
      "book title: 'dune', author: 'Frank Herbert', and price: 9500 by the publisher `Ace Pub`\n",
      "\n",
      "Frank Herbert’s classic masterpiece—a triumph of the imagination and one of the bestselling science fiction novels of all time.\n",
      "-------------\n",
      "book title: 'dune', author: 'Frank Herbert', and price: 9500 by the publisher `Ace Pub`\n",
      "\n",
      "Frank Herbert’s classic masterpiece—a triumph of the imagination and one of the bestselling science fiction novels of all time.\n",
      "-------------\n",
      "book title: 'dune', author: 'Frank Herbert', and price: 9500 by the publisher `Ace Pub`\n",
      "\n",
      "Frank Herbert’s classic masterpiece—a triumph of the imagination and one of the bestselling science fiction novels of all time.\n",
      "-------------\n",
      "book title: 'dune', author: 'Frank Herbert', and price: 9500 by the publisher `Ace Pub`\n",
      "\n",
      "Frank Herbert’s classic masterpiece—a triumph of the imagination and one of the bestselling science fiction novels of all time.\n",
      "-------------\n",
      "book title: 'dune', author: 'Frank Herbert', and price: 9500 by the publisher `Ace Pub`\n",
      "\n",
      "Frank Herbert’s classic masterpiece—a triumph of the imagination and one of the bestselling science fiction novels of all time.\n",
      "-------------\n",
      "book title: 'dune', author: 'Frank Herbert', and price: 9500 by the publisher `Ace Pub`\n",
      "\n",
      "Frank Herbert’s classic masterpiece—a triumph of the imagination and one of the bestselling science fiction novels of all time.\n",
      "-------------\n",
      "book title: 'dune', author: 'Frank Herbert', and price: 9500 by the publisher `Ace Pub`\n",
      "\n",
      "Frank Herbert’s classic masterpiece—a triumph of the imagination and one of the bestselling science fiction novels of all time.\n",
      "-------------\n",
      "New balance = 10500\n"
     ]
    }
   ],
   "source": [
    "shopper_lee.purchase()"
   ]
  },
  {
   "cell_type": "code",
   "execution_count": null,
   "metadata": {},
   "outputs": [],
   "source": []
  }
 ],
 "metadata": {
  "kernelspec": {
   "display_name": "Python 3",
   "language": "python",
   "name": "python3"
  },
  "language_info": {
   "codemirror_mode": {
    "name": "ipython",
    "version": 3
   },
   "file_extension": ".py",
   "mimetype": "text/x-python",
   "name": "python",
   "nbconvert_exporter": "python",
   "pygments_lexer": "ipython3",
   "version": "3.7.9"
  }
 },
 "nbformat": 4,
 "nbformat_minor": 4
}
