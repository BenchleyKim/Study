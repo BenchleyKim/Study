{
 "cells": [
  {
   "cell_type": "markdown",
   "metadata": {},
   "source": [
    "\n",
    "## 파이썬프로그래밍 - 과제 2\n",
    "\n",
    "#### 제출 일 : 2021. 04. 16 (금)\n",
    "\n",
    "#### 배점 : 전체 성적에서 15% \n",
    "\n",
    "#### 제출방법 :\n",
    "\n",
    "1. **jupyter notebook** 으로 제출해야 합니다. 이 주피터노트북에 이어서 과제를 진행하세요. 단, 제출하는 주피터노트북 파일명을 `ass2_이름_학번.ipynb` 으로 하세요 (예, \"ass2_성춘향_2018xxxxxx.ipynb\"). \n",
    "2. 제출물 상단에 이름, 학번을 다시 기재합니다.  \n",
    "3. 여러분이 제출한 노트북을 실행하면 제출한 그 상태에서 그대로 실행되어야 합니다. \n",
    "\n",
    "\n",
    "#### <span style='color:crimson'>이 과제는 혼자 하는 것입니다. 다른 사람의 것을 카피하면 점수 못 받습니다</span>  \n",
    "\n",
    "--------------------------\n",
    "\n",
    "### 과제 :\n",
    "\n",
    "- 교재 5장 연습문제 중 7, 11, 13, 18 번 문제\n",
    "- 교재 6장 연습문제 중 3, 9, 11, 16, 22, 24 문제 \n"
   ]
  },
  {
   "cell_type": "markdown",
   "metadata": {},
   "source": [
    "##### 5.7"
   ]
  },
  {
   "cell_type": "code",
   "execution_count": 1,
   "metadata": {},
   "outputs": [],
   "source": [
    "# 위 문제에 대한 답 또는 코딩 :"
   ]
  },
  {
   "cell_type": "code",
   "execution_count": null,
   "metadata": {},
   "outputs": [],
   "source": []
  }
 ],
 "metadata": {
  "kernelspec": {
   "display_name": "Python 3",
   "language": "python",
   "name": "python3"
  },
  "language_info": {
   "codemirror_mode": {
    "name": "ipython",
    "version": 3
   },
   "file_extension": ".py",
   "mimetype": "text/x-python",
   "name": "python",
   "nbconvert_exporter": "python",
   "pygments_lexer": "ipython3",
   "version": "3.8.5"
  }
 },
 "nbformat": 4,
 "nbformat_minor": 4
}
